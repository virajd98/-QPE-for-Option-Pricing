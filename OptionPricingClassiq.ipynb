{
 "cells": [
  {
   "cell_type": "code",
   "execution_count": 2,
   "id": "2f7d4530",
   "metadata": {},
   "outputs": [
    {
     "name": "stdout",
     "output_type": "stream",
     "text": [
      "(1.2354548886696226, 2.8262271398622736)\n"
     ]
    }
   ],
   "source": [
    "import classiq\n",
    "from classiq.applications.finance import log_normal_model_input, model_input\n",
    "\n",
    "num_qubits = 3  #number of qubits will be decided by the number of possible price paths, here we consider 8 possible price paths\n",
    "mu = 0.7\n",
    "sigma = 0.13  \n",
    "\n",
    "# we consider a lognormal distribution of the spot prices with mean and standard deviation defined above\n",
    "log_normal_model = log_normal_model_input.LogNormalModelInput(\n",
    "    num_qubits=num_qubits, mu=mu, sigma=sigma\n",
    ")\n",
    "\n",
    "distribution_range = log_normal_model.distribution_range #gives the upper and lower bound for the spot prices\n",
    "print(distribution_range)"
   ]
  },
  {
   "cell_type": "markdown",
   "id": "2cb67b10",
   "metadata": {},
   "source": [
    "The payoff function to describe for example a European call option will be:\n",
    "\n",
    "$f(S)=\\\n",
    "\\Bigg\\{\\begin{array}{lr}\n",
    "    0, & \\text{when } K\\geq S\\\\\n",
    "    S - K, & \\text{when } K < S\\end{array}\n",
    "$"
   ]
  },
  {
   "cell_type": "code",
   "execution_count": 3,
   "id": "ec65c58b",
   "metadata": {},
   "outputs": [
    {
     "name": "stdout",
     "output_type": "stream",
     "text": [
      "f=<FinanceFunctionType.EUROPEAN_CALL_OPTION: 3> variable='x' condition=FunctionCondition(threshold=1.9, larger=True) polynomial_degree=None use_chebyshev_polynomial_approximation=False tail_probability=None\n"
     ]
    }
   ],
   "source": [
    "from classiq.applications.finance import function_input\n",
    "\n",
    "threshold = 1.9 #this is the strike price taken for the option contract\n",
    "\n",
    "condition = function_input.FunctionCondition(threshold=threshold, larger=True)\n",
    "finance_function = function_input.FinanceFunctionInput(\n",
    "    f=\"european call option\",\n",
    "    condition=condition,\n",
    ")\n",
    "#Here we consider a eurpean call option with a payoff function defined above\n",
    "print(finance_function)"
   ]
  },
  {
   "cell_type": "code",
   "execution_count": 4,
   "id": "c41d3db4",
   "metadata": {},
   "outputs": [],
   "source": [
    "from classiq import construct_finance_model\n",
    "\n",
    "qmod = construct_finance_model(\n",
    "    finance_model_input=log_normal_model,\n",
    "    finance_function_input=finance_function,\n",
    "    phase_port_size=3,\n",
    ")\n",
    "#### Loading the model\n",
    "\n",
    "#Here we are creating defining the logic flow of the quantum algorithm. \n",
    "#In this case, the logic flow includes distribution loading and then the payoff function, which is then plugged into the amplitude estimation algorithm (using phase estimation). \n",
    "# phase_port_size defines the number of qubits used by the QPE algorithm which will set the accuracy of the calculation."
   ]
  },
  {
   "cell_type": "code",
   "execution_count": 11,
   "id": "31b02768",
   "metadata": {},
   "outputs": [],
   "source": [
    "from classiq import Constraints\n",
    "from classiq.synthesis import set_constraints\n",
    "\n",
    "qmod = set_constraints(qmod, constraints=Constraints(max_width=20))\n",
    "#this sets the number of qubits constraint;\n",
    "# print(qmod)"
   ]
  },
  {
   "cell_type": "code",
   "execution_count": 9,
   "id": "9615e5ce",
   "metadata": {},
   "outputs": [
    {
     "name": "stdout",
     "output_type": "stream",
     "text": [
      "{\n",
      "  \"functions\": [\n",
      "    {\n",
      "      \"name\": \"qmci\",\n",
      "      \"param_decls\": {\n",
      "        \"num_phase_qubits\": {\n",
      "          \"kind\": \"int\"\n",
      "        },\n",
      "        \"num_unitary_qubits\": {\n",
      "          \"kind\": \"int\"\n",
      "        }\n",
      "      },\n",
      "      \"port_declarations\": {\n",
      "        \"phase_port\": {\n",
      "          \"name\": \"phase_port\",\n",
      "          \"size\": {\n",
      "            \"expr\": \"num_phase_qubits\"\n",
      "          },\n",
      "          \"direction\": \"output\"\n",
      "        },\n",
      "        \"unitary_port\": {\n",
      "          \"name\": \"unitary_port\",\n",
      "          \"size\": {\n",
      "            \"expr\": \"num_unitary_qubits\"\n",
      "          },\n",
      "          \"direction\": \"output\"\n",
      "        }\n",
      "      },\n",
      "      \"operand_declarations\": {\n",
      "        \"sp_op\": {\n",
      "          \"name\": \"sp_op\",\n",
      "          \"param_decls\": {\n",
      "            \"num_unitary_qubits\": {\n",
      "              \"kind\": \"int\"\n",
      "            }\n",
      "          },\n",
      "          \"port_declarations\": {\n",
      "            \"reg\": {\n",
      "              \"name\": \"reg\",\n",
      "              \"size\": {\n",
      "                \"expr\": \"num_unitary_qubits-1\"\n",
      "              },\n",
      "              \"direction\": \"inout\"\n",
      "            },\n",
      "            \"ind\": {\n",
      "              \"name\": \"ind\",\n",
      "              \"size\": {\n",
      "                \"expr\": \"1\"\n",
      "              },\n",
      "              \"direction\": \"inout\"\n",
      "            }\n",
      "          }\n",
      "        }\n",
      "      },\n",
      "      \"body\": [\n",
      "        {\n",
      "          \"function\": \"amplitude_estimation\",\n",
      "          \"params\": {\n",
      "            \"num_unitary_qubits\": {\n",
      "              \"expr\": \"num_unitary_qubits\"\n",
      "            },\n",
      "            \"num_phase_qubits\": {\n",
      "              \"expr\": \"num_phase_qubits\"\n",
      "            }\n",
      "          },\n",
      "          \"function_params\": {},\n",
      "          \"outputs\": {\n",
      "            \"phase_port\": {\n",
      "              \"name\": \"phase_port\"\n",
      "            },\n",
      "            \"unitary_port\": {\n",
      "              \"name\": \"unitary_port\"\n",
      "            }\n",
      "          },\n",
      "          \"operands\": {\n",
      "            \"oracle_op\": {\n",
      "              \"body\": [\n",
      "                {\n",
      "                  \"function\": \"Z\",\n",
      "                  \"function_params\": {},\n",
      "                  \"inouts\": {\n",
      "                    \"target\": {\n",
      "                      \"name\": \"oq\",\n",
      "                      \"start\": {\n",
      "                        \"expr\": \"num_unitary_qubits-1\"\n",
      "                      },\n",
      "                      \"end\": {\n",
      "                        \"expr\": \"num_unitary_qubits\"\n",
      "                      }\n",
      "                    }\n",
      "                  }\n",
      "                }\n",
      "              ]\n",
      "            },\n",
      "            \"sp_op\": {\n",
      "              \"body\": [\n",
      "                {\n",
      "                  \"function\": \"sp_op\",\n",
      "                  \"params\": {\n",
      "                    \"num_unitary_qubits\": {\n",
      "                      \"expr\": \"num_unitary_qubits\"\n",
      "                    }\n",
      "                  },\n",
      "                  \"function_params\": {},\n",
      "                  \"inouts\": {\n",
      "                    \"reg\": {\n",
      "                      \"name\": \"spq\",\n",
      "                      \"start\": {\n",
      "                        \"expr\": \"0\"\n",
      "                      },\n",
      "                      \"end\": {\n",
      "                        \"expr\": \"num_unitary_qubits-1\"\n",
      "                      }\n",
      "                    },\n",
      "                    \"ind\": {\n",
      "                      \"name\": \"spq\",\n",
      "                      \"start\": {\n",
      "                        \"expr\": \"num_unitary_qubits-1\"\n",
      "                      },\n",
      "                      \"end\": {\n",
      "                        \"expr\": \"num_unitary_qubits\"\n",
      "                      }\n",
      "                    }\n",
      "                  }\n",
      "                }\n",
      "              ]\n",
      "            }\n",
      "          }\n",
      "        }\n",
      "      ]\n",
      "    },\n",
      "    {\n",
      "      \"name\": \"main\",\n",
      "      \"port_declarations\": {\n",
      "        \"phase_port\": {\n",
      "          \"name\": \"phase_port\",\n",
      "          \"size\": {\n",
      "            \"expr\": \"3\"\n",
      "          },\n",
      "          \"direction\": \"output\"\n",
      "        }\n",
      "      },\n",
      "      \"body\": [\n",
      "        {\n",
      "          \"function\": \"qmci\",\n",
      "          \"params\": {\n",
      "            \"num_unitary_qubits\": {\n",
      "              \"expr\": \"3+1\"\n",
      "            },\n",
      "            \"num_phase_qubits\": {\n",
      "              \"expr\": \"3\"\n",
      "            }\n",
      "          },\n",
      "          \"function_params\": {},\n",
      "          \"outputs\": {\n",
      "            \"phase_port\": {\n",
      "              \"name\": \"phase_port\"\n",
      "            }\n",
      "          },\n",
      "          \"operands\": {\n",
      "            \"sp_op\": {\n",
      "              \"body\": [\n",
      "                {\n",
      "                  \"function\": \"log_normal_finance\",\n",
      "                  \"params\": {\n",
      "                    \"finance_model\": {\n",
      "                      \"expr\": \"struct_literal(LogNormalModel, num_qubits=3, mu=0.7, sigma=0.13)\"\n",
      "                    },\n",
      "                    \"finance_function\": {\n",
      "                      \"expr\": \"struct_literal(FinanceFunction, f=FinanceFunctionType.EUROPEAN_CALL_OPTION, threshold=1.9, larger=True, polynomial_degree=0, use_chebyshev_polynomial_approximation=False, tail_probability=0.0)\"\n",
      "                    }\n",
      "                  },\n",
      "                  \"function_params\": {},\n",
      "                  \"inputs\": {\n",
      "                    \"func_port\": {\n",
      "                      \"name\": \"reg\"\n",
      "                    },\n",
      "                    \"obj_port\": {\n",
      "                      \"name\": \"ind\"\n",
      "                    }\n",
      "                  },\n",
      "                  \"outputs\": {\n",
      "                    \"func_port\": {\n",
      "                      \"name\": \"reg\"\n",
      "                    },\n",
      "                    \"obj_port\": {\n",
      "                      \"name\": \"ind\"\n",
      "                    }\n",
      "                  }\n",
      "                }\n",
      "              ]\n",
      "            }\n",
      "          }\n",
      "        }\n",
      "      ]\n",
      "    }\n",
      "  ],\n",
      "  \"classical_execution_code\": \"\\ndef execute_amplitude_estimation(phase_port_size):\\n    result = sample()\\n    estimation = qae_with_qpe_result_post_processing(\\n        estimation_register_size=phase_port_size,\\n        estimation_method=1,\\n        result=result\\n    )\\n    save({\\\"result\\\": result, \\\"estimation\\\": estimation})\\n    return estimation\\n\\nestimation = execute_amplitude_estimation(3)\\nresult = log_normal_finance_post_process(struct_literal(LogNormalModel, num_qubits=3, mu=0.7, sigma=0.13), struct_literal(FinanceFunction, f=FinanceFunctionType.EUROPEAN_CALL_OPTION, threshold=1.9, larger=True, polynomial_degree=0, use_chebyshev_polynomial_approximation=False, tail_probability=0.0), estimation)\\nsave({'result': result})\\n\",\n",
      "  \"constraints\": {\n",
      "    \"max_width\": 20\n",
      "  }\n",
      "}\n"
     ]
    }
   ],
   "source": [
    "# creating a .qmod file and writing the qmod content previously defined on this file.\n",
    "# We can copy the contents of this file and paste it on the classiq synthesis page and then execute our model there or use the synthesize class of classiq sdk (shown below)\n",
    "with open(\"option_pricing.qmod\", \"w\") as f:\n",
    "    f.write(qmod)\n",
    "    \n",
    "print(qmod)"
   ]
  },
  {
   "cell_type": "code",
   "execution_count": 12,
   "id": "dab1bd6f",
   "metadata": {},
   "outputs": [],
   "source": [
    "from classiq import synthesize\n",
    "\n",
    "qprog = synthesize(qmod)"
   ]
  },
  {
   "cell_type": "code",
   "execution_count": 13,
   "id": "ac1c4768",
   "metadata": {},
   "outputs": [
    {
     "name": "stdout",
     "output_type": "stream",
     "text": [
      "Opening: https://platform.classiq.io/circuit/143f2f0a-5d66-43ab-a947-78f64654623b?version=0.31.0\n"
     ]
    }
   ],
   "source": [
    "from classiq import GeneratedCircuit, show\n",
    "\n",
    "show(qprog)"
   ]
  },
  {
   "cell_type": "code",
   "execution_count": 14,
   "id": "66735d7e",
   "metadata": {},
   "outputs": [
    {
     "name": "stdout",
     "output_type": "stream",
     "text": [
      "3102\n"
     ]
    }
   ],
   "source": [
    "from classiq import GeneratedCircuit\n",
    "circuit = GeneratedCircuit.from_qprog(qprog)\n",
    "print(circuit.transpiled_circuit.depth)"
   ]
  },
  {
   "cell_type": "code",
   "execution_count": 15,
   "id": "22daf24c",
   "metadata": {},
   "outputs": [],
   "source": [
    "from classiq import execute\n",
    "\n",
    "results = execute(qprog).result()\n",
    "# print(results)"
   ]
  },
  {
   "cell_type": "code",
   "execution_count": 16,
   "id": "427f0181",
   "metadata": {},
   "outputs": [
    {
     "name": "stdout",
     "output_type": "stream",
     "text": [
      "estimation : 0.37874859780933384\n"
     ]
    }
   ],
   "source": [
    "print(results[1].name, \":\", results[1].value)\n",
    "#this prints out the result estimation of the options price"
   ]
  },
  {
   "cell_type": "code",
   "execution_count": null,
   "id": "cd316b56",
   "metadata": {},
   "outputs": [],
   "source": []
  }
 ],
 "metadata": {
  "kernelspec": {
   "display_name": "Python 3 (ipykernel)",
   "language": "python",
   "name": "python3"
  },
  "language_info": {
   "codemirror_mode": {
    "name": "ipython",
    "version": 3
   },
   "file_extension": ".py",
   "mimetype": "text/x-python",
   "name": "python",
   "nbconvert_exporter": "python",
   "pygments_lexer": "ipython3",
   "version": "3.11.3"
  }
 },
 "nbformat": 4,
 "nbformat_minor": 5
}
