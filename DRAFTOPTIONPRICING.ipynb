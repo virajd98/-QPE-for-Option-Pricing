{
 "cells": [
  {
   "cell_type": "markdown",
   "id": "93ec3d64",
   "metadata": {},
   "source": [
    "# Option Pricing using Quantum Phase Estimation"
   ]
  },
  {
   "cell_type": "markdown",
   "id": "e6ced473",
   "metadata": {},
   "source": [
    "In this demo, we shall go through the steps involved in implementing option pricing using Quantum Phase Estimation. We will be using the classiq software development kit (SDK) for this purpose.\n",
    "\n"
   ]
  },
  {
   "cell_type": "markdown",
   "id": "c85b7d2c",
   "metadata": {},
   "source": [
    "**Theoretical Background:**\n",
    "\n",
    "*Financial options are contracts that give the holder the right (but not the obligation) to buy (call option) or sell (put option) a financial instrument (such as stocks) at a predetermined price (strike) before or at the expiration date.*\n",
    "\n",
    "Let's understand this with a simple example: Suppose an option contract (containing a fixed number of shares of a certain stock) is bought when the underlying stock is worth $X$ with a target/strike price for the stock at $K$ (here $K>X$) and an expiration date of $3$ years. The buyer pays a premium to the seller to purchase this contract. Within these three years, the price of this option changes due to the stochastic nature of the stock prices underlying it. If on or before the period of $3$ years the stock price crosses the threshold of $K$ and reaches the price $S$ ($S$ is called the payoff and here $S>K$) the contract buyer exercises his right to buy the stock at the predetermined target price $Y$. In this process the buyer makes a profit of $S-K$ (minus the premium paid, for net profit). If the stock price remains below $K$ on or before the expiry date, the buyer won't exercise the contract and would suffer a loss of the premium amount paid to the seller.\n",
    "\n",
    "The aim of option pricing is to figure out how much an option will be worth when it reaches its end date in the future.\n",
    "\n",
    "**Expected Pay-off of an Option**\n",
    "The expectation value of the payoff $E_P[f(X)]$ as an average across all prices paths is given by:\n",
    "$$\n",
    "\\mathbb{E}_{\\mathbb{P}}[f(\\mathbf{X})]=\\sum_{i=1}^{M} p_{i} f\\left(\\mathbf{X}_{i}\\right)\n",
    "$$\n",
    "where $p_{i}$ is the probability of realizing the price path $i$. $\\mathbf{X_i}$ is a column vector with $N$ rows (representing $N$ assets in the contract) and indicates a specific price path."
   ]
  },
  {
   "cell_type": "code",
   "execution_count": 128,
   "id": "f2fb019c",
   "metadata": {},
   "outputs": [
    {
     "name": "stdout",
     "output_type": "stream",
     "text": [
      "EXPECTED PAYOFF: 6.125\n"
     ]
    }
   ],
   "source": [
    "import numpy as np\n",
    "\n",
    "#Theoretically calculated expected pay-off\n",
    "\n",
    "probabilities= [0.20, 0.35, 0.25, 0.20] #probabilities of each price paths\n",
    "\n",
    "k=70\n",
    "s0= 50\n",
    "Y= [0.9, 1.5, 1.75, 1.25]  # s0*Y[i] represents the possible price path for i in range(4)\n",
    "\n",
    "pay_off_dist = [probabilities[x] * max(s0 * Y[x]- k , 0) for x in range(len(probabilities))] \n",
    "\n",
    "expected_expectation_value= np.sum(pay_off_dist) #E_P[f(X)]\n",
    "\n",
    "print('EXPECTED PAYOFF:', expected_expectation_value)\n"
   ]
  },
  {
   "cell_type": "markdown",
   "id": "f959e919",
   "metadata": {},
   "source": [
    "Now, we'll utilize classiq SDK to evaluate this using quantum computation.\n",
    "\n",
    "The first step is to install the latest version of classiq if not already working with the latest version."
   ]
  },
  {
   "cell_type": "code",
   "execution_count": null,
   "id": "6fa65bc8",
   "metadata": {
    "scrolled": true
   },
   "outputs": [],
   "source": [
    "pip install -U classiq"
   ]
  },
  {
   "cell_type": "markdown",
   "id": "ece2ce39",
   "metadata": {},
   "source": [
    "The first step is to import all the necessary modules; some of the imported methods would be explained later while being used."
   ]
  },
  {
   "cell_type": "code",
   "execution_count": 129,
   "id": "3df6c301",
   "metadata": {},
   "outputs": [],
   "source": [
    "#Finance Model\n",
    "\n",
    "#importing necessary modules \n",
    "\n",
    "import classiq\n",
    "from classiq.builtin_functions import PiecewiseLinearAmplitudeLoading, PhaseEstimation\n",
    "from classiq import QUInt, Model, synthesize, show, QReg, ControlState, execute,set_constraints\n",
    "from classiq import FunctionGenerator, FunctionLibrary, RegisterUserInput, GeneratedCircuit\n",
    "from classiq.builtin_functions import LinearPauliRotations, StatePreparation\n",
    "from classiq.builtin_functions import XGate, UGate, ZGate\n",
    "from classiq.model import Constraints\n",
    "from classiq.execution import ExecutionDetails\n",
    "import numpy as np\n",
    "import matplotlib.pyplot as plt"
   ]
  },
  {
   "cell_type": "code",
   "execution_count": 26,
   "id": "1a6f1092",
   "metadata": {},
   "outputs": [
    {
     "name": "stderr",
     "output_type": "stream",
     "text": [
      "c:\\Users\\viraj.dsouza\\AppData\\Local\\anaconda3\\Lib\\site-packages\\classiq\\_internals\\authentication\\token_manager.py:88: UserWarning: Overwriting an existing refresh token should only be done if it is compromised. Make sure this operation is necessary, and if not, remove the call to device registration.\n",
      "  warnings.warn(\n"
     ]
    },
    {
     "name": "stdout",
     "output_type": "stream",
     "text": [
      "Your user code: DPNG-SDNC\n",
      "If a browser doesn't automatically open, please visit this URL from any trusted device: https://auth.classiq.io/activate?user_code=DPNG-SDNC\n"
     ]
    }
   ],
   "source": [
    "classiq.authenticate(overwrite= True)"
   ]
  },
  {
   "cell_type": "markdown",
   "id": "d9f8f9b3",
   "metadata": {},
   "source": [
    "The first steps in developing a quantum program in classiq is designing a quantum model- defining the algorithms, its constraints, and our preferences. \n",
    "\n",
    "Classiq platform enables us to build a quantum model at a **functional level** instead of gate level. It has various built-in functions that can be directly used or we could also build our own set of functions. *In Classiq, quantum algorithms are constructed from functions, which are the functional building blocks that implement quantum logic, and the data flow between them.*\n",
    "\n",
    "Once our model is fully defined (the quantum program is described by using the `Model` object in classiq SDK), the next step is to synthesize it. The synthesis steps includes using the synthesize method on a SerializedModel that is received using the method `get_model()` of Model or from the content of .qmod file.\n",
    "\n"
   ]
  },
  {
   "cell_type": "markdown",
   "id": "535bad5a",
   "metadata": {},
   "source": [
    "### Step 1: Preparing all the functional blocks\n",
    "\n",
    "The first function we shall define is the *state preparation* function. \n",
    "\n",
    "The first step involves loading the states into the quantum circuit. The states here are representative of possible option prices a option can take and the probabilities associated with the states represents the probability for a given option price. "
   ]
  },
  {
   "cell_type": "markdown",
   "id": "3173fd0c",
   "metadata": {},
   "source": [
    "#### Defining the state preparation function"
   ]
  },
  {
   "cell_type": "markdown",
   "id": "ae8b1fb7",
   "metadata": {},
   "source": [
    "- The function library is responsible for managing the data structure where all the user-defined functions are stored, as well as storing and managing all the required data. The first step is to create a function library. \n",
    "\n",
    "- All our functions then created will be added to this library and then will be appropraitely called while implementing our algorithm. Instantiating the `FunctionGenerator` class will generate a function with the provided name."
   ]
  },
  {
   "cell_type": "code",
   "execution_count": 130,
   "id": "247388b6",
   "metadata": {},
   "outputs": [],
   "source": [
    "qmci_library = FunctionLibrary()\n",
    "function_generator =  FunctionGenerator(function_name=\"state_loading\")"
   ]
  },
  {
   "cell_type": "markdown",
   "id": "70bf954b",
   "metadata": {},
   "source": [
    "- The inputs and outputs of the function are defined using the `create_inputs()` and `set_outputs()` methods of FunctionGenerator respectively. \n",
    "\n",
    "- `create_inputs()` gets a dictionary as input, where the keys are the input names and the values are QReg type. The function returns a dictionary, where the keys are the input names, and the values are QReg objects of the requested type and size that can be used as an input of an inner function call.\n",
    "\n",
    "- `set_outputs()` gets a dictionary as input, where the keys are the output names and the values are QRegs returned by adding function calls to the FunctionGenerator instance.\n",
    "\n",
    "- The in-built `StatePreparation` function of Classiq generates a quantum program whose output state probabilities are an approximation to the PMF given. For example in the below code, the function prepares 4 states, the probability of state |000> is 0.20174669. "
   ]
  },
  {
   "cell_type": "code",
   "execution_count": 131,
   "id": "f95933fe",
   "metadata": {},
   "outputs": [],
   "source": [
    "sp_num_qubits = 2  \n",
    "\n",
    "#number of possible option prices is equal to 2^{number of qubits}. Here we consider 4 possible option price paths\n",
    "\n",
    "input_dict = function_generator.create_inputs({\"io\": QUInt[sp_num_qubits], \"ind\": QUInt[1]})\n",
    "\n",
    "probabilities= [0.20, 0.35, 0.25, 0.20]\n",
    "\n",
    "#specifying the probabilities of 4 price paths- this has been taken from a log-normal distribution with mean = 0.01 and std_dev = 0.1\n",
    "\n",
    "sp_params = StatePreparation(\n",
    "    probabilities=probabilities, error_metric={\"KL\": {\"upper_bound\": 0.00}}\n",
    ")\n",
    "\n",
    "sp_output = function_generator.StatePreparation(\n",
    "    params=sp_params, strict_zero_ios=False, in_wires={\"IN\": input_dict[\"io\"]})\n",
    "#the in_wires argument soecifies the input register to the StatePreparation operation\n",
    "\n",
    "function_generator.set_outputs({\"io\": sp_output[\"OUT\"], \"ind\": input_dict[\"ind\"]})\n",
    "qmci_library.add_function(function_generator.to_function_definition()) \n",
    "# the last line adds the function \"state_loading\" to the function library that can be later used. \n"
   ]
  },
  {
   "cell_type": "markdown",
   "id": "7e22c1f9",
   "metadata": {},
   "source": [
    "#### Defining the pay-off function block"
   ]
  },
  {
   "cell_type": "markdown",
   "id": "e6cffc9c",
   "metadata": {},
   "source": [
    "The next step is to load the pay-off function for the European Call Option with a specific strike price. For this we create another functional block named 'amp_load'. "
   ]
  },
  {
   "cell_type": "markdown",
   "id": "f1530f79",
   "metadata": {},
   "source": [
    "The payoff function to describe for example a European call option will be:\n",
    "\n",
    "- $f(S)=\\\n",
    "\\Bigg\\{\\begin{array}{lr}\n",
    "    0, & \\text{when } K\\geq S\\\\\n",
    "    S - K, & \\text{when } K < S\\end{array}\n",
    "$\n",
    "\n",
    "This means that the option which was purchased with a target/strike price of $K$ will be profitable only when the future price of the option $S$ exceeds $K$ within the expiry of the option contract.\n",
    "\n",
    "- To load this linear pay-off function, we make use of classiq's inbuilt `PiecewiseLinearAmplitudeLoading` function. The AffineMap object, that has two attributes - offset and slope. For example, AffineMap(offset=a, slope=b) represents $f(x) = a + bx$. In this example $K=70$, hence for all the option prices below this level the payoff is $0$ indicated by the first element of the affine_map argument with offset=slope=0 and for option prices above this level the pay-off $f(s)= s-K$, hence offset= -K and slope=1. \n",
    "\n",
    "**Determining Breakpoints:** From $k=70, s0= 50, Y= [0.9, 1.5, 1.75, 1.25] $, the minimum value the asset can go upto is $0.9*50=45$ and the maximum value the asset can go upto is $1.75*50= 87.5$ and the strike is $70$, hence between 45 and 70, the payoff is $0$ and between 70 and 87.5, the payoff is $S-70$. Thus the breakpoints list would be $[45, 70, 87.5]$\n",
    "\n",
    "- The piecewise linear amplitude loading function performs the following operation:\n",
    "$$\n",
    "|d\\rangle|0\\rangle \\rightarrow \\sqrt{1-\\tilde{f}(d)}|d\\rangle|0\\rangle+\\sqrt{\\tilde{f}(d)}|d\\rangle|1\\rangle\n",
    "$$\n",
    "for any input, $|d\\rangle$, piecewise linear function $f(d)$. Where $\\tilde{f}$ is a normalized and rescaled function of the given $f(d)$ :\n",
    "$$\n",
    "\\tilde{f}(d)=2 \\cdot \\frac{cf(\\phi(d))-f_{\\min }}{f_{\\max }-f_{\\min }}-c+0.5\n",
    "$$\n",
    "and:\n",
    "$$\n",
    "\\phi(d)=x_{\\min }+\\frac{x_{\\max }-x_{\\min }}{2^n-1} d\n",
    "$$\n",
    "$\\boldsymbol{c}$ is the given rescaling factor. $\\boldsymbol{f}_{\\min }, \\boldsymbol{f}_{\\max }$ are the minimal and maximal values of the function in the given domain, and $x_{\\min }, x_{\\max }$ are the boundaries of the domain."
   ]
  },
  {
   "cell_type": "code",
   "execution_count": 132,
   "id": "7606f960",
   "metadata": {},
   "outputs": [],
   "source": [
    "#Amplitude Loading block\n",
    "\n",
    "function_generator = FunctionGenerator(function_name=\"amp_load\")\n",
    "\n",
    "input_dict = function_generator.create_inputs(\n",
    "    {\"io\": QUInt[sp_num_qubits], \"ind\": QUInt[1]}\n",
    ")\n",
    "\n",
    "amplitude_loading_params = PiecewiseLinearAmplitudeLoading(\n",
    "    num_qubits=2,\n",
    "    breakpoints=[45, 70, 87.5],\n",
    "    affine_maps=[{\"offset\": 0, \"slope\": 0}, {\"offset\": -70, \"slope\": 1}])\n",
    "\n",
    "al_output = function_generator.PiecewiseLinearAmplitudeLoading(\n",
    "    params=amplitude_loading_params, strict_zero_ios=False, in_wires={\"state\":input_dict[\"io\"], \"target\": input_dict[\"ind\"]}\n",
    ")\n",
    "\n",
    "# scaled_expectation_value = 0.5  # Probability of 1 after some execution\n",
    "# expectation_value = amplitude_loading_params.compute_expectation_value(\n",
    "#     scaled_expectation_value\n",
    "# )\n",
    "function_generator.set_outputs({\"io\": al_output[\"state\"], \"ind\": al_output[\"target\"]})\n",
    "\n",
    "qmci_library.add_function(function_generator.to_function_definition())"
   ]
  },
  {
   "cell_type": "markdown",
   "id": "71367905",
   "metadata": {},
   "source": [
    "Next, we will bring these two blocks together and define a single function that would represent $\\boldsymbol{A}$. (defined below)"
   ]
  },
  {
   "cell_type": "code",
   "execution_count": 133,
   "id": "71142ffb",
   "metadata": {},
   "outputs": [],
   "source": [
    "qmci_library = FunctionLibrary()\n",
    "function_generator =  FunctionGenerator(function_name=\"state_amp_load\")\n",
    "\n",
    "sp_num_qubits = 2\n",
    "\n",
    "#number of possible option prices is equal to 2^{number of qubits}. Here we consider 4 possible option price paths\n",
    "\n",
    "input_dict = function_generator.create_inputs({\"io\": QUInt[sp_num_qubits], \"ind\": QUInt[1]})\n",
    "probabilities= [0.20, 0.35, 0.25, 0.20]\n",
    "\n",
    "#specifying the probabilities of 4 price paths- this has been taken from a log-normal distribution with mean = 0.01 and std_dev = 0.1\n",
    "\n",
    "sp_params = StatePreparation(\n",
    "    probabilities=probabilities, error_metric={\"KL\": {\"upper_bound\": 0.00}}\n",
    ")\n",
    "\n",
    "sp_output = function_generator.StatePreparation(\n",
    "    params=sp_params, strict_zero_ios=False, in_wires={\"IN\": input_dict[\"io\"]})\n",
    "#the in_wires argument soecifies the input register to the StatePreparation operation\n",
    "\n",
    "amplitude_loading_params = PiecewiseLinearAmplitudeLoading(\n",
    "    num_qubits=2,\n",
    "    breakpoints=[45, 70, 87.5],\n",
    "    affine_maps=[{\"offset\": 0, \"slope\": 0}, {\"offset\": -70, \"slope\": 1}],\n",
    "    rescaling_factor=0.5)\n",
    "\n",
    "al_output = function_generator.PiecewiseLinearAmplitudeLoading(\n",
    "    params=amplitude_loading_params, strict_zero_ios=False, in_wires={\"state\":sp_output[\"OUT\"], \"target\": input_dict[\"ind\"]}\n",
    ")\n",
    "function_generator.set_outputs({\"io\": al_output[\"state\"], \"ind\": al_output[\"target\"]})\n",
    "\n",
    "qmci_library.add_function(function_generator.to_function_definition())"
   ]
  },
  {
   "cell_type": "markdown",
   "id": "13b7698f",
   "metadata": {},
   "source": [
    "Now we're ready to perform Quantum Amplitude Estimation. \n",
    "\n",
    "- Let's say we have a unitary operator $A$ acting on a register of $(n+1)$ qubits such that \n",
    "\n",
    "$\\begin{equation}\n",
    "A \\ket{0}_{n+1}= \\ket{\\Psi}= \\sqrt {1-a}\\ket{\\psi_{0}}_{n}\\ket{0} + \\sqrt{a}\\ket{\\psi_{1}}_{n}\\ket{1} \\end{equation}$\n",
    "\n",
    "where $\\ket{\\psi_{0}}_{n}$ and $\\ket{\\psi_{1}}_{n}$ are some $n$-qubit normalized states and $a\\in [0,1]$ is unknown and with AE we need to efficiently estimate $a$.\n",
    "\n",
    "- We use the Grover Operator defined by $Q= A S_{0} A^{\\dagger} S_{\\ket{\\psi_{0}}}$, where $S_{0}= 1- 2\\ket{0}\\bra{0}$ and $S_{\\ket{\\psi_{0}}}= 1- 2\\ket{\\psi_{0}}\\ket{{0}}\\bra{\\psi_{0}}\\bra{0}$, represent the reflection operators about the state $\\ket{0}$ and the good state $\\ket{\\psi_{0}}$ respectively. \n",
    "\n",
    "- The full action of the operator $Q$ is to rotate the state $A \\ket{0}_{n+1}$ by an angle $2\\theta$ in the $2D$ space spanned by $\\ket{\\psi_{0}}_{n}\\ket{0}$ and $\\ket{\\psi_{1}}_{n}\\ket{1}$, where $a= \\sin^{2}{(\\theta)}$. \n",
    "\n",
    "\n",
    "- The algorithm $A$ in our case consists of both the **stateloading** and the **amplitude loading** part. For an option with payoff $f$, let's suppose the $\\mathcal{A}$ operator creates the following state: \n",
    "\n",
    "$$\\sum_{i=0}^{2^n-1} \\sqrt{1-\\tilde{f}(d_i)} \\sqrt{p_i} |d_i\\rangle|0\\rangle + \\sum_{i=0}^{2^n-1} \\sqrt{\\tilde{f}(d_i)} \\sqrt{p_i} |d_i\\rangle|1\\rangle$$\n",
    "\n",
    "\n",
    "\n",
    "where $d_{i}$ represent the possible values the underlying asset can take and the corresponding probabilities are $p_{i}$. Here we have assumed that the prices can take $2^{n}$ possible values on expiration and on a quantum circuit $n$ qubits can be used to represent all these price paths. Note that from the second term its possible to retrieve the required expectation value.\n",
    "\n",
    "- The probability to find the ancilla qubit in state $|1\\rangle$, is given by $$P_{1} = \\sum_{i=0}^{2^{n}-1} p_{i}\\left(c \\tilde{f}(i)+\\frac{1}{2}\\right)=c (\\frac{2 \\mathbb{E}[f(X)]-f_{\\min }}{f_{\\max }-f_{\\min }})-c+\\frac{1}{2}$$\n",
    "\n",
    "- Thus we could recover $\\mathbb{E}[\\max (0, i-K)]$ from $P_{1}$ up to a scaling factor and a constant.\n"
   ]
  },
  {
   "cell_type": "markdown",
   "id": "89e91b5f",
   "metadata": {},
   "source": [
    "### Implementing the Grover's operator as a Composite function in Classiq\n",
    "\n",
    "- The Grover's operator consists of essentially $3$ parts- Reflection about the good state      ($S_{\\ket{\\psi_{0}}}$), Reflection about the zero state ($S_{\\ket{0}}$) and the algorithm $A$"
   ]
  },
  {
   "cell_type": "markdown",
   "id": "ab2b09f3",
   "metadata": {},
   "source": [
    "The good state oracle in this case should be an operation that flips the sign of the good state, here the state being the one with ancilla qubit $\\ket{1}$. Thus a Z-gate on the \"ind\" register will achieve the desired outcome. "
   ]
  },
  {
   "cell_type": "code",
   "execution_count": 134,
   "id": "8c25a0a4",
   "metadata": {},
   "outputs": [],
   "source": [
    "# Good State Oracle\n",
    "\n",
    "function_generator = FunctionGenerator(function_name=\"good_state_oracle\")\n",
    "\n",
    "input_dict = function_generator.create_inputs(\n",
    "    {\"io\": QUInt[sp_num_qubits], \"ind\": QUInt[1]}\n",
    ")\n",
    "\n",
    "z_out = function_generator.ZGate(\n",
    "    params=ZGate(),\n",
    "    in_wires={\"TARGET\": input_dict[\"ind\"]},\n",
    ")\n",
    "\n",
    "function_generator.set_outputs({\"ind\": z_out[\"TARGET\"], \"io\": input_dict[\"io\"]})\n",
    "qmci_library.add_function(function_generator.to_function_definition())"
   ]
  },
  {
   "cell_type": "markdown",
   "id": "e9e3f35c",
   "metadata": {},
   "source": [
    "The next part in the Grover's operator includes reflection about the zero state. The operator action is to flip the sign of the state if its a zero state and do nothing otherwise. \n",
    "\n",
    "- Consider a general state of $(n+1)$ qubits. We choose an arbitrary qubit, say the first one. We would like to apply a $(-Z)$ Gate on it, controlled by all the rest of the $n$ qubits being at state zero. This is exactly the functionality we would like to achieve for implementing reflection about the zero state. \n",
    "\n",
    "- Note that this function is a generic one, independent of the specific problem and partitioning to io and ind registers. We thus define a generic zero_oracle function, having $n+1$ sized input and output registers, which we designate with the name mcz_io."
   ]
  },
  {
   "cell_type": "code",
   "execution_count": 135,
   "id": "466536d5",
   "metadata": {},
   "outputs": [],
   "source": [
    "# Function representing reflection about the zero state\n",
    "\n",
    "function_generator = FunctionGenerator(function_name=\"zero_oracle\")\n",
    "\n",
    "reg_size = sp_num_qubits + 1\n",
    "input_dict = function_generator.create_inputs({\"mcz_io\": QUInt[reg_size]})\n",
    "\n",
    "x_out = function_generator.XGate(\n",
    "    params=XGate(),\n",
    "    in_wires={\"TARGET\": input_dict[\"mcz_io\"][0]},\n",
    "    should_control=False,\n",
    ")\n",
    "\n",
    "control_states = ControlState(ctrl_state=\"0\" * (reg_size - 1), name=\"ctrl_reg\")\n",
    "\n",
    "mcz_out = function_generator.ZGate(\n",
    "    params=ZGate(),\n",
    "    control_states=control_states,\n",
    "    in_wires={\"TARGET\": x_out[\"TARGET\"], \"ctrl_reg\": input_dict[\"mcz_io\"][1:reg_size]},\n",
    ")\n",
    "\n",
    "x_out = function_generator.XGate(\n",
    "    params=XGate(), in_wires={\"TARGET\": mcz_out[\"TARGET\"]}, should_control=False\n",
    ")\n",
    "\n",
    "function_generator.set_outputs(\n",
    "    {\"mcz_io\": QReg.concat(x_out[\"TARGET\"], mcz_out[\"ctrl_reg\"])}\n",
    ")\n",
    "\n",
    "qmci_library.add_function(function_generator.to_function_definition())"
   ]
  },
  {
   "cell_type": "markdown",
   "id": "87efcf09",
   "metadata": {},
   "source": [
    "**Implementing the complete Grover Operator**\n",
    "\n",
    "We can now define a complete Grover operator $Q \\equiv-S_{\\psi_1} A^{\\dagger} S_0 A$. Some points of emphasis are as follows:\n",
    "1. The operation of $\\boldsymbol{A}^{\\dagger}$ is performed by calling $\\boldsymbol{A}$ and raising the flag is_inverse=True .\n",
    "2. We pass should_control=False for $\\boldsymbol{A}$ and $\\boldsymbol{A}^{\\dagger}$.\n",
    "3. When wiring from $\\boldsymbol{A}^{\\dagger}$ to $S_0$ we use concatenation of the $\\boldsymbol{n}$-sized ( $io$ ) and singlesized ( $ind$ ) registers into the $(n+1)$-sized $mcz\\_ io$ register.\n",
    "4. When wiring from $S_0$ to $A$ we use the corresponding opposite call of register slicing, from $mcz\\_ io$ to $io$ and $ind$.\n",
    "5. We add a global phase of $-1$ to the full operator, by using the built-in UGate ."
   ]
  },
  {
   "cell_type": "code",
   "execution_count": 136,
   "id": "adce5aec",
   "metadata": {},
   "outputs": [],
   "source": [
    "function_generator = FunctionGenerator(function_name=\"grover\")\n",
    "function_generator.include_library(qmci_library)\n",
    "\n",
    "\n",
    "in_wires = function_generator.create_inputs(\n",
    "    {\"io\": QUInt[sp_num_qubits], \"ind\": QUInt[1]}\n",
    ")\n",
    "\n",
    "oracle_out = function_generator.good_state_oracle(in_wires=in_wires)\n",
    "\n",
    "sps_inverse_out = function_generator.state_amp_load(\n",
    "    in_wires={\"io\": oracle_out[\"io\"], \"ind\": oracle_out[\"ind\"]},\n",
    "    is_inverse=True,\n",
    "    should_control=False,\n",
    ")\n",
    "\n",
    "zero_oracle_out = function_generator.zero_oracle(\n",
    "    in_wires={\"mcz_io\": QReg.concat(sps_inverse_out[\"io\"], sps_inverse_out[\"ind\"])}\n",
    ")\n",
    "\n",
    "\n",
    "sps_out = function_generator.state_amp_load(\n",
    "    in_wires={\n",
    "        \"io\": zero_oracle_out[\"mcz_io\"][0:sp_num_qubits],\n",
    "        \"ind\": zero_oracle_out[\"mcz_io\"][sp_num_qubits],\n",
    "    },\n",
    "    should_control=False,\n",
    ")\n",
    "\n",
    "\n",
    "global_phase_out = function_generator.UGate(\n",
    "    UGate(theta=0, phi=0, lam=0, gam=np.pi), in_wires={\"TARGET\": sps_out[\"ind\"]}\n",
    ")\n",
    "#this operation takes care of the minus sign in the Grover operator\n",
    "\n",
    "function_generator.set_outputs({\"io\": sps_out[\"io\"], \"ind\": global_phase_out[\"TARGET\"]})\n",
    "\n",
    "\n",
    "qmci_library.add_function(function_generator.to_function_definition())"
   ]
  },
  {
   "cell_type": "markdown",
   "id": "8e0ac35f",
   "metadata": {},
   "source": [
    "Now we apply AE algorithm which is based on QPE. The idea behind this Algorithm is the following:\n",
    "\n",
    "- The state $\\boldsymbol{A}|\\mathbf{0}\\rangle_{\\boldsymbol{n}}|\\mathbf{0}\\rangle$ is spanned by two eigenvectors of our Grover operator $Q$, with the two corresponding eigenvalues\n",
    "$$\n",
    "\\lambda_{ \\pm}=\\exp ( \\pm i 2 \\pi \\theta), \\quad \\sin ^2( \\theta) \\equiv a .\n",
    "$$\n",
    "\n",
    "That is, the action of $Q$ on $|\\Psi\\rangle$ is,\n",
    "$$\n",
    "Q|\\Psi\\rangle= a_1 e^{+i2\\theta}|\\psi_+\\rangle + a_2 e^{-i2\\theta}|\\psi_-\\rangle\n",
    "$$\n",
    "\n",
    "where $|\\psi_+\\rangle$ and $|\\psi_-\\rangle$ are eigenvectors of the Grover operator $Q$ \n",
    "\n",
    "Denote $2 \\theta = \\frac{2\\pi q}{2^{m}}$, where $m$ is the size of the estimation register in the QPE algorithm.\n",
    "\n",
    "- Now applying Quantum Phase Estimation,\n",
    "\n",
    "$$ QPE(|0\\rangle|\\Psi\\rangle)= a_1|q\\rangle|\\psi_+\\rangle + a_2 |q + 2^{m-1}\\rangle|\\psi_-\\rangle $$\n",
    "\n",
    "Note that the phases corresponding to the eigenvectors  $|\\psi_+\\rangle$ and $|\\psi_-\\rangle$ differ by angle $\\pi$; hence the term $|q + 2^{m-1}\\rangle$ in the above expression makes sense as,\n",
    "$$\\frac{2\\pi( q+ 2^{m-1})}{2^{m}}= \\frac{2\\pi q}{2^{m}} + \\pi$$\n",
    "\n",
    "- If upon measurement of the estimation register we obtain $q'$ and $q'> 2^{m-1}$ then we get the phase corresponding to $|\\psi_-\\rangle$ branch, hence our estimated $q$ (say $q_p$) from the QPE algorithm is, $$ q_p= q' - 2^{m-1} $$\n",
    "\n",
    "- Thus the value of $2\\theta$ is $ \\frac{2\\pi q_p}{2^{m}}$ and hence the the value of $a$ is simply,\n",
    "\n",
    "$$a= \\sin^{2}{\\theta}= \\sin^{2}(\\frac{\\pi q_p}{2^{m}})$$\n",
    "\n",
    "This result is exact, for the case where $q_p$ is an integer.\n",
    "\n",
    "- Thus in summary, if we apply a QPE on $|\\psi\\rangle= \\boldsymbol{A}|\\mathbf{0}\\rangle_{\\boldsymbol{n}}|\\mathbf{0}\\rangle$ we will have these two eigenvalues encoded in the QPE register, however, both of them give the value of $a$, thus there is no ambiguity here.\n",
    "\n",
    "- To find $\\boldsymbol{a}$ we are going to build a simple quantum model: we apply $\\boldsymbol{A}$ on a quantum register of size $\\boldsymbol{n}+\\mathbf{1}$ initialized to zero, and then apply Classiq's QPE [QPE] with our user-defined Grover operator.\n",
    "\n",
    "Below, we build our model, define its output, and synthesize it. In particular, we define the output phase_result which holds the phase register of the QPE. We choose a QPE with phase register of size $3$, governing the accuracy of our Amplitude-, Estimation. The way to pass our user defined function to the QPE is through the unitary and unitary_params parameters as follows:"
   ]
  },
  {
   "cell_type": "code",
   "execution_count": 146,
   "id": "ed639a7d",
   "metadata": {},
   "outputs": [
    {
     "name": "stdout",
     "output_type": "stream",
     "text": [
      "Opening: https://platform.classiq.io/circuit/4ad7ff35-698e-4ba0-8e1c-f9cad26ae1d4?version=0.37.1\n"
     ]
    }
   ],
   "source": [
    "#APPLYING AMPLITUDE ESTIMATION (AE) WITH QUANTUM PHASE ESTIMATION (QPE)\n",
    "\n",
    "n_qpe = 4\n",
    "constraints = Constraints(\n",
    "    max_width=25,\n",
    "    max_depth=10000,\n",
    ")\n",
    "\n",
    "model = Model()\n",
    "model.include_library(qmci_library)\n",
    "sp_output = model.state_amp_load() \n",
    "\n",
    "qpe_out = model.PhaseEstimation(\n",
    "    params=PhaseEstimation(\n",
    "        size=n_qpe, unitary_params=qmci_library.get_function(\"grover\"), unitary=\"grover\"\n",
    "    ),\n",
    "    in_wires={\"io\": sp_output[\"io\"], \"ind\": sp_output[\"ind\"]},\n",
    ")\n",
    "\n",
    "model.set_outputs({\"phase_result\": qpe_out[\"PHASE_ESTIMATION\"]})\n",
    "serialized_model = model.get_model()\n",
    "serialized_model_constraints = set_constraints(serialized_model, constraints)\n",
    "qprog= synthesize(serialized_model_constraints)\n",
    "show(qprog)"
   ]
  },
  {
   "cell_type": "code",
   "execution_count": 147,
   "id": "ba6324c5",
   "metadata": {
    "scrolled": false
   },
   "outputs": [
    {
     "name": "stdout",
     "output_type": "stream",
     "text": [
      "vendor_format_result={'backend_name': 'aer_simulator', 'backend_version': '0.11.2', 'date': '2024-03-16T14:30:01.923229', 'header': {'backend_name': 'aer_simulator', 'backend_version': '0.11.2'}, 'qobj_id': 'ee273416-5625-44e5-b8a4-616b61891f8f', 'job_id': 'a4c2b588-c715-4bb5-a4ac-82265b66f1c1', 'status': 'COMPLETED', 'success': True, 'results': [{'shots': 2048, 'success': True, 'data': {'counts': {'0xe': 5, '0xf': 29, '0x4': 334, '0xc': 325, '0x5': 178, '0x9': 107, '0x3': 104, '0x7': 96, '0xb': 184, '0x8': 232, '0x6': 47, '0xd': 95, '0xa': 45, '0x0': 224, '0x2': 7, '0x1': 36}}, 'meas_level': 2, 'header': {'clbit_labels': [['c600', 0], ['c600', 1], ['c600', 2], ['c600', 3]], 'creg_sizes': [['c600', 4]], 'global_phase': 0.0, 'memory_slots': 4, 'metadata': {}, 'n_qubits': 23, 'name': 'circuit_1679678', 'qreg_sizes': [['q', 23]], 'qubit_labels': [['q', 0], ['q', 1], ['q', 2], ['q', 3], ['q', 4], ['q', 5], ['q', 6], ['q', 7], ['q', 8], ['q', 9], ['q', 10], ['q', 11], ['q', 12], ['q', 13], ['q', 14], ['q', 15], ['q', 16], ['q', 17], ['q', 18], ['q', 19], ['q', 20], ['q', 21], ['q', 22]]}, 'status': 'DONE', 'seed_simulator': 1742389380, 'metadata': {'noise': 'ideal', 'batched_shots_optimization': False, 'measure_sampling': True, 'parallel_shots': 1, 'remapped_qubits': False, 'active_input_qubits': [0, 1, 2, 3, 4, 5, 6, 7, 8, 9, 10, 11, 12, 13, 14, 15, 16, 17, 18, 19, 20, 21, 22], 'num_clbits': 4, 'parallel_state_update': 4, 'sample_measure_time': 0.013457906, 'num_qubits': 23, 'device': 'CPU', 'input_qubit_map': [[22, 22], [21, 21], [20, 20], [19, 19], [18, 18], [17, 17], [16, 16], [15, 15], [14, 14], [13, 13], [0, 0], [1, 1], [2, 2], [3, 3], [4, 4], [5, 5], [6, 6], [7, 7], [8, 8], [9, 9], [10, 10], [11, 11], [12, 12]], 'method': 'statevector', 'fusion': {'applied': True, 'time_taken': 0.027024189, 'cost_factor': 1.8, 'parallelization': 1, 'max_fused_qubits': 5, 'method': 'unitary', 'threshold': 14, 'enabled': True}}, 'time_taken': 4.903669725}], 'metadata': {'time_taken': 4.912000693, 'time_taken_execute': 4.903711159, 'mpi_rank': 0, 'num_mpi_processes': 1, 'max_gpu_memory_mb': 0, 'max_memory_mb': 15720, 'parallel_experiments': 1, 'time_taken_load_qobj': 0.008280263, 'num_processes_per_experiments': 1, 'omp_enabled': True}, 'time_taken': 4.91272497177124} counts={'1110': 5, '1111': 29, '0100': 334, '1100': 325, '0101': 178, '1001': 107, '0011': 104, '0111': 96, '1011': 184, '1000': 232, '0110': 47, '1101': 95, '1010': 45, '0000': 224, '0010': 7, '0001': 36} counts_lsb_right=True parsed_states={'1110': {'phase_result': 14.0}, '1111': {'phase_result': 15.0}, '0100': {'phase_result': 4.0}, '1100': {'phase_result': 12.0}, '0101': {'phase_result': 5.0}, '1001': {'phase_result': 9.0}, '0011': {'phase_result': 3.0}, '0111': {'phase_result': 7.0}, '1011': {'phase_result': 11.0}, '1000': {'phase_result': 8.0}, '0110': {'phase_result': 6.0}, '1101': {'phase_result': 13.0}, '1010': {'phase_result': 10.0}, '0000': {'phase_result': 0.0}, '0010': {'phase_result': 2.0}, '0001': {'phase_result': 1.0}} histogram=None output_qubits_map={'phase_result': (0, 1, 2, 3)} state_vector=None parsed_state_vector_states=None physical_qubits_map={'phase_result': (3, 6, 9, 14)} num_shots=2048\n",
      "[SampledState(state={'phase_result': 4.0}, shots=334), SampledState(state={'phase_result': 12.0}, shots=325), SampledState(state={'phase_result': 8.0}, shots=232), SampledState(state={'phase_result': 0.0}, shots=224), SampledState(state={'phase_result': 11.0}, shots=184), SampledState(state={'phase_result': 5.0}, shots=178), SampledState(state={'phase_result': 9.0}, shots=107), SampledState(state={'phase_result': 3.0}, shots=104), SampledState(state={'phase_result': 7.0}, shots=96), SampledState(state={'phase_result': 13.0}, shots=95), SampledState(state={'phase_result': 6.0}, shots=47), SampledState(state={'phase_result': 10.0}, shots=45), SampledState(state={'phase_result': 1.0}, shots=36), SampledState(state={'phase_result': 15.0}, shots=29), SampledState(state={'phase_result': 2.0}, shots=7), SampledState(state={'phase_result': 14.0}, shots=5)]\n",
      "{0.25: 334, 0.75: 325, 0.5: 232, 0.0: 224, 0.6875: 184, 0.3125: 178, 0.5625: 107, 0.1875: 104, 0.4375: 96, 0.8125: 95, 0.375: 47, 0.625: 45, 0.0625: 36, 0.9375: 29, 0.125: 7, 0.875: 5}\n"
     ]
    },
    {
     "data": {
      "image/png": "[encoded data removed]",
      "text/plain": [
       "<Figure size 640x480 with 1 Axes>"
      ]
     },
     "metadata": {},
     "output_type": "display_data"
    },
    {
     "name": "stdout",
     "output_type": "stream",
     "text": [
      "phase with max probability:  0.25\n",
      "measured amplitude/PAYOFF:  0.5000000000000001\n"
     ]
    }
   ],
   "source": [
    "results = execute(qprog).result()\n",
    "\n",
    "from classiq.execution import ExecutionDetails\n",
    "\n",
    "res = results[0].value\n",
    "\n",
    "print(res)\n",
    "\n",
    "phases_counts = res.parsed_counts\n",
    "\n",
    "print(phases_counts)\n",
    "\n",
    "## mapping between register string to phases\n",
    "phases_counts = dict(\n",
    "    (sampled_state.state[\"phase_result\"] / 2**n_qpe, sampled_state.shots)\n",
    "    for sampled_state in res.parsed_counts\n",
    ")\n",
    "\n",
    "print(phases_counts)\n",
    "\n",
    "plt.bar(phases_counts.keys(), phases_counts.values(), width=0.1)\n",
    "plt.xticks(rotation=90)\n",
    "plt.show()\n",
    "print(\"phase with max probability: \", max(phases_counts, key=phases_counts.get))\n",
    "\n",
    "print(\n",
    "    \"measured amplitude/PAYOFF: \",\n",
    "    np.sin(np.pi * max(phases_counts, key=phases_counts.get)) ** 2,\n",
    ")"
   ]
  },
  {
   "cell_type": "code",
   "execution_count": 148,
   "id": "b5723247",
   "metadata": {},
   "outputs": [
    {
     "name": "stdout",
     "output_type": "stream",
     "text": [
      "8.500000000000002\n"
     ]
    }
   ],
   "source": [
    "scaled_expectation_value = 0.5000000000000001  # Probability of 1 after some execution\n",
    "expectation_value = amplitude_loading_params.compute_expectation_value(\n",
    "    scaled_expectation_value\n",
    ")\n",
    "print(expectation_value)"
   ]
  },
  {
   "cell_type": "code",
   "execution_count": 149,
   "id": "c7a682f5",
   "metadata": {},
   "outputs": [],
   "source": [
    "def multiple_fitting_curve_parameters(recording_qubits, data_y, data_prob, guesses, bounds = (0, 1)):\n",
    "    \n",
    "    M = 2 ** recording_qubits\n",
    "    \n",
    "    def prob_func(y, a0, a1, theta0, theta1):\n",
    "        coeff = 1 / (M**2)\n",
    "        \n",
    "        angle0 = y - (theta0 * M)\n",
    "        numerator0 = 1 - np.cos(2 * math.pi * angle0)\n",
    "        denominator0 = 1 - np.cos(2 * math.pi * angle0 / M)\n",
    "\n",
    "        angle1 = y - (theta1 * M)\n",
    "        numerator1 = 1 - np.cos(2 * math.pi * angle1)\n",
    "        denominator1 = 1 - np.cos(2 * math.pi * angle1 / M)\n",
    "        \n",
    "        prob_y = coeff * (a0 * numerator0/denominator0 + a1 * numerator1/denominator1)\n",
    "        return prob_y\n",
    "    \n",
    "    guess1 = [0.5, 0.5, (guesses[0] - 0.5)/M, (guesses[1] - 0.5)/M]\n",
    "    guess2 = [0.5, 0.5, (guesses[0] + 0.5)/M, (guesses[1] + 0.5)/M]\n",
    "    guess3 = [0.5, 0.5, (guesses[0] - 0.5)/M, (guesses[1] + 0.5)/M]\n",
    "    guess4 = [0.5, 0.5, (guesses[0] + 0.5)/M, (guesses[1] - 0.5)/M]\n",
    "\n",
    "    bounds = ([0, 0,(guesses[0] - 0.5)/M , (guesses[1] - 0.5)/M], [1, 1, (guesses[0] + 0.5)/M, (guesses[1] + 0.5)/M])\n",
    "    \n",
    "    try: \n",
    "        parameters1, pcov1 = curve_fit(prob_func, data_y, data_prob, bounds = bounds, p0 = guess1) # max_nfev = 1000\n",
    "    except ValueError:\n",
    "        pcov1 = np.inf\n",
    "    \n",
    "    try:\n",
    "        parameters2, pcov2 = curve_fit(prob_func, data_y, data_prob, bounds = bounds, p0 = guess2)\n",
    "    except ValueError:\n",
    "        pcov2 = np.inf\n",
    "    \n",
    "    try:\n",
    "        parameters3, pcov3 = curve_fit(prob_func, data_y, data_prob, bounds = bounds, p0 = guess3)\n",
    "    except ValueError:\n",
    "        pcov3 = np.inf\n",
    "    \n",
    "    try:\n",
    "        parameters4, pcov4 = curve_fit(prob_func, data_y, data_prob, bounds = bounds, p0 = guess4)\n",
    "    except ValueError:\n",
    "        pcov4 = np.inf\n",
    "\n",
    "\n",
    "    parameters_list = [parameters1, parameters2, parameters3, parameters4]\n",
    "    pcov_sum_list = [np.sum(pcov1), np.sum(pcov2), np.sum(pcov3), np.sum(pcov4)]\n",
    "    pcov_list = [pcov1, pcov2, pcov3, pcov4]\n",
    "\n",
    "    if np.isinf(pcov_sum_list[0]) and np.isinf(pcov_sum_list[1]) and np.isinf(pcov_sum_list[2]) and np.isinf(pcov_sum_list[3]):\n",
    "        print(\"No optimal parameters found\")\n",
    "        return False, False\n",
    "    else:\n",
    "        index = pcov_sum_list.index(min(pcov_sum_list))\n",
    "        parameters = parameters_list[index]\n",
    "        pcov = pcov_list[index]\n",
    "\n",
    "    range_y = np.linspace(0, M, 1000)\n",
    "    probabilities = np.array(prob_func(range_y, parameters[0], parameters[1], parameters[2], parameters[3]))\n",
    "    #probabilities = np.nan_to_num(probabilities, nan=1 / (M**2))\n",
    "    plt.plot(range_y, probabilities)\n",
    "\n",
    "    max_value_index = np.argmax(probabilities)\n",
    "    result = range_y[max_value_index]\n",
    "\n",
    "    plt.show()\n",
    "    return parameters, pcov, result"
   ]
  },
  {
   "cell_type": "code",
   "execution_count": 150,
   "id": "df9a2544",
   "metadata": {},
   "outputs": [
    {
     "name": "stdout",
     "output_type": "stream",
     "text": [
      "[ 4. 12.  8.  0. 11.  5.  9.  3.  7. 13.  6. 10.  1. 15.  2. 14.] [334 325 232 224 184 178 107 104  96  95  47  45  36  29   7   5]\n"
     ]
    },
    {
     "data": {
      "image/png": "[encoded data removed]",
      "text/plain": [
       "<Figure size 640x480 with 1 Axes>"
      ]
     },
     "metadata": {},
     "output_type": "display_data"
    },
    {
     "name": "stdout",
     "output_type": "stream",
     "text": [
      "[0.66977058 0.6250795  0.72331656 0.27613314]\n",
      "[[ 2.82906158e-02 -7.68800428e-04 -2.44576218e-04 -1.20842842e-05]\n",
      " [-7.68800428e-04  2.84735559e-02  1.01046762e-05  2.96905769e-04]\n",
      " [-2.44576218e-04  1.01046762e-05  1.82672216e-05  1.49544636e-07]\n",
      " [-1.20842842e-05  2.96905769e-04  1.49544636e-07  2.18977077e-05]]\n",
      "11.57957957957958\n"
     ]
    }
   ],
   "source": [
    "import math\n",
    "recording_qubits= 4\n",
    "_, parsed_counts = get_counts(qprog)\n",
    "data_y, shots = process_parsed_counts(parsed_counts)\n",
    "print(data_y,shots)\n",
    "guesses = y[:2]\n",
    "data_prob = (1/2048) * np.array(shots)\n",
    "\n",
    "\n",
    "parameters, pcov, result = multiple_fitting_curve_parameters(recording_qubits, y, prob, guesses = guesses)\n",
    "\n",
    "print(parameters)\n",
    "print(pcov)\n",
    "print(result)"
   ]
  },
  {
   "cell_type": "code",
   "execution_count": 151,
   "id": "ac11d6bd",
   "metadata": {},
   "outputs": [
    {
     "name": "stdout",
     "output_type": "stream",
     "text": [
      "0.7237237237237237\n"
     ]
    }
   ],
   "source": [
    "phase= result/16\n",
    "\n",
    "print(phase)"
   ]
  },
  {
   "cell_type": "code",
   "execution_count": 152,
   "id": "1be409fe",
   "metadata": {},
   "outputs": [
    {
     "name": "stdout",
     "output_type": "stream",
     "text": [
      "measured amplitude/PAYOFF:  0.5821748512656533\n"
     ]
    }
   ],
   "source": [
    "print(\n",
    "    \"measured amplitude/PAYOFF: \",\n",
    "    np.sin(np.pi * phase) ** 2,\n",
    ")"
   ]
  },
  {
   "cell_type": "code",
   "execution_count": 153,
   "id": "9c22c5f5",
   "metadata": {},
   "outputs": [
    {
     "name": "stdout",
     "output_type": "stream",
     "text": [
      "9.896972471516106\n"
     ]
    }
   ],
   "source": [
    "scaled_expectation_value = 0.5821748512656533  # Probability of 1 after some execution\n",
    "expectation_value = amplitude_loading_params.compute_expectation_value(\n",
    "    scaled_expectation_value\n",
    ")\n",
    "print(expectation_value)"
   ]
  },
  {
   "cell_type": "code",
   "execution_count": null,
   "id": "ec641af7",
   "metadata": {},
   "outputs": [],
   "source": []
  }
 ],
 "metadata": {
  "kernelspec": {
   "display_name": "Python 3 (ipykernel)",
   "language": "python",
   "name": "python3"
  },
  "language_info": {
   "codemirror_mode": {
    "name": "ipython",
    "version": 3
   },
   "file_extension": ".py",
   "mimetype": "text/x-python",
   "name": "python",
   "nbconvert_exporter": "python",
   "pygments_lexer": "ipython3",
   "version": "3.11.5"
  }
 },
 "nbformat": 4,
 "nbformat_minor": 5
}
