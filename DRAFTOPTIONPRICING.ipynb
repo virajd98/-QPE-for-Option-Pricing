{
 "cells": [
  {
   "cell_type": "markdown",
   "id": "93ec3d64",
   "metadata": {},
   "source": [
    "**Option Pricing using Quantum Phase Estimation**"
   ]
  },
  {
   "cell_type": "markdown",
   "id": "e6ced473",
   "metadata": {},
   "source": [
    "In this demo, we shall go through the steps involved in implementing option pricing using Quantum Phase Estimation. We will be using the classiq software development kit (SDK) for this purpose.\n",
    "\n"
   ]
  },
  {
   "cell_type": "markdown",
   "id": "c85b7d2c",
   "metadata": {},
   "source": [
    "**Theoretical Background:**\n",
    "\n",
    "*Financial options are contracts that give the holder the right (but not the obligation) to buy (call option) or sell (put option) a financial instrument (such as stocks) at a predetermined price (strike) before or at the expiration date.*\n",
    "\n",
    "Let's understand this with a simple example: Suppose an option contract (containing a fixed number of shares of a certain stock) is bought when the underlying stock is worth $X$ with a target/strike price for the stock at $K$ (here $K>X$) and an expiration date of $3$ years. The buyer pays a premium to the seller to purchase this contract. Within these three years, the price of this option changes due to the stochastic nature of the stock prices underlying it. If on or before the period of $3$ years the stock price crosses the threshold of $K$ and reaches the price $S$ ($S$ is called the payoff and here $S>K$) the contract buyer exercises his right to buy the stock at the predetermined target price $Y$. In this process the buyer makes a profit of $S-K$ (minus the premium paid, for net profit). If the stock price remains below $K$ on or before the expiry date, the buyer won't exercise the contract and would suffer a loss of the premium amount paid to the seller.\n",
    "\n",
    "The aim of option pricing is to figure out how much an option will be worth when it reaches its end date in the future.\n",
    "\n",
    "**Expected Pay-off of an Option**\n",
    "The expectation value of the payoff $E_P[f(X)]$ as an average across all prices paths is given by:\n",
    "$$\n",
    "\\mathbb{E}_{\\mathbb{P}}[f(\\mathbf{X})]=\\sum_{i=1}^{M} p_{i} f\\left(\\mathbf{X}_{i}\\right)\n",
    "$$\n",
    "where $p_{i}$ is the probability of realizing the price path $i$. $\\mathbf{X_i}$ is a column vector with $N$ rows (representing $N$ assets in the contract) and indicates a specific price path."
   ]
  },
  {
   "cell_type": "code",
   "execution_count": 1,
   "id": "f2fb019c",
   "metadata": {},
   "outputs": [
    {
     "name": "stdout",
     "output_type": "stream",
     "text": [
      "EXPECTED PAYOFF: 6.125\n"
     ]
    }
   ],
   "source": [
    "import numpy as np\n",
    "\n",
    "#Theoretically calculated expected pay-off\n",
    "\n",
    "probabilities= [0.20, 0.35, 0.25, 0.20] #probabilities of each price paths\n",
    "\n",
    "k=70\n",
    "s0= 50\n",
    "Y= [0.9, 1.5, 1.75, 1.25]  # s0*Y[i] represents the possible price path for i in range(4)\n",
    "\n",
    "pay_off_dist = [probabilities[x] * max(s0 * Y[x]- k , 0) for x in range(len(probabilities))] \n",
    "\n",
    "expected_expectation_value= np.sum(pay_off_dist) #E_P[f(X)]\n",
    "\n",
    "print('EXPECTED PAYOFF:', expected_expectation_value)\n"
   ]
  },
  {
   "cell_type": "markdown",
   "id": "f959e919",
   "metadata": {},
   "source": [
    "Now, we'll utilize classiq SDK to evaluate this using quantum computation.\n",
    "\n",
    "The first step is to install the latest version of classiq if not already working with the latest version."
   ]
  },
  {
   "cell_type": "code",
   "execution_count": null,
   "id": "6fa65bc8",
   "metadata": {
    "scrolled": true
   },
   "outputs": [],
   "source": [
    "pip install -U classiq"
   ]
  },
  {
   "cell_type": "markdown",
   "id": "ece2ce39",
   "metadata": {},
   "source": [
    "The first step is to import all the necessary modules; some of the imported methods would be explained later while being used."
   ]
  },
  {
   "cell_type": "code",
   "execution_count": 2,
   "id": "3df6c301",
   "metadata": {},
   "outputs": [],
   "source": [
    "#Finance Model\n",
    "\n",
    "#importing necessary modules \n",
    "\n",
    "import classiq\n",
    "from classiq.builtin_functions import PiecewiseLinearAmplitudeLoading, PhaseEstimation\n",
    "from classiq import QUInt, Model, synthesize, show, QReg, ControlState, execute\n",
    "from classiq import FunctionGenerator, FunctionLibrary, RegisterUserInput\n",
    "from classiq.builtin_functions import LinearPauliRotations, StatePreparation\n",
    "from classiq.builtin_functions import XGate, UGate, ZGate\n",
    "from classiq.model import Constraints\n",
    "from classiq.execution import ExecutionDetails\n",
    "import numpy as np\n",
    "import matplotlib.pyplot as plt"
   ]
  },
  {
   "cell_type": "markdown",
   "id": "d9f8f9b3",
   "metadata": {},
   "source": [
    "The first steps in developing a quantum program in classiq is designing a quantum model- defining the algorithms, its constraints, and our preferences. \n",
    "\n",
    "Classiq platform enables us to build a quantum model from a **functional level** instead of a gate level. It has various built-in functions that can be directly used or we also build our own set of functions. *In Classiq, quantum algorithms are constructed from functions, which are the functional building blocks that implement quantum logic, and the data flow between them.*\n",
    "\n",
    "Once our model is fully defined (the quantum program is described by using the `Model` object in classiq SDK), the next step is to synthesize it. The synthesis steps includes using the synthesize method on a SerializedModel that is received using the method `get_model()` of Model or from the content of .qmod file.\n",
    "\n"
   ]
  },
  {
   "cell_type": "markdown",
   "id": "535bad5a",
   "metadata": {},
   "source": [
    "**Step 1: Preparing all the functional blocks**\n",
    "\n",
    "The first function we shall define is the *state preparation* function. \n",
    "\n",
    "The first step involves loading the states into the quantum circuit. The states here are representative of possible option prices a option can take and the probabilities associated with the states represents the probability for a given option price. "
   ]
  },
  {
   "cell_type": "markdown",
   "id": "3173fd0c",
   "metadata": {},
   "source": [
    "**Defining the state preparation function**"
   ]
  },
  {
   "cell_type": "markdown",
   "id": "ae8b1fb7",
   "metadata": {},
   "source": [
    "The function library is responsible for managing the data structure where all the user-defined functions are stored, as well as storing and managing all the required data. The first step is to create a function library. All our functions then created will be added to this library and then will be appropraitely called while implementing our algorithm. Instantiating the `FunctionGenerator` class will generate a function with the provided name."
   ]
  },
  {
   "cell_type": "code",
   "execution_count": 3,
   "id": "247388b6",
   "metadata": {},
   "outputs": [],
   "source": [
    "qmci_library = FunctionLibrary()\n",
    "function_generator =  FunctionGenerator(function_name=\"state_loading\")"
   ]
  },
  {
   "cell_type": "markdown",
   "id": "70bf954b",
   "metadata": {},
   "source": [
    "The inputs and outputs of the function are defined using the `create_inputs()` and `set_outputs()` methods of FunctionGenerator respectively. \n",
    "\n",
    "`create_inputs()` gets a dictionary as input, where the keys are the input names and the values are QReg type. The function returns a dictionary, where the keys are the input names, and the values are QReg objects of the requested type and size that can be used as an input of an inner function call.\n",
    "`set_outputs()` gets a dictionary as input, where the keys are the output names and the values are QRegs returned by adding function calls to the FunctionGenerator instance.\n",
    "\n",
    "The in-built `StatePreparation` function of Classiq generates a quantum program whose output state probabilities are an approximation to the PMF given. For example in the below code, the function prepares 4 states, the probability of state |000> is 0.20174669. "
   ]
  },
  {
   "cell_type": "code",
   "execution_count": null,
   "id": "f95933fe",
   "metadata": {},
   "outputs": [],
   "source": [
    "sp_num_qubits = 2  \n",
    "\n",
    "#number of possible option prices is equal to 2^{number of qubits}. Here we consider 4 possible option price paths\n",
    "\n",
    "input_dict = function_generator.create_inputs({\"io\": QUInt[sp_num_qubits], \"ind\": QUInt[1]})\n",
    "\n",
    "probabilities= [0.20174669, 0.31564887, 0.29626157, 1- (0.20174669+0.31564887+0.29626157)]\n",
    "\n",
    "#specifying the probabilities of 4 price paths- this has been taken from a log-normal distribution with mean = 0.01 and std_dev = 0.1\n",
    "\n",
    "sp_params = StatePreparation(\n",
    "    probabilities=probabilities, error_metric={\"KL\": {\"upper_bound\": 0.00}}\n",
    ")\n",
    "\n",
    "sp_output = function_generator.StatePreparation(\n",
    "    params=sp_params, strict_zero_ios=False, in_wires={\"IN\": input_dict[\"io\"]})\n",
    "#the in_wires argument soecifies the input register to the StatePreparation operation\n",
    "\n",
    "function_generator.set_outputs({\"io\": sp_output[\"OUT\"], \"ind\": input_dict[\"ind\"]})\n",
    "qmci_library.add_function(function_generator.to_function_definition()) \n",
    "# the last line adds the function \"state_loading\" to the function library that can be later used. \n"
   ]
  },
  {
   "cell_type": "markdown",
   "id": "e6cffc9c",
   "metadata": {},
   "source": [
    "The next step is to load the pay-off function for the European Call Option with a specific strike price. For this we create another functional block named 'amp_load'. "
   ]
  },
  {
   "cell_type": "markdown",
   "id": "f1530f79",
   "metadata": {},
   "source": [
    "The payoff function to describe for example a European call option will be:\n",
    "\n",
    "$f(S)=\\\n",
    "\\Bigg\\{\\begin{array}{lr}\n",
    "    0, & \\text{when } K\\geq S\\\\\n",
    "    S - K, & \\text{when } K < S\\end{array}\n",
    "$\n",
    "\n",
    "This means that the option which was purchased with a target/strike price of $K$ will be profitable only when the future price of the option $S$ exceeds $K$ within the expiry of the option contract.\n",
    "\n",
    "To load this linear pay-off function, we make use of classiq's inbuilt `PiecewiseLinearAmplitudeLoading` function. The AffineMap object, that has two attributes - offset and slope. For example, AffineMap(offset=a, slope=b) represents $f(x) = a + bx$. In this example $K=70$, hence for all the option prices below this level the payoff is $0$ indicated by the first element of the affine_map argument with offset=slope=0 and for option prices above this level the pay-off $f(s)= s-K$, hence offset= -K and slope=1. \n",
    "\n",
    "**Determining Breakpoints:** From $k=70, s0= 50, Y= [0.9, 1.5, 1.75, 1.25] $, the minimum value the asset can go upto is $0.9*50=45$ and the maximum value the asset can go upto is $1.75*50= 87.5$ and the strike is $70$, hence between 45 and 70, the payoff is $0$ and between 70 and 87.5, the payoff is $S-70$. Thus the breakpoints list would be $[45, 70, 87.5]$\n",
    "\n",
    "The piecewise linear amplitude loading function performs the following operation:\n",
    "$$\n",
    "|d\\rangle|0\\rangle \\rightarrow \\sqrt{1-\\tilde{f}(d)}|d\\rangle|0\\rangle+\\sqrt{\\tilde{f}(d)}|d\\rangle|1\\rangle\n",
    "$$\n",
    "for any input, $|d\\rangle$, piecewise linear function $f(d)$. Where $\\tilde{f}$ is a normalized and rescaled function of the given $f(d)$ :\n",
    "$$\n",
    "\\tilde{f}(d)=2 \\cdot \\frac{cf(\\phi(d))-f_{\\min }}{f_{\\max }-f_{\\min }}-c+0.5\n",
    "$$\n",
    "and:\n",
    "$$\n",
    "\\phi(d)=x_{\\min }+\\frac{x_{\\max }-x_{\\min }}{2^n-1} d\n",
    "$$\n",
    "$\\boldsymbol{c}$ is the given rescaling factor. $\\boldsymbol{f}_{\\min }, \\boldsymbol{f}_{\\max }$ are the minimal and maximal values of the function in the given domain, and $x_{\\min }, x_{\\max }$ are the boundaries of the domain."
   ]
  },
  {
   "cell_type": "code",
   "execution_count": null,
   "id": "7606f960",
   "metadata": {},
   "outputs": [],
   "source": [
    "#Amplitude Loading block\n",
    "\n",
    "function_generator = FunctionGenerator(function_name=\"amp_load\")\n",
    "\n",
    "input_dict = function_generator.create_inputs(\n",
    "    {\"io\": QUInt[sp_num_qubits], \"ind\": QUInt[1]}\n",
    ")\n",
    "\n",
    "amplitude_loading_params = PiecewiseLinearAmplitudeLoading(\n",
    "    num_qubits=2,\n",
    "    breakpoints=[45, 70, 87.5],\n",
    "    affine_maps=[{\"offset\": 0, \"slope\": 0}, {\"offset\": -70, \"slope\": 1}])\n",
    "\n",
    "al_output = function_generator.PiecewiseLinearAmplitudeLoading(\n",
    "    params=amplitude_loading_params, strict_zero_ios=False, in_wires={\"state\":input_dict[\"io\"], \"target\": input_dict[\"ind\"]}\n",
    ")\n",
    "\n",
    "# scaled_expectation_value = 0.5  # Probability of 1 after some execution\n",
    "# expectation_value = amplitude_loading_params.compute_expectation_value(\n",
    "#     scaled_expectation_value\n",
    "# )\n",
    "function_generator.set_outputs({\"io\": al_output[\"state\"], \"ind\": al_output[\"target\"]})\n",
    "\n",
    "qmci_library.add_function(function_generator.to_function_definition())"
   ]
  },
  {
   "cell_type": "markdown",
   "id": "71367905",
   "metadata": {},
   "source": [
    "Next, we will bring these two blocks together and define a single function that would represent $\\boldsymbol{A}$. "
   ]
  },
  {
   "cell_type": "code",
   "execution_count": 4,
   "id": "71142ffb",
   "metadata": {},
   "outputs": [],
   "source": [
    "qmci_library = FunctionLibrary()\n",
    "function_generator =  FunctionGenerator(function_name=\"state_amp_load\")\n",
    "\n",
    "sp_num_qubits = 2\n",
    "\n",
    "#number of possible option prices is equal to 2^{number of qubits}. Here we consider 4 possible option price paths\n",
    "\n",
    "input_dict = function_generator.create_inputs({\"io\": QUInt[sp_num_qubits], \"ind\": QUInt[1]})\n",
    "probabilities= [0.20174669, 0.31564887, 0.29626157, 1- (0.20174669+0.31564887+0.29626157)]\n",
    "\n",
    "#specifying the probabilities of 4 price paths- this has been taken from a log-normal distribution with mean = 0.01 and std_dev = 0.1\n",
    "\n",
    "sp_params = StatePreparation(\n",
    "    probabilities=probabilities, error_metric={\"KL\": {\"upper_bound\": 0.00}}\n",
    ")\n",
    "\n",
    "sp_output = function_generator.StatePreparation(\n",
    "    params=sp_params, strict_zero_ios=False, in_wires={\"IN\": input_dict[\"io\"]})\n",
    "#the in_wires argument soecifies the input register to the StatePreparation operation\n",
    "\n",
    "amplitude_loading_params = PiecewiseLinearAmplitudeLoading(\n",
    "    num_qubits=2,\n",
    "    breakpoints=[45, 70, 87.5],\n",
    "    affine_maps=[{\"offset\": 0, \"slope\": 0}, {\"offset\": -70, \"slope\": 1}],\n",
    "    rescaling_factor=0.5)\n",
    "\n",
    "al_output = function_generator.PiecewiseLinearAmplitudeLoading(\n",
    "    params=amplitude_loading_params, strict_zero_ios=False, in_wires={\"state\":sp_output[\"OUT\"], \"target\": input_dict[\"ind\"]}\n",
    ")\n",
    "function_generator.set_outputs({\"io\": al_output[\"state\"], \"ind\": al_output[\"target\"]})\n",
    "\n",
    "qmci_library.add_function(function_generator.to_function_definition())"
   ]
  },
  {
   "cell_type": "markdown",
   "id": "13b7698f",
   "metadata": {},
   "source": [
    "Now we're ready to perform Quantum Amplitude Estimation. Let's say we have a unitary operator $A$ acting on a register of $(n+1)$ qubits such that \\begin{equation}\n",
    "A |0>_{n+1}= |\\Psi>= \\sqrt {1-a}|\\psi_{0}>_{n}|0> + \\sqrt{a}|\\psi_{1}>_{n}|1> \\end{equation} where $|\\psi_{0}>_{n}$ and $|\\psi_{1}>_{n}$ are some $n$-qubit normalized states and $a\\in [0,1]$ is unknown and with AE we need to efficiently estimate $a$.\n",
    "We use the Grover Operator defined by $Q= A S_{0} A^{\\dagger} S_{|\\psi_{0}>}$, where $S_{0}= 1- 2|0><0|$ and $S_{|\\psi_{0}}>= 1- 2|\\psi_{0}>|{0}><\\psi_{0}|<0|$, represent the reflection operators about the state $|0>$ and the good state $|\\psi_{0}>$ respectively. The full action of the operator $Q$ is to rotate the state $A |0>_{n+1}$ by an angle $2\\theta$ in the $2D$ space spanned by $|\\psi_{0}>_{n}|0>$ and $|\\psi_{1}>_{n}|1>$, where $a= \\sin^{2}{(\\theta)}$. \n",
    "\n",
    "\n",
    "The algorithm $A$ in our case consists of both the stateloading and the amplitude loading part. For an option with payoff $f$, let's suppose the $\\mathcal{A}$ operator creates the following state: \n",
    "\n",
    "\\begin{equation}\\label{eq:main}\n",
    "\\sum_{i=0}^{2^{n}-1} \\sqrt{1-\\tilde{f}\\left(d_{i}\\right)} \\sqrt{p_{i}}\\left|d_{i}\\right\\rangle|0\\rangle+\\sum_{i=0}^{2^{n}-1} \\sqrt{\\tilde{f}\\left(d_{i}\\right)} \\sqrt{p_{i}}\\left|d_{i}\\right\\rangle|1\\rangle .\n",
    "\\end{equation}\n",
    "where $d_{i}$ represent the possible values the underlying asset can take and the corresponding probabilities are $p_{i}$. Here we have assumed that the prices can take $2^{n}$ possible values on expiration and on a quantum circuit $n$ qubits can be used to represent all these price paths. Note that from the second term its possible to retrieve the required expectation value.\n",
    "\n",
    "The probability to find the ancilla qubit in state $|1\\rangle$, is given by $$P_{1} = \\sum_{i=0}^{2^{n}-1} p_{i}\\left(c \\tilde{f}(i)+\\frac{1}{2}\\right)=c (\\frac{2 \\mathbb{E}[f(X)]-f_{\\min }}{f_{\\max }-f_{\\min }})-c+\\frac{1}{2}$$\n",
    "\n",
    "Thus we could recover $\\mathbb{E}[\\max (0, i-K)]$ from $P_{1}$ up to a scaling factor and a constant.\n"
   ]
  },
  {
   "cell_type": "markdown",
   "id": "89e91b5f",
   "metadata": {},
   "source": [
    "**Implementing the Grover's operator as a Composite function in Classiq**\n",
    "\n",
    "The Grover's operator consists of essentially $3$ parts- Reflection about the good state ($S_{|\\psi_{0}>}$), Reflection about the zero state ($S_{0}$) and the algorithm $A$"
   ]
  },
  {
   "cell_type": "markdown",
   "id": "ab2b09f3",
   "metadata": {},
   "source": [
    "The good state oracle in this case should be an operation that flips the sign of the good state, here the state being the one with ancilla qubit $|1>$. Thus a Z-gate on the \"ind\" register will achieve the desired outcome. "
   ]
  },
  {
   "cell_type": "code",
   "execution_count": 5,
   "id": "8c25a0a4",
   "metadata": {},
   "outputs": [],
   "source": [
    "# Good State Oracle\n",
    "\n",
    "function_generator = FunctionGenerator(function_name=\"good_state_oracle\")\n",
    "\n",
    "input_dict = function_generator.create_inputs(\n",
    "    {\"io\": QUInt[sp_num_qubits], \"ind\": QUInt[1]}\n",
    ")\n",
    "\n",
    "z_out = function_generator.ZGate(\n",
    "    params=ZGate(),\n",
    "    in_wires={\"TARGET\": input_dict[\"ind\"]},\n",
    ")\n",
    "\n",
    "function_generator.set_outputs({\"ind\": z_out[\"TARGET\"], \"io\": input_dict[\"io\"]})\n",
    "qmci_library.add_function(function_generator.to_function_definition())"
   ]
  },
  {
   "cell_type": "markdown",
   "id": "e9e3f35c",
   "metadata": {},
   "source": [
    "The next part in the Grover's operator includes reflection about the zero state. The operator action is to flip the sign of the state if its a zero state and do nothing otherwise. Consider a general state of $(n+1)$ qubits. We choose an arbitrary qubit, say the first one. We would like to apply a $(-Z)$ Gate on it, controlled by all the rest of the $n$ qubits being at state zero. This is exactly the functionality we would like to achieve for implementing reflection about the zero state. Note that this function is a generic one, independent of the specific problem and partitioning to io and ind registers. We thus define a generic zero_oracle function, having $n+1$ sized input and output registers, which we designate with the name mcz_io."
   ]
  },
  {
   "cell_type": "code",
   "execution_count": 6,
   "id": "466536d5",
   "metadata": {},
   "outputs": [],
   "source": [
    "# Function representing reflection about the zero state\n",
    "\n",
    "function_generator = FunctionGenerator(function_name=\"zero_oracle\")\n",
    "\n",
    "reg_size = sp_num_qubits + 1\n",
    "input_dict = function_generator.create_inputs({\"mcz_io\": QUInt[reg_size]})\n",
    "\n",
    "x_out = function_generator.XGate(\n",
    "    params=XGate(),\n",
    "    in_wires={\"TARGET\": input_dict[\"mcz_io\"][0]},\n",
    "    should_control=False,\n",
    ")\n",
    "\n",
    "control_states = ControlState(ctrl_state=\"0\" * (reg_size - 1), name=\"ctrl_reg\")\n",
    "\n",
    "mcz_out = function_generator.ZGate(\n",
    "    params=ZGate(),\n",
    "    control_states=control_states,\n",
    "    in_wires={\"TARGET\": x_out[\"TARGET\"], \"ctrl_reg\": input_dict[\"mcz_io\"][1:reg_size]},\n",
    ")\n",
    "\n",
    "x_out = function_generator.XGate(\n",
    "    params=XGate(), in_wires={\"TARGET\": mcz_out[\"TARGET\"]}, should_control=False\n",
    ")\n",
    "\n",
    "function_generator.set_outputs(\n",
    "    {\"mcz_io\": QReg.concat(x_out[\"TARGET\"], mcz_out[\"ctrl_reg\"])}\n",
    ")\n",
    "\n",
    "qmci_library.add_function(function_generator.to_function_definition())"
   ]
  },
  {
   "cell_type": "markdown",
   "id": "87efcf09",
   "metadata": {},
   "source": [
    "**Implementing the complete Grover Operator**\n",
    "\n",
    "We can now define a complete Grover operator $Q \\equiv-S_{\\psi_1} A^{\\dagger} S_0 A$. Some points of emphasis are as follows:\n",
    "1. The operation of $\\boldsymbol{A}^{\\dagger}$ is done by calling $\\boldsymbol{A}$ and raising the flag is_inverse=True .\n",
    "2. We pass should_control=False for $\\boldsymbol{A}$ and $\\boldsymbol{A}^{\\dagger}$.\n",
    "3. When wiring from $\\boldsymbol{A}^{\\dagger}$ to $S_0$ we use concatenation of the $\\boldsymbol{n}$-sized ( io ) and singlesized ( ind ) registers into the $(n+1)$-sized mcz_io register.\n",
    "4. When wiring from $S_0$ to $A$ we use the corresponding opposite call of register slicing, from mcz_io to io and ind.\n",
    "5. We add a global phase of -1 to the full operator, by using the built-in UGate ."
   ]
  },
  {
   "cell_type": "code",
   "execution_count": 7,
   "id": "adce5aec",
   "metadata": {},
   "outputs": [],
   "source": [
    "function_generator = FunctionGenerator(function_name=\"grover\")\n",
    "function_generator.include_library(qmci_library)\n",
    "\n",
    "\n",
    "in_wires = function_generator.create_inputs(\n",
    "    {\"io\": QUInt[sp_num_qubits], \"ind\": QUInt[1]}\n",
    ")\n",
    "\n",
    "oracle_out = function_generator.good_state_oracle(in_wires=in_wires)\n",
    "\n",
    "sps_inverse_out = function_generator.state_amp_load(\n",
    "    in_wires={\"io\": oracle_out[\"io\"], \"ind\": oracle_out[\"ind\"]},\n",
    "    is_inverse=True,\n",
    "    should_control=False,\n",
    ")\n",
    "\n",
    "zero_oracle_out = function_generator.zero_oracle(\n",
    "    in_wires={\"mcz_io\": QReg.concat(sps_inverse_out[\"io\"], sps_inverse_out[\"ind\"])}\n",
    ")\n",
    "\n",
    "\n",
    "sps_out = function_generator.state_amp_load(\n",
    "    in_wires={\n",
    "        \"io\": zero_oracle_out[\"mcz_io\"][0:sp_num_qubits],\n",
    "        \"ind\": zero_oracle_out[\"mcz_io\"][sp_num_qubits],\n",
    "    },\n",
    "    should_control=False,\n",
    ")\n",
    "\n",
    "\n",
    "global_phase_out = function_generator.UGate(\n",
    "    UGate(theta=0, phi=0, lam=0, gam=np.pi), in_wires={\"TARGET\": sps_out[\"ind\"]}\n",
    ")\n",
    "#this operation takes care of the minus sign in the Grover operator\n",
    "\n",
    "function_generator.set_outputs({\"io\": sps_out[\"io\"], \"ind\": global_phase_out[\"TARGET\"]})\n",
    "\n",
    "\n",
    "qmci_library.add_function(function_generator.to_function_definition())"
   ]
  },
  {
   "cell_type": "markdown",
   "id": "8e0ac35f",
   "metadata": {},
   "source": [
    "Now we apply a basic AE algorithm which is based on QPE. The idea behind this Algorithm is the following:\n",
    "\n",
    "The state $\\boldsymbol{A}|\\mathbf{0}\\rangle_{\\boldsymbol{n}}|\\mathbf{0}\\rangle$ is spanned by two eigenvectors of our Grover operator $Q$, with the two corresponding eigenvalues\n",
    "$$\n",
    "\\lambda_{ \\pm}=\\exp ( \\pm i 2 \\pi \\theta), \\quad \\sin ^2( \\theta) \\equiv a .\n",
    "$$\n",
    "\n",
    "That is, the action of $Q$ on $|\\Psi\\rangle$ is,\n",
    "$$\n",
    "Q|\\Psi\\rangle= a_1 e^{+i2\\theta}|\\psi_+\\rangle + a_2 e^{-i2\\theta}|\\psi_-\\rangle\n",
    "$$\n",
    "\n",
    "where $|\\psi_+\\rangle$ and $|\\psi_-\\rangle$ are eigenvectors of the Grover operator $Q$ \n",
    "\n",
    "Denote $2 \\theta = \\frac{2\\pi q}{2^{m}}$, where $m$ is the size of the estimation register in the QPE algorithm.\n",
    "\n",
    "Now applying Quantum Phase Estimation,\n",
    "\n",
    "$$ QPE(|0\\rangle|\\Psi\\rangle)= a_1|q\\rangle|\\psi_+\\rangle + a_2 |q + 2^{m-1}\\rangle|\\psi_-\\rangle $$\n",
    "\n",
    "Note that the phases corresponding to the eigenvectors  $|\\psi_+\\rangle$ and $|\\psi_-\\rangle$ differ by angle $\\pi$; hence the term $|q + 2^{m-1}\\rangle$ in the above expression makes sense as,\n",
    "$$\\frac{2\\pi( q+ 2^{m-1})}{2^{m}}= \\frac{2\\pi q}{2^{m}} + \\pi$$\n",
    "If upon measurement of the estimation register we obtain $q'$ and $q'> 2^{m-1}$ then we get the phase corresponding to $|\\psi_-\\rangle$ branch, hence our estimated $q$ (say $q_p$) from the QPE algorithm is, $$ q_p= q' - 2^{m-1} $$\n",
    "\n",
    "Thus the value of $2\\theta$ is $ \\frac{2\\pi q_p}{2^{m}}$ and hence the the value of $a$ is simply,\n",
    "\n",
    "$$a= \\sin^{2}{\\theta}= \\sin^{2}(\\frac{\\pi q_p}{2^{m}})$$\n",
    "This result is exact, for the case where $q_p$ is an integer.\n",
    "\n",
    "Thus in summary, if we apply a QPE on $|\\psi\\rangle= \\boldsymbol{A}|\\mathbf{0}\\rangle_{\\boldsymbol{n}}|\\mathbf{0}\\rangle$ we will have these two eigenvalues encoded in the QPE register, however, both give the value of $a$, so there is no ambiguity here.\n",
    "\n",
    "To find $\\boldsymbol{a}$ we are going to build a simple quantum model: we apply $\\boldsymbol{A}$ on a quantum register of size $\\boldsymbol{n}+\\mathbf{1}$ initialized to zero, and then apply Classiq's QPE [QPE] with our user-defined Grover operator.\n",
    "\n",
    "Below, we build our model, define its output, and synthesize it. In particular, we define the output phase_result which holds the phase register of the QPE. We choose a QPE with phase register of size 3, governing the accuracy of our Phase-, and thus Amplitude-, Estimation. The way to pass our user defined function to the QPE is through the unitary and unitary_params parameters as follows:"
   ]
  },
  {
   "cell_type": "code",
   "execution_count": 9,
   "id": "ed639a7d",
   "metadata": {},
   "outputs": [
    {
     "name": "stdout",
     "output_type": "stream",
     "text": [
      "Opening: https://platform.classiq.io/circuit/c298c9fa-1651-43ee-8e1e-b334c2f194eb?version=0.35.0\n"
     ]
    }
   ],
   "source": [
    "#APPLYING AMPLITUDE ESTIMATION (AE) WITH QUANTUM PHASE ESTIMATION (QPE)\n",
    "\n",
    "n_qpe = 3\n",
    "model = Model()\n",
    "model.include_library(qmci_library)\n",
    "sp_output = model.state_amp_load() \n",
    "\n",
    "qpe_out = model.PhaseEstimation(\n",
    "    params=PhaseEstimation(\n",
    "        size=n_qpe, unitary_params=qmci_library.get_function(\"grover\"), unitary=\"grover\"\n",
    "    ),\n",
    "    in_wires={\"io\": sp_output[\"io\"], \"ind\": sp_output[\"ind\"]},\n",
    ")\n",
    "\n",
    "model.set_outputs({\"phase_result\": qpe_out[\"PHASE_ESTIMATION\"]})\n",
    "qprog = synthesize(model.get_model())\n",
    "show(qprog)"
   ]
  },
  {
   "cell_type": "code",
   "execution_count": null,
   "id": "3cfb7ff3",
   "metadata": {},
   "outputs": [],
   "source": []
  },
  {
   "cell_type": "code",
   "execution_count": 10,
   "id": "ba6324c5",
   "metadata": {
    "scrolled": false
   },
   "outputs": [
    {
     "ename": "ClassiqAPIError",
     "evalue": "Call to API failed with code 400: Requested program requires too many qubits.\nRequested qubits: 28, backend: aer_simulator, limit: 25.\nPlease run a different program or try a different backend.\n\nIf you need further assistance, please reach out on our Community Slack channel at: https://short.classiq.io/join-slack\nIf the error persists feel free to open a ticket at: https://short.classiq.io/support",
     "output_type": "error",
     "traceback": [
      "\u001b[1;31m---------------------------------------------------------------------------\u001b[0m",
      "\u001b[1;31mClassiqAPIError\u001b[0m                           Traceback (most recent call last)",
      "Cell \u001b[1;32mIn[10], line 1\u001b[0m\n\u001b[1;32m----> 1\u001b[0m results \u001b[38;5;241m=\u001b[39m execute(qprog)\u001b[38;5;241m.\u001b[39mresult()\n\u001b[0;32m      3\u001b[0m \u001b[38;5;28;01mfrom\u001b[39;00m \u001b[38;5;21;01mclassiq\u001b[39;00m\u001b[38;5;21;01m.\u001b[39;00m\u001b[38;5;21;01mexecution\u001b[39;00m \u001b[38;5;28;01mimport\u001b[39;00m ExecutionDetails\n\u001b[0;32m      5\u001b[0m res \u001b[38;5;241m=\u001b[39m results[\u001b[38;5;241m0\u001b[39m]\u001b[38;5;241m.\u001b[39mvalue\n",
      "File \u001b[1;32m~\\AppData\\Local\\anaconda3\\Lib\\site-packages\\classiq\\_internals\\async_utils.py:50\u001b[0m, in \u001b[0;36msyncify_function.<locals>.async_wrapper\u001b[1;34m(*args, **kwargs)\u001b[0m\n\u001b[0;32m     48\u001b[0m \u001b[38;5;129m@functools\u001b[39m\u001b[38;5;241m.\u001b[39mwraps(async_func)\n\u001b[0;32m     49\u001b[0m \u001b[38;5;28;01mdef\u001b[39;00m \u001b[38;5;21masync_wrapper\u001b[39m(\u001b[38;5;241m*\u001b[39margs: Any, \u001b[38;5;241m*\u001b[39m\u001b[38;5;241m*\u001b[39mkwargs: Any) \u001b[38;5;241m-\u001b[39m\u001b[38;5;241m>\u001b[39m T:\n\u001b[1;32m---> 50\u001b[0m     \u001b[38;5;28;01mreturn\u001b[39;00m run(async_func(\u001b[38;5;241m*\u001b[39margs, \u001b[38;5;241m*\u001b[39m\u001b[38;5;241m*\u001b[39mkwargs))\n",
      "File \u001b[1;32m~\\AppData\\Local\\anaconda3\\Lib\\site-packages\\classiq\\_internals\\async_utils.py:44\u001b[0m, in \u001b[0;36mrun\u001b[1;34m(coro)\u001b[0m\n\u001b[0;32m     39\u001b[0m \u001b[38;5;28;01mdef\u001b[39;00m \u001b[38;5;21mrun\u001b[39m(coro: Awaitable[T]) \u001b[38;5;241m-\u001b[39m\u001b[38;5;241m>\u001b[39m T:\n\u001b[0;32m     40\u001b[0m     \u001b[38;5;66;03m# Use this function instead of asyncio.run, since it ALWAYS\u001b[39;00m\n\u001b[0;32m     41\u001b[0m     \u001b[38;5;66;03m# creates a new event loop and clears the thread event loop.\u001b[39;00m\n\u001b[0;32m     42\u001b[0m     \u001b[38;5;66;03m# Never use asyncio.run in library code.\u001b[39;00m\n\u001b[0;32m     43\u001b[0m     loop \u001b[38;5;241m=\u001b[39m get_event_loop()\n\u001b[1;32m---> 44\u001b[0m     \u001b[38;5;28;01mreturn\u001b[39;00m loop\u001b[38;5;241m.\u001b[39mrun_until_complete(coro)\n",
      "File \u001b[1;32m~\\AppData\\Local\\anaconda3\\Lib\\site-packages\\nest_asyncio.py:90\u001b[0m, in \u001b[0;36m_patch_loop.<locals>.run_until_complete\u001b[1;34m(self, future)\u001b[0m\n\u001b[0;32m     87\u001b[0m \u001b[38;5;28;01mif\u001b[39;00m \u001b[38;5;129;01mnot\u001b[39;00m f\u001b[38;5;241m.\u001b[39mdone():\n\u001b[0;32m     88\u001b[0m     \u001b[38;5;28;01mraise\u001b[39;00m \u001b[38;5;167;01mRuntimeError\u001b[39;00m(\n\u001b[0;32m     89\u001b[0m         \u001b[38;5;124m'\u001b[39m\u001b[38;5;124mEvent loop stopped before Future completed.\u001b[39m\u001b[38;5;124m'\u001b[39m)\n\u001b[1;32m---> 90\u001b[0m \u001b[38;5;28;01mreturn\u001b[39;00m f\u001b[38;5;241m.\u001b[39mresult()\n",
      "File \u001b[1;32m~\\AppData\\Local\\anaconda3\\Lib\\asyncio\\futures.py:203\u001b[0m, in \u001b[0;36mFuture.result\u001b[1;34m(self)\u001b[0m\n\u001b[0;32m    201\u001b[0m \u001b[38;5;28mself\u001b[39m\u001b[38;5;241m.\u001b[39m__log_traceback \u001b[38;5;241m=\u001b[39m \u001b[38;5;28;01mFalse\u001b[39;00m\n\u001b[0;32m    202\u001b[0m \u001b[38;5;28;01mif\u001b[39;00m \u001b[38;5;28mself\u001b[39m\u001b[38;5;241m.\u001b[39m_exception \u001b[38;5;129;01mis\u001b[39;00m \u001b[38;5;129;01mnot\u001b[39;00m \u001b[38;5;28;01mNone\u001b[39;00m:\n\u001b[1;32m--> 203\u001b[0m     \u001b[38;5;28;01mraise\u001b[39;00m \u001b[38;5;28mself\u001b[39m\u001b[38;5;241m.\u001b[39m_exception\u001b[38;5;241m.\u001b[39mwith_traceback(\u001b[38;5;28mself\u001b[39m\u001b[38;5;241m.\u001b[39m_exception_tb)\n\u001b[0;32m    204\u001b[0m \u001b[38;5;28;01mreturn\u001b[39;00m \u001b[38;5;28mself\u001b[39m\u001b[38;5;241m.\u001b[39m_result\n",
      "File \u001b[1;32m~\\AppData\\Local\\anaconda3\\Lib\\asyncio\\tasks.py:267\u001b[0m, in \u001b[0;36mTask.__step\u001b[1;34m(***failed resolving arguments***)\u001b[0m\n\u001b[0;32m    263\u001b[0m \u001b[38;5;28;01mtry\u001b[39;00m:\n\u001b[0;32m    264\u001b[0m     \u001b[38;5;28;01mif\u001b[39;00m exc \u001b[38;5;129;01mis\u001b[39;00m \u001b[38;5;28;01mNone\u001b[39;00m:\n\u001b[0;32m    265\u001b[0m         \u001b[38;5;66;03m# We use the `send` method directly, because coroutines\u001b[39;00m\n\u001b[0;32m    266\u001b[0m         \u001b[38;5;66;03m# don't have `__iter__` and `__next__` methods.\u001b[39;00m\n\u001b[1;32m--> 267\u001b[0m         result \u001b[38;5;241m=\u001b[39m coro\u001b[38;5;241m.\u001b[39msend(\u001b[38;5;28;01mNone\u001b[39;00m)\n\u001b[0;32m    268\u001b[0m     \u001b[38;5;28;01melse\u001b[39;00m:\n\u001b[0;32m    269\u001b[0m         result \u001b[38;5;241m=\u001b[39m coro\u001b[38;5;241m.\u001b[39mthrow(exc)\n",
      "File \u001b[1;32m~\\AppData\\Local\\anaconda3\\Lib\\site-packages\\classiq\\executor.py:45\u001b[0m, in \u001b[0;36mexecute_async\u001b[1;34m(quantum_program)\u001b[0m\n\u001b[0;32m     43\u001b[0m \u001b[38;5;28;01masync\u001b[39;00m \u001b[38;5;28;01mdef\u001b[39;00m \u001b[38;5;21mexecute_async\u001b[39m(quantum_program: SerializedQuantumProgram) \u001b[38;5;241m-\u001b[39m\u001b[38;5;241m>\u001b[39m ExecutionJob:\n\u001b[0;32m     44\u001b[0m     circuit \u001b[38;5;241m=\u001b[39m _parse_serialized_qprog(quantum_program)\n\u001b[1;32m---> 45\u001b[0m     result \u001b[38;5;241m=\u001b[39m \u001b[38;5;28;01mawait\u001b[39;00m ApiWrapper\u001b[38;5;241m.\u001b[39mcall_execute_generated_circuit(circuit)\n\u001b[0;32m     46\u001b[0m     \u001b[38;5;28;01mreturn\u001b[39;00m ExecutionJob(details\u001b[38;5;241m=\u001b[39mresult)\n",
      "File \u001b[1;32m~\\AppData\\Local\\anaconda3\\Lib\\site-packages\\classiq\\_internals\\api_wrapper.py:98\u001b[0m, in \u001b[0;36mApiWrapper.call_execute_generated_circuit\u001b[1;34m(cls, circuit)\u001b[0m\n\u001b[0;32m     94\u001b[0m \u001b[38;5;129m@classmethod\u001b[39m\n\u001b[0;32m     95\u001b[0m \u001b[38;5;28;01masync\u001b[39;00m \u001b[38;5;28;01mdef\u001b[39;00m \u001b[38;5;21mcall_execute_generated_circuit\u001b[39m(\n\u001b[0;32m     96\u001b[0m     \u001b[38;5;28mcls\u001b[39m, circuit: generator_result\u001b[38;5;241m.\u001b[39mGeneratedCircuit\n\u001b[0;32m     97\u001b[0m ) \u001b[38;5;241m-\u001b[39m\u001b[38;5;241m>\u001b[39m execution_request\u001b[38;5;241m.\u001b[39mExecutionJobDetails:\n\u001b[1;32m---> 98\u001b[0m     data \u001b[38;5;241m=\u001b[39m \u001b[38;5;28;01mawait\u001b[39;00m \u001b[38;5;28mcls\u001b[39m\u001b[38;5;241m.\u001b[39m_call_task_pydantic(\n\u001b[0;32m     99\u001b[0m         http_method\u001b[38;5;241m=\u001b[39mHTTPMethod\u001b[38;5;241m.\u001b[39mPOST,\n\u001b[0;32m    100\u001b[0m         url\u001b[38;5;241m=\u001b[39mroutes\u001b[38;5;241m.\u001b[39mEXECUTION_JOBS_FULL_PATH,\n\u001b[0;32m    101\u001b[0m         model\u001b[38;5;241m=\u001b[39mcircuit,\n\u001b[0;32m    102\u001b[0m     )\n\u001b[0;32m    103\u001b[0m     \u001b[38;5;28;01mreturn\u001b[39;00m execution_request\u001b[38;5;241m.\u001b[39mExecutionJobDetails\u001b[38;5;241m.\u001b[39mparse_obj(data)\n",
      "File \u001b[1;32m~\\AppData\\Local\\anaconda3\\Lib\\site-packages\\classiq\\_internals\\api_wrapper.py:62\u001b[0m, in \u001b[0;36mApiWrapper._call_task_pydantic\u001b[1;34m(cls, http_method, url, model, use_versioned_url)\u001b[0m\n\u001b[0;32m     50\u001b[0m \u001b[38;5;129m@classmethod\u001b[39m\n\u001b[0;32m     51\u001b[0m \u001b[38;5;28;01masync\u001b[39;00m \u001b[38;5;28;01mdef\u001b[39;00m \u001b[38;5;21m_call_task_pydantic\u001b[39m(\n\u001b[0;32m     52\u001b[0m     \u001b[38;5;28mcls\u001b[39m,\n\u001b[1;32m   (...)\u001b[0m\n\u001b[0;32m     59\u001b[0m     \u001b[38;5;66;03m# This was added because JSON serializer doesn't serialize complex type, and pydantic does.\u001b[39;00m\n\u001b[0;32m     60\u001b[0m     \u001b[38;5;66;03m# We should add support for smarter json serialization.\u001b[39;00m\n\u001b[0;32m     61\u001b[0m     body \u001b[38;5;241m=\u001b[39m json\u001b[38;5;241m.\u001b[39mloads(model\u001b[38;5;241m.\u001b[39mjson())\n\u001b[1;32m---> 62\u001b[0m     \u001b[38;5;28;01mreturn\u001b[39;00m \u001b[38;5;28;01mawait\u001b[39;00m \u001b[38;5;28mcls\u001b[39m\u001b[38;5;241m.\u001b[39m_call_task(\n\u001b[0;32m     63\u001b[0m         http_method, url, body, use_versioned_url\u001b[38;5;241m=\u001b[39muse_versioned_url\n\u001b[0;32m     64\u001b[0m     )\n",
      "File \u001b[1;32m~\\AppData\\Local\\anaconda3\\Lib\\site-packages\\classiq\\_internals\\api_wrapper.py:75\u001b[0m, in \u001b[0;36mApiWrapper._call_task\u001b[1;34m(cls, http_method, url, body, params, use_versioned_url)\u001b[0m\n\u001b[0;32m     66\u001b[0m \u001b[38;5;129m@classmethod\u001b[39m\n\u001b[0;32m     67\u001b[0m \u001b[38;5;28;01masync\u001b[39;00m \u001b[38;5;28;01mdef\u001b[39;00m \u001b[38;5;21m_call_task\u001b[39m(\n\u001b[0;32m     68\u001b[0m     \u001b[38;5;28mcls\u001b[39m,\n\u001b[1;32m   (...)\u001b[0m\n\u001b[0;32m     73\u001b[0m     use_versioned_url: \u001b[38;5;28mbool\u001b[39m \u001b[38;5;241m=\u001b[39m \u001b[38;5;28;01mTrue\u001b[39;00m,\n\u001b[0;32m     74\u001b[0m ) \u001b[38;5;241m-\u001b[39m\u001b[38;5;241m>\u001b[39m \u001b[38;5;28mdict\u001b[39m:\n\u001b[1;32m---> 75\u001b[0m     res \u001b[38;5;241m=\u001b[39m \u001b[38;5;28;01mawait\u001b[39;00m client()\u001b[38;5;241m.\u001b[39mcall_api(\n\u001b[0;32m     76\u001b[0m         http_method\u001b[38;5;241m=\u001b[39mhttp_method,\n\u001b[0;32m     77\u001b[0m         url\u001b[38;5;241m=\u001b[39murl,\n\u001b[0;32m     78\u001b[0m         body\u001b[38;5;241m=\u001b[39mbody,\n\u001b[0;32m     79\u001b[0m         params\u001b[38;5;241m=\u001b[39mparams,\n\u001b[0;32m     80\u001b[0m         use_versioned_url\u001b[38;5;241m=\u001b[39muse_versioned_url,\n\u001b[0;32m     81\u001b[0m     )\n\u001b[0;32m     82\u001b[0m     \u001b[38;5;28;01mif\u001b[39;00m \u001b[38;5;129;01mnot\u001b[39;00m \u001b[38;5;28misinstance\u001b[39m(res, \u001b[38;5;28mdict\u001b[39m):\n\u001b[0;32m     83\u001b[0m         \u001b[38;5;28;01mraise\u001b[39;00m ClassiqValueError(\u001b[38;5;124mf\u001b[39m\u001b[38;5;124m\"\u001b[39m\u001b[38;5;124mUnexpected returned value: \u001b[39m\u001b[38;5;132;01m{\u001b[39;00mres\u001b[38;5;132;01m}\u001b[39;00m\u001b[38;5;124m\"\u001b[39m)\n",
      "File \u001b[1;32m~\\AppData\\Local\\anaconda3\\Lib\\site-packages\\classiq\\_internals\\client.py:99\u001b[0m, in \u001b[0;36mtry_again_on_failure.<locals>.wrapper\u001b[1;34m(*args, **kwargs)\u001b[0m\n\u001b[0;32m     97\u001b[0m \u001b[38;5;28;01mfor\u001b[39;00m i \u001b[38;5;129;01min\u001b[39;00m \u001b[38;5;28mrange\u001b[39m(_RETRY_COUNT):\n\u001b[0;32m     98\u001b[0m     \u001b[38;5;28;01mtry\u001b[39;00m:\n\u001b[1;32m---> 99\u001b[0m         \u001b[38;5;28;01mreturn\u001b[39;00m \u001b[38;5;28;01mawait\u001b[39;00m func(\u001b[38;5;241m*\u001b[39margs, \u001b[38;5;241m*\u001b[39m\u001b[38;5;241m*\u001b[39mkwargs)\n\u001b[0;32m    100\u001b[0m     \u001b[38;5;28;01mexcept\u001b[39;00m ClassiqExpiredTokenError:\n\u001b[0;32m    101\u001b[0m         _logger\u001b[38;5;241m.\u001b[39minfo(\n\u001b[0;32m    102\u001b[0m             \u001b[38;5;124m\"\u001b[39m\u001b[38;5;124mToken expired when trying to \u001b[39m\u001b[38;5;132;01m%s\u001b[39;00m\u001b[38;5;124m with args \u001b[39m\u001b[38;5;132;01m%s\u001b[39;00m\u001b[38;5;124m \u001b[39m\u001b[38;5;132;01m%s\u001b[39;00m\u001b[38;5;124m\"\u001b[39m,\n\u001b[0;32m    103\u001b[0m             func,\n\u001b[1;32m   (...)\u001b[0m\n\u001b[0;32m    106\u001b[0m             exc_info\u001b[38;5;241m=\u001b[39m\u001b[38;5;28;01mTrue\u001b[39;00m,\n\u001b[0;32m    107\u001b[0m         )\n",
      "File \u001b[1;32m~\\AppData\\Local\\anaconda3\\Lib\\site-packages\\classiq\\_internals\\client.py:209\u001b[0m, in \u001b[0;36mClient.call_api\u001b[1;34m(self, http_method, url, body, params, use_versioned_url)\u001b[0m\n\u001b[0;32m    202\u001b[0m \u001b[38;5;28;01masync\u001b[39;00m \u001b[38;5;28;01mwith\u001b[39;00m \u001b[38;5;28mself\u001b[39m\u001b[38;5;241m.\u001b[39masync_client() \u001b[38;5;28;01mas\u001b[39;00m async_client:\n\u001b[0;32m    203\u001b[0m     response \u001b[38;5;241m=\u001b[39m \u001b[38;5;28;01mawait\u001b[39;00m async_client\u001b[38;5;241m.\u001b[39mrequest(\n\u001b[0;32m    204\u001b[0m         method\u001b[38;5;241m=\u001b[39mhttp_method,\n\u001b[0;32m    205\u001b[0m         url\u001b[38;5;241m=\u001b[39murl,\n\u001b[0;32m    206\u001b[0m         json\u001b[38;5;241m=\u001b[39mbody,\n\u001b[0;32m    207\u001b[0m         params\u001b[38;5;241m=\u001b[39mparams,\n\u001b[0;32m    208\u001b[0m     )\n\u001b[1;32m--> 209\u001b[0m     \u001b[38;5;28mself\u001b[39m\u001b[38;5;241m.\u001b[39mhandle_response(response)\n\u001b[0;32m    210\u001b[0m     \u001b[38;5;28;01mreturn\u001b[39;00m response\u001b[38;5;241m.\u001b[39mjson()\n",
      "File \u001b[1;32m~\\AppData\\Local\\anaconda3\\Lib\\site-packages\\classiq\\_internals\\client.py:163\u001b[0m, in \u001b[0;36mClient.handle_response\u001b[1;34m(self, response)\u001b[0m\n\u001b[0;32m    161\u001b[0m \u001b[38;5;28;01mdef\u001b[39;00m \u001b[38;5;21mhandle_response\u001b[39m(\u001b[38;5;28mself\u001b[39m, response: httpx\u001b[38;5;241m.\u001b[39mResponse) \u001b[38;5;241m-\u001b[39m\u001b[38;5;241m>\u001b[39m \u001b[38;5;28;01mNone\u001b[39;00m:\n\u001b[0;32m    162\u001b[0m     \u001b[38;5;28;01mif\u001b[39;00m response\u001b[38;5;241m.\u001b[39mis_error:\n\u001b[1;32m--> 163\u001b[0m         \u001b[38;5;28mself\u001b[39m\u001b[38;5;241m.\u001b[39m_handle_error(response)\n\u001b[0;32m    164\u001b[0m     \u001b[38;5;28mself\u001b[39m\u001b[38;5;241m.\u001b[39m_handle_success(response)\n",
      "File \u001b[1;32m~\\AppData\\Local\\anaconda3\\Lib\\site-packages\\classiq\\_internals\\client.py:182\u001b[0m, in \u001b[0;36mClient._handle_error\u001b[1;34m(response)\u001b[0m\n\u001b[0;32m    180\u001b[0m \u001b[38;5;28;01mexcept\u001b[39;00m \u001b[38;5;167;01mException\u001b[39;00m:  \u001b[38;5;66;03m# nosec B110\u001b[39;00m\n\u001b[0;32m    181\u001b[0m     \u001b[38;5;28;01mpass\u001b[39;00m\n\u001b[1;32m--> 182\u001b[0m \u001b[38;5;28;01mraise\u001b[39;00m ClassiqAPIError(message)\n",
      "\u001b[1;31mClassiqAPIError\u001b[0m: Call to API failed with code 400: Requested program requires too many qubits.\nRequested qubits: 28, backend: aer_simulator, limit: 25.\nPlease run a different program or try a different backend.\n\nIf you need further assistance, please reach out on our Community Slack channel at: https://short.classiq.io/join-slack\nIf the error persists feel free to open a ticket at: https://short.classiq.io/support"
     ]
    }
   ],
   "source": [
    "results = execute(qprog).result()\n",
    "\n",
    "from classiq.execution import ExecutionDetails\n",
    "\n",
    "res = results[0].value\n",
    "\n",
    "print(res)\n",
    "\n",
    "phases_counts = res.parsed_counts\n",
    "\n",
    "print(phases_counts)\n",
    "\n",
    "## mapping between register string to phases\n",
    "phases_counts = dict(\n",
    "    (sampled_state.state[\"phase_result\"] / 2**n_qpe, sampled_state.shots)\n",
    "    for sampled_state in res.parsed_counts\n",
    ")\n",
    "\n",
    "print(phases_counts)\n",
    "\n",
    "plt.bar(phases_counts.keys(), phases_counts.values(), width=0.1)\n",
    "plt.xticks(rotation=90)\n",
    "plt.show()\n",
    "print(\"phase with max probability: \", max(phases_counts, key=phases_counts.get))\n",
    "\n",
    "print(\n",
    "    \"measured amplitude/PAYOFF: \",\n",
    "    np.sin(np.pi * max(phases_counts, key=phases_counts.get)) ** 2,\n",
    ")"
   ]
  }
 ],
 "metadata": {
  "kernelspec": {
   "display_name": "Python 3 (ipykernel)",
   "language": "python",
   "name": "python3"
  },
  "language_info": {
   "codemirror_mode": {
    "name": "ipython",
    "version": 3
   },
   "file_extension": ".py",
   "mimetype": "text/x-python",
   "name": "python",
   "nbconvert_exporter": "python",
   "pygments_lexer": "ipython3",
   "version": "3.11.5"
  }
 },
 "nbformat": 4,
 "nbformat_minor": 5
}
