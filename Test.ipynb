{
 "cells": [
  {
   "cell_type": "code",
   "execution_count": 2,
   "id": "8e26dc08",
   "metadata": {},
   "outputs": [],
   "source": [
    "#Finance Model\n",
    "\n",
    "#importing necessary modules \n",
    "\n",
    "import classiq\n",
    "from classiq.builtin_functions import PiecewiseLinearAmplitudeLoading, PhaseEstimation\n",
    "from classiq import QUInt, Model, synthesize, show, QReg, ControlState, execute,set_constraints\n",
    "from classiq import FunctionGenerator, FunctionLibrary, RegisterUserInput\n",
    "from classiq.builtin_functions import LinearPauliRotations, StatePreparation,AmplitudeEstimation, ArithmeticOracle, GroverOperator\n",
    "from classiq.builtin_functions import XGate, UGate, ZGate\n",
    "from classiq.model import Constraints, TranspilerBasisGates\n",
    "from classiq.execution import ExecutionDetails\n",
    "from classiq.execution import QaeWithQpeEstimationMethod\n",
    "from classiq.model import Constraints, OptimizationParameter\n",
    "import numpy as np\n",
    "import matplotlib.pyplot as plt"
   ]
  },
  {
   "cell_type": "code",
   "execution_count": 3,
   "id": "fc436861",
   "metadata": {},
   "outputs": [],
   "source": [
    "qmci_library = FunctionLibrary()\n",
    "function_generator =  FunctionGenerator(function_name=\"state_amp_load\")\n",
    "\n",
    "sp_num_qubits = 2\n",
    "\n",
    "#number of possible option prices is equal to 2^{number of qubits}. Here we consider 4 possible option price paths\n",
    "\n",
    "input_dict = function_generator.create_inputs({\"io\": QUInt[sp_num_qubits], \"ind\": QUInt[1]})\n",
    "# probabilities= [0.20174669, 0.31564887, 0.29626157, 1- (0.20174669+0.31564887+0.29626157)]\n",
    "probabilities= [0.20, 0.35, 0.25, 0.20]\n",
    "\n",
    "#specifying the probabilities of 4 price paths- this has been taken from a log-normal distribution with mean = 0.01 and std_dev = 0.1\n",
    "\n",
    "sp_params = StatePreparation(\n",
    "    probabilities=probabilities, error_metric={\"KL\": {\"upper_bound\": 0.00}}\n",
    ")\n",
    "\n",
    "sp_output = function_generator.StatePreparation(\n",
    "    params=sp_params, strict_zero_ios=False, in_wires={\"IN\": input_dict[\"io\"]})\n",
    "#the in_wires argument specifies the input register to the StatePreparation operation\n",
    "\n",
    "amplitude_loading_params = PiecewiseLinearAmplitudeLoading(\n",
    "    num_qubits=2,\n",
    "    breakpoints=[45, 70, 87.5],\n",
    "    affine_maps=[{\"offset\": 0, \"slope\": 0}, {\"offset\": -70, \"slope\": 1}])\n",
    "\n",
    "al_output = function_generator.PiecewiseLinearAmplitudeLoading(\n",
    "    params=amplitude_loading_params, strict_zero_ios=False, in_wires={\"state\":sp_output[\"OUT\"], \"target\": input_dict[\"ind\"]}\n",
    ")\n",
    "function_generator.set_outputs({\"io\": al_output[\"state\"], \"ind\": al_output[\"target\"]})\n",
    "\n",
    "qmci_library.add_function(function_generator.to_function_definition())"
   ]
  },
  {
   "cell_type": "code",
   "execution_count": 9,
   "id": "e8ad55b8",
   "metadata": {},
   "outputs": [
    {
     "ename": "ValidationError",
     "evalue": "1 validation error for GroverOperator\nstate_preparation_params -> state_preparation_params\n   (type=assertion_error)",
     "output_type": "error",
     "traceback": [
      "\u001b[1;31m---------------------------------------------------------------------------\u001b[0m",
      "\u001b[1;31mValidationError\u001b[0m                           Traceback (most recent call last)",
      "Cell \u001b[1;32mIn[9], line 7\u001b[0m\n\u001b[0;32m      1\u001b[0m state_amp\u001b[38;5;241m=\u001b[39m qmci_library\u001b[38;5;241m.\u001b[39mget_function(\u001b[38;5;124m'\u001b[39m\u001b[38;5;124mstate_amp_load\u001b[39m\u001b[38;5;124m'\u001b[39m)\n\u001b[0;32m      3\u001b[0m oracle_params \u001b[38;5;241m=\u001b[39m ArithmeticOracle(\n\u001b[0;32m      4\u001b[0m     expression\u001b[38;5;241m=\u001b[39m\u001b[38;5;124m\"\u001b[39m\u001b[38;5;124mind == 1\u001b[39m\u001b[38;5;124m\"\u001b[39m,\n\u001b[0;32m      5\u001b[0m     definitions\u001b[38;5;241m=\u001b[39m{\u001b[38;5;124m\"\u001b[39m\u001b[38;5;124mind\u001b[39m\u001b[38;5;124m\"\u001b[39m: RegisterUserInput(size\u001b[38;5;241m=\u001b[39m \u001b[38;5;241m1\u001b[39m)})\n\u001b[1;32m----> 7\u001b[0m grover_operator_params \u001b[38;5;241m=\u001b[39m GroverOperator(\n\u001b[0;32m      8\u001b[0m     oracle_params\u001b[38;5;241m=\u001b[39moracle_params,\n\u001b[0;32m      9\u001b[0m     state_preparation\u001b[38;5;241m=\u001b[39m \u001b[38;5;124m'\u001b[39m\u001b[38;5;124mstate_amp_load\u001b[39m\u001b[38;5;124m'\u001b[39m,\n\u001b[0;32m     10\u001b[0m     state_preparation_params\u001b[38;5;241m=\u001b[39mal_output,\n\u001b[0;32m     11\u001b[0m )\n\u001b[0;32m     13\u001b[0m qae_params \u001b[38;5;241m=\u001b[39m AmplitudeEstimation(grover_operator\u001b[38;5;241m=\u001b[39mgrover_operator_params, estimation_register_size\u001b[38;5;241m=\u001b[39m\u001b[38;5;241m3\u001b[39m)\n",
      "File \u001b[1;32m~\\AppData\\Local\\anaconda3\\Lib\\site-packages\\classiq\\interface\\generator\\function_params.py:196\u001b[0m, in \u001b[0;36mFunctionParams.__init__\u001b[1;34m(self, **data)\u001b[0m\n\u001b[0;32m    195\u001b[0m \u001b[38;5;28;01mdef\u001b[39;00m \u001b[38;5;21m__init__\u001b[39m(\u001b[38;5;28mself\u001b[39m, \u001b[38;5;241m*\u001b[39m\u001b[38;5;241m*\u001b[39mdata: Any) \u001b[38;5;241m-\u001b[39m\u001b[38;5;241m>\u001b[39m \u001b[38;5;28;01mNone\u001b[39;00m:\n\u001b[1;32m--> 196\u001b[0m     \u001b[38;5;28msuper\u001b[39m()\u001b[38;5;241m.\u001b[39m\u001b[38;5;21m__init__\u001b[39m(\u001b[38;5;241m*\u001b[39m\u001b[38;5;241m*\u001b[39mdata)\n\u001b[0;32m    197\u001b[0m     \u001b[38;5;28mself\u001b[39m\u001b[38;5;241m.\u001b[39m_create_ios()\n\u001b[0;32m    198\u001b[0m     \u001b[38;5;28;01mif\u001b[39;00m \u001b[38;5;129;01mnot\u001b[39;00m \u001b[38;5;28mself\u001b[39m\u001b[38;5;241m.\u001b[39m_inputs \u001b[38;5;129;01mand\u001b[39;00m \u001b[38;5;129;01mnot\u001b[39;00m \u001b[38;5;28mself\u001b[39m\u001b[38;5;241m.\u001b[39m_zero_inputs:\n",
      "File \u001b[1;32m~\\AppData\\Local\\anaconda3\\Lib\\site-packages\\pydantic\\main.py:341\u001b[0m, in \u001b[0;36mpydantic.main.BaseModel.__init__\u001b[1;34m()\u001b[0m\n",
      "\u001b[1;31mValidationError\u001b[0m: 1 validation error for GroverOperator\nstate_preparation_params -> state_preparation_params\n   (type=assertion_error)"
     ]
    }
   ],
   "source": [
    "\n",
    "state_amp= qmci_library.get_function('state_amp_load')\n",
    "\n",
    "oracle_params = ArithmeticOracle(\n",
    "    expression=\"ind == 1\",\n",
    "    definitions={\"ind\": RegisterUserInput(size= 1)})\n",
    "\n",
    "grover_operator_params = GroverOperator(\n",
    "    oracle_params=oracle_params,\n",
    "    state_preparation= 'state_amp_load',\n",
    "    state_preparation_params= state_amp,\n",
    ")\n",
    "    \n",
    "qae_params = AmplitudeEstimation(grover_operator=grover_operator_params, estimation_register_size=3)\n"
   ]
  },
  {
   "cell_type": "code",
   "execution_count": null,
   "id": "5da26c12",
   "metadata": {},
   "outputs": [],
   "source": []
  }
 ],
 "metadata": {
  "kernelspec": {
   "display_name": "Python 3 (ipykernel)",
   "language": "python",
   "name": "python3"
  },
  "language_info": {
   "codemirror_mode": {
    "name": "ipython",
    "version": 3
   },
   "file_extension": ".py",
   "mimetype": "text/x-python",
   "name": "python",
   "nbconvert_exporter": "python",
   "pygments_lexer": "ipython3",
   "version": "3.11.5"
  }
 },
 "nbformat": 4,
 "nbformat_minor": 5
}
