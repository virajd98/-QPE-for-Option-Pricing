{
 "cells": [
  {
   "cell_type": "markdown",
   "id": "93ec3d64",
   "metadata": {},
   "source": [
    "**Option Pricing using Quantum Phase Estimation**"
   ]
  },
  {
   "cell_type": "markdown",
   "id": "e6ced473",
   "metadata": {},
   "source": [
    "In this demo, we shall go through the steps involved in implementing option pricing using Quantum Phase Estimation. We will be using the classiq software development kit (SDK) for this purpose.\n",
    "\n"
   ]
  },
  {
   "cell_type": "markdown",
   "id": "c85b7d2c",
   "metadata": {},
   "source": [
    "**Theoretical Background:**\n",
    "\n",
    "*Financial options are contracts that give the holder the right (but not the obligation) to buy (call option) or sell (put option) a financial instrument (such as stocks) at a predetermined price (strike) before or at the expiration date.*\n",
    "\n",
    "Let's understand this with a simple example: Suppose an option contract (containing a fixed number of shares of a certain stock) is bought when the underlying stock is worth $X$ with a target/strike price for the stock at $K$ (here $K>X$) and an expiration date of $3$ years. The buyer pays a premium to the seller to purchase this contract. Within these three years, the price of this option changes due to the stochastic nature of the stock prices underlying it. If on or before the period of $3$ years the stock price crosses the threshold of $K$ and reaches the price $S$ ($S$ is called the payoff and here $S>K$) the contract buyer exercises his right to buy the stock at the predetermined target price $Y$. In this process the buyer makes a profit of $S-K$ (minus the premium paid, for net profit). If the stock price remains below $K$ on or before the expiry date, the buyer won't exercise the contract and would suffer a loss of the premium amount paid to the seller.\n",
    "\n",
    "The aim of option pricing is to figure out how much an option will be worth when it reaches its end date in the future.\n",
    "\n",
    "**Expected Pay-off of an Option**\n",
    "The expectation value of the payoff $E_P[f(X)]$ as an average across all prices paths is given by:\n",
    "$$\n",
    "\\mathbb{E}_{\\mathbb{P}}[f(\\mathbf{X})]=\\sum_{i=1}^{M} p_{i} f\\left(\\mathbf{X}_{i}\\right)\n",
    "$$\n",
    "where $p_{i}$ is the probability of realizing the price path $i$. $\\mathbf{X_i}$ is a column vector with $N$ rows (representing $N$ assets in the contract) and indicates a specific price path."
   ]
  },
  {
   "cell_type": "code",
   "execution_count": 64,
   "id": "3f1995ba",
   "metadata": {},
   "outputs": [
    {
     "name": "stdout",
     "output_type": "stream",
     "text": [
      "EXPECTED PAYOFF: 6.125\n"
     ]
    }
   ],
   "source": [
    "import numpy as np\n",
    "\n",
    "#Theoretically calculated expected pay-off\n",
    "\n",
    "probabilities= [0.20, 0.35, 0.25, 0.20] #probabilities of each price paths\n",
    "\n",
    "k=70\n",
    "s0= 50\n",
    "Y= [0.9, 1.5, 1.75, 1.25]  # s0*Y[i] represents the possible price path for i in range(4)\n",
    "\n",
    "pay_off_dist = [probabilities[x] * max(s0 * Y[x]- k , 0) for x in range(len(probabilities))] \n",
    "\n",
    "expected_expectation_value= np.sum(pay_off_dist) #E_P[f(X)]\n",
    "\n",
    "print('EXPECTED PAYOFF:', expected_expectation_value)\n"
   ]
  },
  {
   "cell_type": "markdown",
   "id": "f959e919",
   "metadata": {},
   "source": [
    "Now, we'll utilize classiq SDK to evaluate this using quantum computation.\n",
    "\n",
    "The first step is to install the latest version of classiq if not already working with the latest version."
   ]
  },
  {
   "cell_type": "code",
   "execution_count": null,
   "id": "6fa65bc8",
   "metadata": {
    "scrolled": true
   },
   "outputs": [],
   "source": [
    "pip install -U classiq"
   ]
  },
  {
   "cell_type": "markdown",
   "id": "ece2ce39",
   "metadata": {},
   "source": [
    "The first step is to import all the necessary modules; some of the imported methods would be explained later while being used."
   ]
  },
  {
   "cell_type": "code",
   "execution_count": 86,
   "id": "3df6c301",
   "metadata": {},
   "outputs": [],
   "source": [
    "#Finance Model\n",
    "\n",
    "#importing necessary modules \n",
    "\n",
    "import classiq\n",
    "from classiq.builtin_functions import PiecewiseLinearAmplitudeLoading, PhaseEstimation\n",
    "from classiq import QUInt, Model, synthesize, show, QReg, ControlState, execute,set_constraints\n",
    "from classiq import FunctionGenerator, FunctionLibrary, RegisterUserInput\n",
    "from classiq.builtin_functions import LinearPauliRotations, StatePreparation,AmplitudeEstimation, ArithmeticOracle, GroverOperator\n",
    "from classiq.builtin_functions import XGate, UGate, ZGate\n",
    "from classiq.model import Constraints, TranspilerBasisGates\n",
    "from classiq.execution import ExecutionDetails\n",
    "from classiq.execution import QaeWithQpeEstimationMethod\n",
    "from classiq.model import Constraints, OptimizationParameter\n",
    "import numpy as np\n",
    "import matplotlib.pyplot as plt"
   ]
  },
  {
   "cell_type": "markdown",
   "id": "d9f8f9b3",
   "metadata": {},
   "source": [
    "The first steps in developing a quantum program in classiq is designing a quantum model- defining the algorithms, its constraints, and our preferences. \n",
    "\n",
    "Classiq platform enables us to build a quantum model from a **functional level** instead of a gate level. It has various built-in functions that can be directly used or we also build our own set of functions. *In Classiq, quantum algorithms are constructed from functions, which are the functional building blocks that implement quantum logic, and the data flow between them.*\n",
    "\n",
    "Once our model is fully defined (the quantum program is described by using the `Model` object in classiq SDK), the next step is to synthesize it. The synthesis steps includes using the synthesize method on a SerializedModel that is received using the method `get_model()` of Model or from the content of .qmod file.\n",
    "\n"
   ]
  },
  {
   "cell_type": "markdown",
   "id": "535bad5a",
   "metadata": {},
   "source": [
    "**Step 1: Preparing all the functional blocks**\n",
    "\n",
    "The first function we shall define is the *state preparation* function. \n",
    "\n",
    "The first step involves loading the states into the quantum circuit. The states here are representative of possible option prices a option can take and the probabilities associated with the states represents the probability for a given option price. "
   ]
  },
  {
   "cell_type": "markdown",
   "id": "3173fd0c",
   "metadata": {},
   "source": [
    "**Defining the state preparation function**"
   ]
  },
  {
   "cell_type": "markdown",
   "id": "ae8b1fb7",
   "metadata": {},
   "source": [
    "The function library is responsible for managing the data structure where all the user-defined functions are stored, as well as storing and managing all the required data. The first step is to create a function library. All our functions then created will be added to this library and then will be appropraitely called while implementing our algorithm. Instantiating the `FunctionGenerator` class will generate a function with the provided name."
   ]
  },
  {
   "cell_type": "code",
   "execution_count": 87,
   "id": "247388b6",
   "metadata": {},
   "outputs": [],
   "source": [
    "qmci_library = FunctionLibrary()\n",
    "function_generator =  FunctionGenerator(function_name=\"state_loading\")"
   ]
  },
  {
   "cell_type": "markdown",
   "id": "70bf954b",
   "metadata": {},
   "source": [
    "The inputs and outputs of the function are defined using the `create_inputs()` and `set_outputs()` methods of FunctionGenerator respectively. \n",
    "\n",
    "`create_inputs()` gets a dictionary as input, where the keys are the input names and the values are QReg type. The function returns a dictionary, where the keys are the input names, and the values are QReg objects of the requested type and size that can be used as an input of an inner function call.\n",
    "`set_outputs()` gets a dictionary as input, where the keys are the output names and the values are QRegs returned by adding function calls to the FunctionGenerator instance.\n",
    "\n",
    "The in-built `StatePreparation` function of Classiq generates a quantum program whose output state probabilities are an approximation to the PMF given. For example in the below code, the function prepares 4 states, the probability of state |000> is 0.20174669. "
   ]
  },
  {
   "cell_type": "code",
   "execution_count": 88,
   "id": "f95933fe",
   "metadata": {},
   "outputs": [],
   "source": [
    "sp_num_qubits = 2  \n",
    "\n",
    "#number of possible option prices is equal to 2^{number of qubits}. Here we consider 4 possible option price paths\n",
    "\n",
    "input_dict = function_generator.create_inputs({\"io\": QUInt[sp_num_qubits], \"ind\": QUInt[1]})\n",
    "\n",
    "# probabilities= [0.20174669, 0.31564887, 0.29626157, 1- (0.20174669+0.31564887+0.29626157)]\n",
    "probabilities= [0.20, 0.35, 0.25, 0.20]\n",
    "\n",
    "#specifying the probabilities of 4 price paths- this has been taken from a log-normal distribution with mean = 0.01 and std_dev = 0.1\n",
    "\n",
    "sp_params = StatePreparation(\n",
    "    probabilities=probabilities, error_metric={\"KL\": {\"upper_bound\": 0.00}}\n",
    ")\n",
    "\n",
    "sp_output = function_generator.StatePreparation(\n",
    "    params=sp_params, strict_zero_ios=False, in_wires={\"IN\": input_dict[\"io\"]})\n",
    "#the in_wires argument soecifies the input register to the StatePreparation operation\n",
    "\n",
    "function_generator.set_outputs({\"io\": sp_output[\"OUT\"], \"ind\": input_dict[\"ind\"]})\n",
    "qmci_library.add_function(function_generator.to_function_definition()) \n",
    "# the last line adds the function \"state_loading\" to the function library that can be later used. \n"
   ]
  },
  {
   "cell_type": "markdown",
   "id": "e6cffc9c",
   "metadata": {},
   "source": [
    "The next step is to load the pay-off function for the European Call Option with a specific strike price. For this we create another functional block named 'amp_load'. "
   ]
  },
  {
   "cell_type": "markdown",
   "id": "f1530f79",
   "metadata": {},
   "source": [
    "The payoff function to describe for example a European call option will be:\n",
    "\n",
    "$f(S)=\\\n",
    "\\Bigg\\{\\begin{array}{lr}\n",
    "    0, & \\text{when } K\\geq S\\\\\n",
    "    S - K, & \\text{when } K < S\\end{array}\n",
    "$\n",
    "\n",
    "This means that the option which was purchased with a target/strike price of $K$ will be profitable only when the future price of the option $S$ exceeds $K$ within the expiry of the option contract.\n",
    "\n",
    "To load this linear pay-off function, we make use of classiq's inbuilt `PiecewiseLinearAmplitudeLoading` function. The AffineMap object, that has two attributes - offset and slope. For example, AffineMap(offset=a, slope=b) represents $f(x) = a + bx$. In this example $K=70$, hence for all the option prices below this level the payoff is $0$ indicated by the first element of the affine_map argument with offset=slope=0 and for option prices above this level the pay-off $f(s)= s-K$, hence offset= -K and slope=1. \n",
    "\n",
    "**Determining Breakpoints:** From $k=70, s0= 50, Y= [0.9, 1.5, 1.75, 1.25] $, the minimum value the asset can go upto is $0.9*50=45$ and the maximum value the asset can go upto is $1.75*50= 87.5$ and the strike is $70$, hence between 45 and 70, the payoff is $0$ and between 70 and 87.5, the payoff is $S-70$. Thus the breakpoints list would be $[45, 70, 87.5]$\n",
    "\n",
    "The piecewise linear amplitude loading function performs the following operation:\n",
    "$$\n",
    "|d\\rangle|0\\rangle \\rightarrow \\sqrt{1-\\tilde{f}(d)}|d\\rangle|0\\rangle+\\sqrt{\\tilde{f}(d)}|d\\rangle|1\\rangle\n",
    "$$\n",
    "for any input, $|d\\rangle$, piecewise linear function $f(d)$. Where $\\tilde{f}$ is a normalized and rescaled function of the given $f(d)$ :\n",
    "$$\n",
    "\\tilde{f}(d)=2 \\cdot \\frac{cf(\\phi(d))-f_{\\min }}{f_{\\max }-f_{\\min }}-c+0.5\n",
    "$$\n",
    "and:\n",
    "$$\n",
    "\\phi(d)=x_{\\min }+\\frac{x_{\\max }-x_{\\min }}{2^n-1} d\n",
    "$$\n",
    "$\\boldsymbol{c}$ is the given rescaling factor. $\\boldsymbol{f}_{\\min }, \\boldsymbol{f}_{\\max }$ are the minimal and maximal values of the function in the given domain, and $x_{\\min }, x_{\\max }$ are the boundaries of the domain."
   ]
  },
  {
   "cell_type": "code",
   "execution_count": 89,
   "id": "7606f960",
   "metadata": {},
   "outputs": [],
   "source": [
    "#Amplitude Loading block\n",
    "\n",
    "function_generator = FunctionGenerator(function_name=\"amp_load\")\n",
    "\n",
    "input_dict = function_generator.create_inputs(\n",
    "    {\"io\": QUInt[sp_num_qubits], \"ind\": QUInt[1]}\n",
    ")\n",
    "\n",
    "amplitude_loading_params = PiecewiseLinearAmplitudeLoading(\n",
    "    num_qubits=2,\n",
    "    breakpoints=[45, 70, 87.5],\n",
    "    affine_maps=[{\"offset\": 0, \"slope\": 0}, {\"offset\": -70, \"slope\": 1}])\n",
    "\n",
    "al_output = function_generator.PiecewiseLinearAmplitudeLoading(\n",
    "    params=amplitude_loading_params, strict_zero_ios=False, in_wires={\"state\":input_dict[\"io\"], \"target\": input_dict[\"ind\"]}\n",
    ")\n",
    "\n",
    "# scaled_expectation_value = 0.5  # Probability of 1 after some execution\n",
    "# expectation_value = amplitude_loading_params.compute_expectation_value(\n",
    "#     scaled_expectation_value\n",
    "# )\n",
    "function_generator.set_outputs({\"io\": al_output[\"state\"], \"ind\": al_output[\"target\"]})\n",
    "\n",
    "qmci_library.add_function(function_generator.to_function_definition())"
   ]
  },
  {
   "cell_type": "markdown",
   "id": "006fd309",
   "metadata": {},
   "source": [
    "Next, we will bring these two blocks together and define a single function that would represent $\\boldsymbol{A}$. "
   ]
  },
  {
   "cell_type": "code",
   "execution_count": 90,
   "id": "7a0ad48d",
   "metadata": {},
   "outputs": [],
   "source": [
    "qmci_library = FunctionLibrary()\n",
    "function_generator =  FunctionGenerator(function_name=\"state_amp_load\")\n",
    "\n",
    "sp_num_qubits = 2\n",
    "\n",
    "#number of possible option prices is equal to 2^{number of qubits}. Here we consider 4 possible option price paths\n",
    "\n",
    "input_dict = function_generator.create_inputs({\"io\": QUInt[sp_num_qubits], \"ind\": QUInt[1]})\n",
    "# probabilities= [0.20174669, 0.31564887, 0.29626157, 1- (0.20174669+0.31564887+0.29626157)]\n",
    "probabilities= [0.20, 0.35, 0.25, 0.20]\n",
    "\n",
    "#specifying the probabilities of 4 price paths- this has been taken from a log-normal distribution with mean = 0.01 and std_dev = 0.1\n",
    "\n",
    "sp_params = StatePreparation(\n",
    "    probabilities=probabilities, error_metric={\"KL\": {\"upper_bound\": 0.00}}\n",
    ")\n",
    "\n",
    "sp_output = function_generator.StatePreparation(\n",
    "    params=sp_params, strict_zero_ios=False, in_wires={\"IN\": input_dict[\"io\"]})\n",
    "#the in_wires argument soecifies the input register to the StatePreparation operation\n",
    "\n",
    "amplitude_loading_params = PiecewiseLinearAmplitudeLoading(\n",
    "    num_qubits=2,\n",
    "    breakpoints=[45, 70, 87.5],\n",
    "    affine_maps=[{\"offset\": 0, \"slope\": 0}, {\"offset\": -70, \"slope\": 1}])\n",
    "\n",
    "al_output = function_generator.PiecewiseLinearAmplitudeLoading(\n",
    "    params=amplitude_loading_params, strict_zero_ios=False, in_wires={\"state\":sp_output[\"OUT\"], \"target\": input_dict[\"ind\"]}\n",
    ")\n",
    "function_generator.set_outputs({\"io\": al_output[\"state\"], \"ind\": al_output[\"target\"]})\n",
    "\n",
    "qmci_library.add_function(function_generator.to_function_definition())"
   ]
  },
  {
   "cell_type": "markdown",
   "id": "2268e996",
   "metadata": {},
   "source": [
    "Now we're ready to perform Quantum Amplitude Estimation. Let's say we have a unitary operator $A$ acting on a register of $(n+1)$ qubits such that \\begin{equation}\n",
    "A |0>_{n+1}= |\\Psi>= \\sqrt {1-a}|\\psi_{0}>_{n}|0> + \\sqrt{a}|\\psi_{1}>_{n}|1> \\end{equation} where $|\\psi_{0}>_{n}$ and $|\\psi_{1}>_{n}$ are some $n$-qubit normalized states and $a\\in [0,1]$ is unknown and with AE we need to efficiently estimate $a$.\n",
    "We use the Grover Operator defined by $Q= A S_{0} A^{\\dagger} S_{|\\psi_{0}>}$, where $S_{0}= 1- 2|0><0|$ and $S_{|\\psi_{0}}>= 1- 2|\\psi_{0}>|{0}><\\psi_{0}|<0|$, represent the reflection operators about the state $|0>$ and the good state $|\\psi_{0}>$ respectively. The full action of the operator $Q$ is to rotate the state $A |0>_{n+1}$ by an angle $2\\theta$ in the $2D$ space spanned by $|\\psi_{0}>_{n}|0>$ and $|\\psi_{1}>_{n}|1>$, where $a= \\sin^{2}{(\\theta)}$. \n",
    "\n",
    "\n",
    "The algorithm $A$ in our case consists of both the stateloading and the amplitude loading part. For an option with payoff $f$, let's suppose the $\\mathcal{A}$ operator creates the following state: \n",
    "\n",
    "\\begin{equation}\\label{eq:main}\n",
    "\\sum_{i=0}^{2^{n}-1} \\sqrt{1-\\tilde{f}\\left(d_{i}\\right)} \\sqrt{p_{i}}\\left|d_{i}\\right\\rangle|0\\rangle+\\sum_{i=0}^{2^{n}-1} \\sqrt{\\tilde{f}\\left(d_{i}\\right)} \\sqrt{p_{i}}\\left|d_{i}\\right\\rangle|1\\rangle .\n",
    "\\end{equation}\n",
    "where $d_{i}$ represent the possible values the underlying asset can take and the corresponding probabilities are $p_{i}$. Here we have assumed that the prices can take $2^{n}$ possible values on expiration and on a quantum circuit $n$ qubits can be used to represent all these price paths. Note that from the second term its possible to retrieve the required expectation value.\n",
    "\n",
    "The probability to find the ancilla qubit in state $|1\\rangle$, is given by $$P_{1} = \\sum_{i=0}^{2^{n}-1} p_{i}\\left(c \\tilde{f}(i)+\\frac{1}{2}\\right)=c (\\frac{2 \\mathbb{E}[f(X)]-f_{\\min }}{f_{\\max }-f_{\\min }})-c+\\frac{1}{2}$$\n",
    "\n",
    "Thus we could recover $\\mathbb{E}[\\max (0, i-K)]$ from $P_{1}$ up to a scaling factor and a constant.\n"
   ]
  },
  {
   "cell_type": "markdown",
   "id": "62be4591",
   "metadata": {},
   "source": [
    "**Implementing the Grover's operator as a Composite function in Classiq**\n",
    "\n",
    "The Grover's operator consists of essentially $3$ parts- Reflection about the good state ($S_{|\\psi_{0}>}$), Reflection about the zero state ($S_{0}$) and the algorithm $A$"
   ]
  },
  {
   "cell_type": "markdown",
   "id": "d84b1e5e",
   "metadata": {},
   "source": [
    "The good state oracle in this case should be an operation that flips the sign of the good state, here the state being the one with ancilla qubit $|1>$. Thus a Z-gate on the \"ind\" register will achieve the desired outcome. "
   ]
  },
  {
   "cell_type": "code",
   "execution_count": 92,
   "id": "8c25a0a4",
   "metadata": {},
   "outputs": [],
   "source": [
    "# Good State Oracle\n",
    "\n",
    "function_generator = FunctionGenerator(function_name=\"good_state_oracle\")\n",
    "\n",
    "input_dict = function_generator.create_inputs(\n",
    "    {\"io\": QUInt[sp_num_qubits], \"ind\": QUInt[1]}\n",
    ")\n",
    "\n",
    "z_out = function_generator.ZGate(\n",
    "    params=ZGate(),\n",
    "    in_wires={\"TARGET\": input_dict[\"ind\"]},\n",
    ")\n",
    "\n",
    "function_generator.set_outputs({\"ind\": z_out[\"TARGET\"], \"io\": input_dict[\"io\"]})\n",
    "qmci_library.add_function(function_generator.to_function_definition())"
   ]
  },
  {
   "cell_type": "markdown",
   "id": "808a8cc0",
   "metadata": {},
   "source": [
    "The next part in the Grover's operator includes reflection about the zero state. The operator action is to flip the sign of the state if its a zero state and do nothing otherwise. Consider a general state of $(n+1)$ qubits. We choose an arbitrary qubit, say the first one. We would like to apply a $(-Z)$ Gate on it, controlled by all the rest of the $n$ qubits being at state zero. This is exactly the functionality we would like to achieve for implementing reflection about the zero state. Note that this function is a generic one, independent of the specific problem and partitioning to io and ind registers. We thus define a generic zero_oracle function, having $n+1$ sized input and output registers, which we designate with the name mcz_io."
   ]
  },
  {
   "cell_type": "code",
   "execution_count": 93,
   "id": "466536d5",
   "metadata": {},
   "outputs": [],
   "source": [
    "# Function representing reflection about the zero state\n",
    "\n",
    "function_generator = FunctionGenerator(function_name=\"zero_oracle\")\n",
    "\n",
    "reg_size = sp_num_qubits + 1\n",
    "input_dict = function_generator.create_inputs({\"mcz_io\": QUInt[reg_size]})\n",
    "\n",
    "x_out = function_generator.XGate(\n",
    "    params=XGate(),\n",
    "    in_wires={\"TARGET\": input_dict[\"mcz_io\"][0]},\n",
    "    should_control=False,\n",
    ")\n",
    "\n",
    "control_states = ControlState(ctrl_state=\"0\" * (reg_size - 1), name=\"ctrl_reg\")\n",
    "\n",
    "mcz_out = function_generator.ZGate(\n",
    "    params=ZGate(),\n",
    "    control_states=control_states,\n",
    "    in_wires={\"TARGET\": x_out[\"TARGET\"], \"ctrl_reg\": input_dict[\"mcz_io\"][1:reg_size]},\n",
    ")\n",
    "\n",
    "x_out = function_generator.XGate(\n",
    "    params=XGate(), in_wires={\"TARGET\": mcz_out[\"TARGET\"]}, should_control=False\n",
    ")\n",
    "\n",
    "function_generator.set_outputs(\n",
    "    {\"mcz_io\": QReg.concat(x_out[\"TARGET\"], mcz_out[\"ctrl_reg\"])}\n",
    ")\n",
    "\n",
    "qmci_library.add_function(function_generator.to_function_definition())"
   ]
  },
  {
   "cell_type": "markdown",
   "id": "a077fde3",
   "metadata": {},
   "source": [
    "**Implementing the complete Grover Operator**\n",
    "\n",
    "We can now define a complete Grover operator $Q \\equiv- A S_0 A^{\\dagger} S_{\\psi_1} $. Some points of emphasis are as follows:\n",
    "1. The operation of $\\boldsymbol{A}^{\\dagger}$ is done by calling $\\boldsymbol{A}$ and raising the flag is_inverse=True .\n",
    "2. We pass should_control=False for $\\boldsymbol{A}$ and $\\boldsymbol{A}^{\\dagger}$.\n",
    "3. When wiring from $\\boldsymbol{A}^{\\dagger}$ to $S_0$ we use concatenation of the $\\boldsymbol{n}$-sized ( io ) and singlesized ( ind ) registers into the $(n+1)$-sized mcz_io register.\n",
    "4. When wiring from $S_0$ to $A$ we use the corresponding opposite call of register slicing, from mcz_io to io and ind.\n",
    "5. We add a global phase of -1 to the full operator, by using the built-in UGate ."
   ]
  },
  {
   "cell_type": "code",
   "execution_count": 94,
   "id": "adce5aec",
   "metadata": {},
   "outputs": [],
   "source": [
    "function_generator = FunctionGenerator(function_name=\"grover\")\n",
    "function_generator.include_library(qmci_library)\n",
    "\n",
    "\n",
    "in_wires = function_generator.create_inputs(\n",
    "    {\"io\": QUInt[sp_num_qubits], \"ind\": QUInt[1]}\n",
    ")\n",
    "\n",
    "oracle_out = function_generator.good_state_oracle(in_wires=in_wires)\n",
    "\n",
    "sps_inverse_out = function_generator.state_amp_load(\n",
    "    in_wires={\"io\": oracle_out[\"io\"], \"ind\": oracle_out[\"ind\"]},\n",
    "    is_inverse=True,\n",
    "    should_control=False,\n",
    ")\n",
    "\n",
    "zero_oracle_out = function_generator.zero_oracle(\n",
    "    in_wires={\"mcz_io\": QReg.concat(sps_inverse_out[\"io\"], sps_inverse_out[\"ind\"])}\n",
    ")\n",
    "\n",
    "\n",
    "sps_out = function_generator.state_amp_load(\n",
    "    in_wires={\n",
    "        \"io\": zero_oracle_out[\"mcz_io\"][0:sp_num_qubits],\n",
    "        \"ind\": zero_oracle_out[\"mcz_io\"][sp_num_qubits],\n",
    "    },\n",
    "    should_control=False,\n",
    ")\n",
    "\n",
    "\n",
    "global_phase_out = function_generator.UGate(\n",
    "    UGate(theta=0, phi=0, lam=0, gam=np.pi), in_wires={\"TARGET\": sps_out[\"ind\"]}\n",
    ")\n",
    "#this operation takes care of the minus sign in the Grover operator\n",
    "\n",
    "function_generator.set_outputs({\"io\": sps_out[\"io\"], \"ind\": global_phase_out[\"TARGET\"]})\n",
    "\n",
    "\n",
    "qmci_library.add_function(function_generator.to_function_definition())"
   ]
  },
  {
   "cell_type": "markdown",
   "id": "a2538429",
   "metadata": {},
   "source": [
    "Now we apply a basic AE algorithm which is based on QPE. The idea behind this Algorithm is the following:\n",
    "\n",
    "The state $\\boldsymbol{A}|\\mathbf{0}\\rangle_{\\boldsymbol{n}}|\\mathbf{0}\\rangle$ is spanned by two eigenvectors of our Grover operator $Q$, with the two corresponding eigenvalues\n",
    "$$\n",
    "\\lambda_{ \\pm}=\\exp ( \\pm i 2 \\pi \\theta), \\quad \\sin ^2( \\theta) \\equiv a .\n",
    "$$\n",
    "\n",
    "That is, the action of $Q$ on $|\\Psi\\rangle$ is,\n",
    "$$\n",
    "Q|\\Psi\\rangle= a_1 e^{+i2\\theta}|\\psi_+\\rangle + a_2 e^{-i2\\theta}|\\psi_-\\rangle\n",
    "$$\n",
    "\n",
    "where $|\\psi_+\\rangle$ and $|\\psi_-\\rangle$ are eigenvectors of the Grover operator $Q$ \n",
    "\n",
    "Denote $2 \\theta = \\frac{2\\pi q}{2^{m}}$, where $m$ is the size of the estimation register in the QPE algorithm.\n",
    "\n",
    "Now applying Quantum Phase Estimation,\n",
    "\n",
    "$$ QPE(|0\\rangle|\\Psi\\rangle)= a_1|q\\rangle|\\psi_+\\rangle + a_2 |q + 2^{m-1}\\rangle|\\psi_-\\rangle $$\n",
    "\n",
    "Note that the phases corresponding to the eigenvectors  $|\\psi_+\\rangle$ and $|\\psi_-\\rangle$ differ by angle $\\pi$; hence the term $|q + 2^{m-1}\\rangle$ in the above expression makes sense as,\n",
    "$$\\frac{2\\pi( q+ 2^{m-1})}{2^{m}}= \\frac{2\\pi q}{2^{m}} + \\pi$$\n",
    "If upon measurement of the estimation register we obtain $q'$ and $q'> 2^{m-1}$ then we get the phase corresponding to $|\\psi_-\\rangle$ branch, hence our estimated $q$ (say $q_p$) from the QPE algorithm is, $$ q_p= q' - 2^{m-1} $$\n",
    "\n",
    "Thus the value of $2\\theta$ is $ \\frac{2\\pi q_p}{2^{m}}$ and hence the the value of $a$ is simply,\n",
    "\n",
    "$$a= \\sin^{2}{\\theta}= \\sin^{2}(\\frac{\\pi q_p}{2^{m}})$$\n",
    "This result is exact, for the case where $q_p$ is an integer.\n",
    "\n",
    "Thus in summary, if we apply a QPE on $|\\psi\\rangle= \\boldsymbol{A}|\\mathbf{0}\\rangle_{\\boldsymbol{n}}|\\mathbf{0}\\rangle$ we will have these two eigenvalues encoded in the QPE register, however, both give the value of $a$, so there is no ambiguity here.\n",
    "\n",
    "To find $\\boldsymbol{a}$ we are going to build a simple quantum model: we apply $\\boldsymbol{A}$ on a quantum register of size $\\boldsymbol{n}+\\mathbf{1}$ initialized to zero, and then apply Classiq's QPE [QPE] with our user-defined Grover operator.\n",
    "\n",
    "Below, we build our model, define its output, and synthesize it. In particular, we define the output phase_result which holds the phase register of the QPE. We choose a QPE with phase register of size 3, governing the accuracy of our Phase-, and thus Amplitude-, Estimation. The way to pass our user defined function to the QPE is through the unitary and unitary_params parameters as follows:"
   ]
  },
  {
   "cell_type": "code",
   "execution_count": null,
   "id": "efec45c2",
   "metadata": {},
   "outputs": [],
   "source": []
  },
  {
   "cell_type": "code",
   "execution_count": 96,
   "id": "ed639a7d",
   "metadata": {},
   "outputs": [
    {
     "name": "stdout",
     "output_type": "stream",
     "text": [
      "Opening: https://platform.classiq.io/circuit/d3d71073-9622-4dc8-986a-5aecf229af89?version=0.35.0\n"
     ]
    }
   ],
   "source": [
    "#APPLYING AMPLITUDE ESTIMATION (AE) WITH QUANTUM PHASE ESTIMATION (QPE)\n",
    "\n",
    "n_qpe = 4\n",
    "constraints = Constraints(\n",
    "    max_width=23,\n",
    "    max_depth=5000,\n",
    ")\n",
    "\n",
    "model = Model()\n",
    "model.include_library(qmci_library)\n",
    "sp_output = model.state_amp_load() \n",
    "\n",
    "qpe_out = model.PhaseEstimation(\n",
    "    params=PhaseEstimation(\n",
    "        size=n_qpe, unitary_params=qmci_library.get_function(\"grover\"), unitary=\"grover\"\n",
    "    ),\n",
    "    in_wires={\"io\": sp_output[\"io\"], \"ind\": sp_output[\"ind\"]},\n",
    ")\n",
    "# qae_params = AmplitudeEstimation(\n",
    "#     grover_operator=qmci_library.get_function(\"grover\"),\n",
    "#     estimation_register_size=n_qpe\n",
    "# )\n",
    "# qae_out= model.AmplitudeEstimation(params=qae_params,in_wires={\"io\": sp_output[\"io\"], \"ind\": sp_output[\"ind\"]})\n",
    "\n",
    "# model.set_outputs({\"phase\": qae_out_wires[\"ESTIMATED_AMPLITUDE_OUTPUT\"]})\n",
    "# model.sample()\n",
    "# model.post_process_amplitude_estimation(\n",
    "#     estimation_register_size=3, estimation_method=QaeWithQpeEstimationMethod.BEST_FIT\n",
    "# )\n",
    "\n",
    "model.set_outputs({\"phase_result\": qpe_out[\"PHASE_ESTIMATION\"]})\n",
    "serialized_model = model.get_model()\n",
    "serialized_model_constraints = set_constraints(serialized_model, constraints)\n",
    "qprog= synthesize(serialized_model_constraints)\n",
    "show(qprog)"
   ]
  },
  {
   "cell_type": "code",
   "execution_count": 97,
   "id": "ba6324c5",
   "metadata": {
    "scrolled": false
   },
   "outputs": [
    {
     "name": "stdout",
     "output_type": "stream",
     "text": [
      "A: [SampledState(state={'phase_result': 8.0}, shots=277), SampledState(state={'phase_result': 13.0}, shots=244), SampledState(state={'phase_result': 3.0}, shots=225), SampledState(state={'phase_result': 11.0}, shots=174), SampledState(state={'phase_result': 5.0}, shots=134), SampledState(state={'phase_result': 9.0}, shots=124), SampledState(state={'phase_result': 1.0}, shots=120), SampledState(state={'phase_result': 4.0}, shots=116), SampledState(state={'phase_result': 0.0}, shots=114), SampledState(state={'phase_result': 7.0}, shots=111), SampledState(state={'phase_result': 15.0}, shots=109), SampledState(state={'phase_result': 12.0}, shots=97), SampledState(state={'phase_result': 10.0}, shots=78), SampledState(state={'phase_result': 6.0}, shots=71), SampledState(state={'phase_result': 2.0}, shots=28), SampledState(state={'phase_result': 14.0}, shots=26)]\n",
      "B: {0.5: 277, 0.8125: 244, 0.1875: 225, 0.6875: 174, 0.3125: 134, 0.5625: 124, 0.0625: 120, 0.25: 116, 0.0: 114, 0.4375: 111, 0.9375: 109, 0.75: 97, 0.625: 78, 0.375: 71, 0.125: 28, 0.875: 26}\n"
     ]
    },
    {
     "data": {
      "image/png": "[encoded data removed]",
      "text/plain": [
       "<Figure size 640x480 with 1 Axes>"
      ]
     },
     "metadata": {},
     "output_type": "display_data"
    },
    {
     "name": "stdout",
     "output_type": "stream",
     "text": [
      "phase with max probability:  0.5\n",
      "measured amplitude/PAYOFF:  1.0\n"
     ]
    }
   ],
   "source": [
    "results = execute(qprog).result()\n",
    "\n",
    "from classiq.execution import ExecutionDetails\n",
    "\n",
    "res = results[0].value\n",
    "\n",
    "# print(res)\n",
    "\n",
    "phases_counts = res.parsed_counts #The counts for the phases stored in the phase_result are given in res.parsed_counts\n",
    "\n",
    "print('A:', phases_counts)\n",
    "\n",
    "## mapping between register string to phases\n",
    "phases_counts = dict(\n",
    "    (sampled_state.state[\"phase_result\"] / 2**n_qpe, sampled_state.shots)\n",
    "    for sampled_state in res.parsed_counts\n",
    ")\n",
    "\n",
    "print('B:', phases_counts)\n",
    "\n",
    "plt.bar(phases_counts.keys(), phases_counts.values(), width=0.1)\n",
    "plt.xticks(rotation=90)\n",
    "plt.show()\n",
    "print(\"phase with max probability: \", max(phases_counts, key=phases_counts.get))\n",
    "\n",
    "print(\n",
    "    \"measured amplitude/PAYOFF: \",\n",
    "    np.sin(np.pi * max(phases_counts, key=phases_counts.get)) ** 2,\n",
    ")"
   ]
  },
  {
   "cell_type": "code",
   "execution_count": 52,
   "id": "c1722cd9",
   "metadata": {},
   "outputs": [
    {
     "name": "stdout",
     "output_type": "stream",
     "text": [
      "14.320423008216336\n"
     ]
    }
   ],
   "source": [
    "# import math\n",
    "\n",
    "# expected_pay_off= (((1+ (((math.pi)/4)-0.5))/((math.pi)/4))*17.5)/2\n",
    "# print(expected_pay_off)\n"
   ]
  },
  {
   "cell_type": "code",
   "execution_count": 98,
   "id": "66f286fc",
   "metadata": {},
   "outputs": [
    {
     "name": "stdout",
     "output_type": "stream",
     "text": [
      "13.911268065124442\n"
     ]
    }
   ],
   "source": [
    "scaled_expectation_value = 1  # Probability of 1 after some execution\n",
    "expectation_value = amplitude_loading_params.compute_expectation_value(\n",
    "    scaled_expectation_value\n",
    "# )\n",
    "print(expectation_value)"
   ]
  },
  {
   "cell_type": "code",
   "execution_count": null,
   "id": "fd82981d",
   "metadata": {},
   "outputs": [],
   "source": [
    "\n",
    "state_amp= qmci_library.get_function('state_amp_load')\n",
    "\n",
    "oracle_params = ArithmeticOracle(\n",
    "    expression=\"ind == 1\",\n",
    "    definitions={\"ind\": RegisterUserInput(size= 1)}\n",
    "# state_preparation_params = StatePreparation(\n",
    "#     probabilities=[0.15, 0.19, 0.11, 0.27, 0, 0.01, 0, 0.27],\n",
    "#     error_metric={\"KL\": {\"upper_bound\": 0}},\n",
    "# )\n",
    "grover_operator_params = GroverOperator(\n",
    "    oracle_params=oracle_params,\n",
    "    state_preparation_params='state_amp_load',\n",
    ")\n",
    "    \n",
    "qae_params = AmplitudeEstimation(grover_operator=grover_operator_params, estimation_register_size=3)\n",
    "\n",
    "\n",
    "# The model\n",
    "model = Model()\n",
    "model.sample()\n",
    "\n",
    "sp_output = model.state_amp_load()\n",
    "\n",
    "grover_dict = model.GroverOperator(\n",
    "    params=grover_operator_params, in_wires={\"io\": sp_output[\"io\"], \"ind\": sp_output[\"ind\"]}\n",
    ")\n",
    "\n",
    "qae_out_wires = model.AmplitudeEstimation(params=qae_params, in_wires={\"io\": sp_output[\"io\"], \"ind\": sp_output[\"ind\"]})\n",
    "model.set_outputs({\"phase\": qae_out_wires[\"ESTIMATED_AMPLITUDE_OUTPUT\"]})\n",
    "model.sample()\n",
    "model.post_process_amplitude_estimation(\n",
    "    estimation_register_size=3, estimation_method=QaeWithQpeEstimationMethod.BEST_FIT\n",
    ")"
   ]
  }
 ],
 "metadata": {
  "kernelspec": {
   "display_name": "Python 3 (ipykernel)",
   "language": "python",
   "name": "python3"
  },
  "language_info": {
   "codemirror_mode": {
    "name": "ipython",
    "version": 3
   },
   "file_extension": ".py",
   "mimetype": "text/x-python",
   "name": "python",
   "nbconvert_exporter": "python",
   "pygments_lexer": "ipython3",
   "version": "3.11.5"
  }
 },
 "nbformat": 4,
 "nbformat_minor": 5
}
