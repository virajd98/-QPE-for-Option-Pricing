{
 "cells": [
  {
   "cell_type": "code",
   "execution_count": 16,
   "id": "6fa65bc8",
   "metadata": {},
   "outputs": [
    {
     "name": "stdout",
     "output_type": "stream",
     "text": [
      "Requirement already satisfied: classiq in c:\\users\\viraj.dsouza\\appdata\\local\\anaconda3\\lib\\site-packages (0.32.0)\n",
      "Collecting classiq\n",
      "  Obtaining dependency information for classiq from https://files.pythonhosted.org/packages/c4/19/3304f0edaec0f04a47f5628ca79acb5b4dd7a66845c47df9b970926ff90a/classiq-0.33.0-py3-none-any.whl.metadata\n",
      "  Using cached classiq-0.33.0-py3-none-any.whl.metadata (3.0 kB)\n",
      "Requirement already satisfied: ConfigArgParse<2.0.0,>=1.5.3 in c:\\users\\viraj.dsouza\\appdata\\local\\anaconda3\\lib\\site-packages (from classiq) (1.7)\n",
      "Requirement already satisfied: Pyomo<6.6,>=6.5 in c:\\users\\viraj.dsouza\\appdata\\local\\anaconda3\\lib\\site-packages (from classiq) (6.5.0)\n",
      "Requirement already satisfied: httpx<1,>=0.23.0 in c:\\users\\viraj.dsouza\\appdata\\local\\anaconda3\\lib\\site-packages (from classiq) (0.23.3)\n",
      "Requirement already satisfied: keyring<24.0.0,>=23.5.0 in c:\\users\\viraj.dsouza\\appdata\\local\\anaconda3\\lib\\site-packages (from classiq) (23.13.1)\n",
      "Requirement already satisfied: matplotlib<4.0.0,>=3.4.3 in c:\\users\\viraj.dsouza\\appdata\\local\\anaconda3\\lib\\site-packages (from classiq) (3.7.2)\n",
      "Requirement already satisfied: networkx<3.0.0,>=2.5.1 in c:\\users\\viraj.dsouza\\appdata\\local\\anaconda3\\lib\\site-packages (from classiq) (2.8.8)\n",
      "Requirement already satisfied: numexpr<3.0.0,>=2.7.3 in c:\\users\\viraj.dsouza\\appdata\\local\\anaconda3\\lib\\site-packages (from classiq) (2.8.4)\n",
      "Requirement already satisfied: numpy<2.0.0,>=1.20.1 in c:\\users\\viraj.dsouza\\appdata\\local\\anaconda3\\lib\\site-packages (from classiq) (1.24.3)\n",
      "Requirement already satisfied: packaging<22.0,>=21.3 in c:\\users\\viraj.dsouza\\appdata\\local\\anaconda3\\lib\\site-packages (from classiq) (21.3)\n",
      "Requirement already satisfied: pandas<2.0.0,>=1.4.0 in c:\\users\\viraj.dsouza\\appdata\\local\\anaconda3\\lib\\site-packages (from classiq) (1.5.3)\n",
      "Requirement already satisfied: plotly<6.0.0,>=5.7.0 in c:\\users\\viraj.dsouza\\appdata\\local\\anaconda3\\lib\\site-packages (from classiq) (5.9.0)\n",
      "Requirement already satisfied: pydantic<2.0.0,>=1.9.1 in c:\\users\\viraj.dsouza\\appdata\\local\\anaconda3\\lib\\site-packages (from classiq) (1.10.8)\n",
      "Requirement already satisfied: sympy<1.11.0,>=1.9.0 in c:\\users\\viraj.dsouza\\appdata\\local\\anaconda3\\lib\\site-packages (from classiq) (1.10.1)\n",
      "Requirement already satisfied: tabulate<1,>=0.8.9 in c:\\users\\viraj.dsouza\\appdata\\local\\anaconda3\\lib\\site-packages (from classiq) (0.8.10)\n",
      "Requirement already satisfied: certifi in c:\\users\\viraj.dsouza\\appdata\\local\\anaconda3\\lib\\site-packages (from httpx<1,>=0.23.0->classiq) (2023.7.22)\n",
      "Requirement already satisfied: httpcore<0.17.0,>=0.15.0 in c:\\users\\viraj.dsouza\\appdata\\local\\anaconda3\\lib\\site-packages (from httpx<1,>=0.23.0->classiq) (0.16.3)\n",
      "Requirement already satisfied: rfc3986[idna2008]<2,>=1.3 in c:\\users\\viraj.dsouza\\appdata\\local\\anaconda3\\lib\\site-packages (from httpx<1,>=0.23.0->classiq) (1.5.0)\n",
      "Requirement already satisfied: sniffio in c:\\users\\viraj.dsouza\\appdata\\local\\anaconda3\\lib\\site-packages (from httpx<1,>=0.23.0->classiq) (1.2.0)\n",
      "Requirement already satisfied: jaraco.classes in c:\\users\\viraj.dsouza\\appdata\\local\\anaconda3\\lib\\site-packages (from keyring<24.0.0,>=23.5.0->classiq) (3.2.1)\n",
      "Requirement already satisfied: importlib-metadata>=4.11.4 in c:\\users\\viraj.dsouza\\appdata\\local\\anaconda3\\lib\\site-packages (from keyring<24.0.0,>=23.5.0->classiq) (6.0.0)\n",
      "Requirement already satisfied: pywin32-ctypes>=0.2.0 in c:\\users\\viraj.dsouza\\appdata\\local\\anaconda3\\lib\\site-packages (from keyring<24.0.0,>=23.5.0->classiq) (0.2.0)\n",
      "Requirement already satisfied: contourpy>=1.0.1 in c:\\users\\viraj.dsouza\\appdata\\local\\anaconda3\\lib\\site-packages (from matplotlib<4.0.0,>=3.4.3->classiq) (1.0.5)\n",
      "Requirement already satisfied: cycler>=0.10 in c:\\users\\viraj.dsouza\\appdata\\local\\anaconda3\\lib\\site-packages (from matplotlib<4.0.0,>=3.4.3->classiq) (0.11.0)\n",
      "Requirement already satisfied: fonttools>=4.22.0 in c:\\users\\viraj.dsouza\\appdata\\local\\anaconda3\\lib\\site-packages (from matplotlib<4.0.0,>=3.4.3->classiq) (4.25.0)\n",
      "Requirement already satisfied: kiwisolver>=1.0.1 in c:\\users\\viraj.dsouza\\appdata\\local\\anaconda3\\lib\\site-packages (from matplotlib<4.0.0,>=3.4.3->classiq) (1.4.4)\n",
      "Requirement already satisfied: pillow>=6.2.0 in c:\\users\\viraj.dsouza\\appdata\\local\\anaconda3\\lib\\site-packages (from matplotlib<4.0.0,>=3.4.3->classiq) (9.4.0)\n",
      "Requirement already satisfied: pyparsing<3.1,>=2.3.1 in c:\\users\\viraj.dsouza\\appdata\\local\\anaconda3\\lib\\site-packages (from matplotlib<4.0.0,>=3.4.3->classiq) (3.0.9)\n",
      "Requirement already satisfied: python-dateutil>=2.7 in c:\\users\\viraj.dsouza\\appdata\\local\\anaconda3\\lib\\site-packages (from matplotlib<4.0.0,>=3.4.3->classiq) (2.8.2)\n",
      "Requirement already satisfied: pytz>=2020.1 in c:\\users\\viraj.dsouza\\appdata\\local\\anaconda3\\lib\\site-packages (from pandas<2.0.0,>=1.4.0->classiq) (2023.3.post1)\n",
      "Requirement already satisfied: tenacity>=6.2.0 in c:\\users\\viraj.dsouza\\appdata\\local\\anaconda3\\lib\\site-packages (from plotly<6.0.0,>=5.7.0->classiq) (8.2.2)\n",
      "Requirement already satisfied: typing-extensions>=4.2.0 in c:\\users\\viraj.dsouza\\appdata\\local\\anaconda3\\lib\\site-packages (from pydantic<2.0.0,>=1.9.1->classiq) (4.7.1)\n",
      "Requirement already satisfied: ply in c:\\users\\viraj.dsouza\\appdata\\local\\anaconda3\\lib\\site-packages (from Pyomo<6.6,>=6.5->classiq) (3.11)\n",
      "Requirement already satisfied: mpmath>=0.19 in c:\\users\\viraj.dsouza\\appdata\\local\\anaconda3\\lib\\site-packages (from sympy<1.11.0,>=1.9.0->classiq) (1.3.0)\n",
      "Requirement already satisfied: h11<0.15,>=0.13 in c:\\users\\viraj.dsouza\\appdata\\local\\anaconda3\\lib\\site-packages (from httpcore<0.17.0,>=0.15.0->httpx<1,>=0.23.0->classiq) (0.14.0)\n",
      "Requirement already satisfied: anyio<5.0,>=3.0 in c:\\users\\viraj.dsouza\\appdata\\local\\anaconda3\\lib\\site-packages (from httpcore<0.17.0,>=0.15.0->httpx<1,>=0.23.0->classiq) (3.5.0)\n",
      "Requirement already satisfied: zipp>=0.5 in c:\\users\\viraj.dsouza\\appdata\\local\\anaconda3\\lib\\site-packages (from importlib-metadata>=4.11.4->keyring<24.0.0,>=23.5.0->classiq) (3.11.0)\n",
      "Requirement already satisfied: six>=1.5 in c:\\users\\viraj.dsouza\\appdata\\local\\anaconda3\\lib\\site-packages (from python-dateutil>=2.7->matplotlib<4.0.0,>=3.4.3->classiq) (1.16.0)\n",
      "Requirement already satisfied: idna in c:\\users\\viraj.dsouza\\appdata\\local\\anaconda3\\lib\\site-packages (from rfc3986[idna2008]<2,>=1.3->httpx<1,>=0.23.0->classiq) (3.4)\n",
      "Requirement already satisfied: more-itertools in c:\\users\\viraj.dsouza\\appdata\\local\\anaconda3\\lib\\site-packages (from jaraco.classes->keyring<24.0.0,>=23.5.0->classiq) (8.12.0)\n",
      "Using cached classiq-0.33.0-py3-none-any.whl (358 kB)\n",
      "Installing collected packages: classiq\n",
      "  Attempting uninstall: classiq\n",
      "    Found existing installation: classiq 0.32.0\n",
      "    Uninstalling classiq-0.32.0:\n",
      "      Successfully uninstalled classiq-0.32.0\n",
      "Successfully installed classiq-0.33.0\n",
      "Note: you may need to restart the kernel to use updated packages.\n"
     ]
    }
   ],
   "source": [
    "pip install -U classiq"
   ]
  },
  {
   "cell_type": "code",
   "execution_count": 33,
   "id": "3df6c301",
   "metadata": {},
   "outputs": [],
   "source": [
    "#Finance Model\n",
    "\n",
    "#importing necessary modules \n",
    "\n",
    "import classiq\n",
    "from classiq.builtin_functions import PiecewiseLinearAmplitudeLoading, PhaseEstimation\n",
    "from classiq import QUInt, Model, synthesize, show, QReg, ControlState, execute\n",
    "from classiq import FunctionGenerator, FunctionLibrary, RegisterUserInput\n",
    "from classiq.builtin_functions import LinearPauliRotations, StatePreparation\n",
    "from classiq.builtin_functions import XGate, UGate, ZGate\n",
    "from classiq.model import Constraints\n",
    "from classiq.execution import ExecutionDetails\n",
    "import numpy as np\n",
    "import matplotlib.pyplot as plt"
   ]
  },
  {
   "cell_type": "code",
   "execution_count": 34,
   "id": "f95933fe",
   "metadata": {},
   "outputs": [
    {
     "name": "stdout",
     "output_type": "stream",
     "text": [
      "[0.         0.03571429 0.07142857 0.10714286 0.14285714 0.17857143\n",
      " 0.21428571 0.25      ]\n"
     ]
    }
   ],
   "source": [
    "#state preparation block \n",
    "\n",
    "sp_num_qubits = 3\n",
    "\n",
    "qmci_library = FunctionLibrary()\n",
    "function_generator =  FunctionGenerator(function_name=\"state_loading\")\n",
    "\n",
    "\n",
    "input_dict = function_generator.create_inputs({\"io\": QUInt[sp_num_qubits], \"ind\": QUInt[1]})\n",
    "probabilities = np.linspace(0, 1, 2**sp_num_qubits) / sum(\n",
    "    np.linspace(0, 1, 2**sp_num_qubits))\n",
    "\n",
    "#can be specified, this is just an example\n",
    "#for a better code, I will make the probabilities list a user input \n",
    "#and give options of usual distributions like Gaussian, log-normal etc\n",
    "\n",
    "print(probabilities)\n",
    "\n",
    "sp_params = StatePreparation(\n",
    "    probabilities=probabilities, error_metric={\"KL\": {\"upper_bound\": 0.00}}\n",
    ")\n",
    "\n",
    "sp_output = function_generator.StatePreparation(\n",
    "    params=sp_params, strict_zero_ios=False, in_wires={\"IN\": input_dict[\"io\"]})\n",
    "\n",
    "# print(sp_output)\n",
    "\n",
    "function_generator.set_outputs({\"io\": sp_output[\"OUT\"], \"ind\": input_dict[\"ind\"]})\n",
    "qmci_library.add_function(function_generator.to_function_definition())\n"
   ]
  },
  {
   "cell_type": "code",
   "execution_count": 36,
   "id": "7606f960",
   "metadata": {},
   "outputs": [
    {
     "name": "stdout",
     "output_type": "stream",
     "text": [
      "{'state': <classiq.quantum_register.QUInt object at 0x00000235ECD39D90>, 'target': <classiq.quantum_register.QUInt object at 0x00000235EDF6BC50>}\n"
     ]
    }
   ],
   "source": [
    "#Amplitude Loading block\n",
    "\n",
    "function_generator = FunctionGenerator(function_name=\"amp_load\")\n",
    "\n",
    "input_dict = function_generator.create_inputs(\n",
    "    {\"io\": QUInt[sp_num_qubits], \"ind\": QUInt[1]}\n",
    ")\n",
    "\n",
    "amplitude_loading_params = PiecewiseLinearAmplitudeLoading(\n",
    "    num_qubits=3,\n",
    "    breakpoints=[0.5, 3.14, 5],\n",
    "    affine_maps=[{\"offset\": 0, \"slope\": 0}, {\"offset\": -3.14, \"slope\": 1}],\n",
    "    rescaling_factor=0.001)\n",
    "\n",
    "#breakpoints=[s0 * Y[0], k, s0 * Y[-1]]\n",
    "\n",
    "al_output = function_generator.PiecewiseLinearAmplitudeLoading(\n",
    "    params=amplitude_loading_params, strict_zero_ios=False, in_wires={\"state\":input_dict[\"io\"], \"target\": input_dict[\"ind\"]}\n",
    ")\n",
    "print(al_output)\n",
    "# scaled_expectation_value = 0.7  # Probability of 1 after some execution\n",
    "# expectation_value = amplitude_loading_params.compute_expectation_value(\n",
    "#     scaled_expectation_value\n",
    "# )\n",
    "function_generator.set_outputs({\"io\": al_output[\"state\"], \"ind\": al_output[\"target\"]})\n",
    "qmci_library.add_function(function_generator.to_function_definition())"
   ]
  },
  {
   "cell_type": "code",
   "execution_count": 37,
   "id": "bfda5e11",
   "metadata": {},
   "outputs": [
    {
     "name": "stdout",
     "output_type": "stream",
     "text": [
      "EXPECTED PAYOFF: 0.5421428571428573\n"
     ]
    }
   ],
   "source": [
    "#Expected Outcome\n",
    "\n",
    "sp_num_qubits= 3\n",
    "probabilities = np.linspace(0, 1, 2**sp_num_qubits) / sum(\n",
    "    np.linspace(0, 1, 2**sp_num_qubits)\n",
    ")\n",
    "k=3.14\n",
    "s0= 5\n",
    "Y= [0.1, 0.2, 0.3, 0.4, 0.5, 0.6, 0.7, 1]\n",
    "expected_expectation_value = sum(\n",
    "    [probabilities[x] * max(s0 * Y[x] - k, 0) for x in range(len(probabilities))]\n",
    ")\n",
    "print('EXPECTED PAYOFF:', expected_expectation_value)"
   ]
  },
  {
   "cell_type": "code",
   "execution_count": 38,
   "id": "8c25a0a4",
   "metadata": {},
   "outputs": [],
   "source": [
    "#Good state Oracle\n",
    "\n",
    "function_generator = FunctionGenerator(function_name=\"good_state_oracle\")\n",
    "\n",
    "input_dict = function_generator.create_inputs(\n",
    "    {\"io\": QUInt[sp_num_qubits], \"ind\": QUInt[1]}\n",
    ")\n",
    "\n",
    "z_out = function_generator.ZGate(\n",
    "    params=ZGate(),\n",
    "    in_wires={\"TARGET\": input_dict[\"ind\"]},\n",
    ")\n",
    "\n",
    "function_generator.set_outputs({\"ind\": z_out[\"TARGET\"], \"io\": input_dict[\"io\"]})\n",
    "qmci_library.add_function(function_generator.to_function_definition())"
   ]
  },
  {
   "cell_type": "code",
   "execution_count": 39,
   "id": "466536d5",
   "metadata": {},
   "outputs": [],
   "source": [
    "#Function representing reflection about the zero state\n",
    "\n",
    "function_generator = FunctionGenerator(function_name=\"zero_oracle\")\n",
    "\n",
    "reg_size = sp_num_qubits + 1\n",
    "input_dict = function_generator.create_inputs({\"mcz_io\": QUInt[reg_size]})\n",
    "\n",
    "x_out = function_generator.XGate(\n",
    "    params=XGate(),\n",
    "    in_wires={\"TARGET\": input_dict[\"mcz_io\"][0]},\n",
    "    should_control=False,\n",
    ")\n",
    "\n",
    "control_states = ControlState(ctrl_state=\"0\" * (reg_size - 1), name=\"ctrl_reg\")\n",
    "\n",
    "mcz_out = function_generator.ZGate(\n",
    "    params=ZGate(),\n",
    "    control_states=control_states,\n",
    "    in_wires={\"TARGET\": x_out[\"TARGET\"], \"ctrl_reg\": input_dict[\"mcz_io\"][1:reg_size]},\n",
    ")\n",
    "\n",
    "x_out = function_generator.XGate(\n",
    "    params=XGate(), in_wires={\"TARGET\": mcz_out[\"TARGET\"]}, should_control=False\n",
    ")\n",
    "\n",
    "function_generator.set_outputs(\n",
    "    {\"mcz_io\": QReg.concat(x_out[\"TARGET\"], mcz_out[\"ctrl_reg\"])}\n",
    ")\n",
    "\n",
    "qmci_library.add_function(function_generator.to_function_definition())"
   ]
  },
  {
   "cell_type": "code",
   "execution_count": 40,
   "id": "adce5aec",
   "metadata": {},
   "outputs": [],
   "source": [
    "## composite for Grover Diffuser\n",
    "\n",
    "function_generator = FunctionGenerator(function_name=\"grover\")\n",
    "function_generator.include_library(qmci_library)\n",
    "\n",
    "\n",
    "in_wires = function_generator.create_inputs(\n",
    "    {\"io\": QUInt[sp_num_qubits], \"ind\": QUInt[1]}\n",
    ")\n",
    "\n",
    "oracle_out = function_generator.good_state_oracle(in_wires=in_wires)\n",
    "\n",
    "pay_off_load_inv= function_generator.amp_load(in_wires={\"io\": oracle_out[\"io\"], \"ind\": oracle_out[\"ind\"]})\n",
    "\n",
    "sps_inverse_out = function_generator.state_loading(\n",
    "    in_wires={\"io\": pay_off_load_inv[\"io\"], \"ind\": pay_off_load_inv[\"ind\"]},\n",
    "    is_inverse=True,\n",
    "    should_control=False,\n",
    ")\n",
    "\n",
    "zero_oracle_out = function_generator.zero_oracle(\n",
    "    in_wires={\"mcz_io\": QReg.concat(sps_inverse_out[\"io\"], sps_inverse_out[\"ind\"])}\n",
    ")\n",
    "\n",
    "sps_out = function_generator.state_loading(\n",
    "    in_wires={\n",
    "        \"io\": zero_oracle_out[\"mcz_io\"][0:sp_num_qubits],\n",
    "        \"ind\": zero_oracle_out[\"mcz_io\"][sp_num_qubits],\n",
    "    },\n",
    "    should_control=False,\n",
    ")\n",
    "\n",
    "pay_off_load= function_generator.amp_load(in_wires={\"io\": sps_out[\"io\"], \"ind\": sps_out[\"ind\"]})\n",
    "\n",
    "global_phase_out = function_generator.UGate(\n",
    "    UGate(theta=0, phi=0, lam=0, gam=np.pi), in_wires={\"TARGET\": pay_off_load[\"ind\"]}\n",
    ")\n",
    "\n",
    "function_generator.set_outputs({\"io\": pay_off_load[\"io\"], \"ind\": global_phase_out[\"TARGET\"]})\n",
    "\n",
    "qmci_library.add_function(function_generator.to_function_definition())"
   ]
  },
  {
   "cell_type": "code",
   "execution_count": 43,
   "id": "ed639a7d",
   "metadata": {},
   "outputs": [
    {
     "name": "stdout",
     "output_type": "stream",
     "text": [
      "Opening: https://platform.classiq.io/circuit/27cdb38e-4650-48bc-8da4-b18f560f52d9?version=0.32.1\n"
     ]
    }
   ],
   "source": [
    "#APPLYING AMPLITUDE ESTIMATION (AE) WITH QUANTUM PHASE ESTIMATION (QPE)\n",
    "\n",
    "n_qpe = 2\n",
    "model = Model()\n",
    "model.include_library(qmci_library)\n",
    "sp_output = model.state_loading()\n",
    "al_output= model.amp_load(in_wires={\"io\": sp_output[\"io\"], \"ind\": sp_output[\"ind\"]})\n",
    "\n",
    "qpe_out = model.PhaseEstimation(\n",
    "    params=PhaseEstimation(\n",
    "        size=n_qpe, unitary_params=qmci_library.get_function(\"grover\"), unitary=\"grover\"\n",
    "    ),\n",
    "    in_wires={\"io\": al_output[\"io\"], \"ind\": al_output[\"ind\"]},\n",
    ")\n",
    "\n",
    "model.set_outputs({\"phase_result\": qpe_out[\"PHASE_ESTIMATION\"]})\n",
    "qprog = synthesize(model.get_model())\n",
    "show(qprog)"
   ]
  },
  {
   "cell_type": "code",
   "execution_count": 44,
   "id": "ba6324c5",
   "metadata": {},
   "outputs": [
    {
     "data": {
      "image/png": "[encoded data removed]",
      "text/plain": [
       "<Figure size 640x480 with 1 Axes>"
      ]
     },
     "metadata": {},
     "output_type": "display_data"
    },
    {
     "name": "stdout",
     "output_type": "stream",
     "text": [
      "phase with max probability:  0.0\n",
      "measured amplitude/PAYOFF:  0.0\n"
     ]
    }
   ],
   "source": [
    "results = execute(qprog).result()\n",
    "\n",
    "from classiq.execution import ExecutionDetails\n",
    "\n",
    "res = results[0].value\n",
    "\n",
    "phases_counts = res.parsed_counts\n",
    "\n",
    "## mapping between register string to phases\n",
    "phases_counts = dict(\n",
    "    (sampled_state.state[\"phase_result\"] / 2**n_qpe, sampled_state.shots)\n",
    "    for sampled_state in res.parsed_counts\n",
    ")\n",
    "\n",
    "plt.bar(phases_counts.keys(), phases_counts.values(), width=0.1)\n",
    "plt.xticks(rotation=90)\n",
    "plt.show()\n",
    "print(\"phase with max probability: \", max(phases_counts, key=phases_counts.get))\n",
    "\n",
    "print(\n",
    "    \"measured amplitude/PAYOFF: \",\n",
    "    np.sin(np.pi * max(phases_counts, key=phases_counts.get)) ** 2,\n",
    ")"
   ]
  },
  {
   "cell_type": "code",
   "execution_count": null,
   "id": "734b12cf",
   "metadata": {},
   "outputs": [],
   "source": []
  }
 ],
 "metadata": {
  "kernelspec": {
   "display_name": "Python 3 (ipykernel)",
   "language": "python",
   "name": "python3"
  },
  "language_info": {
   "codemirror_mode": {
    "name": "ipython",
    "version": 3
   },
   "file_extension": ".py",
   "mimetype": "text/x-python",
   "name": "python",
   "nbconvert_exporter": "python",
   "pygments_lexer": "ipython3",
   "version": "3.11.5"
  }
 },
 "nbformat": 4,
 "nbformat_minor": 5
}
