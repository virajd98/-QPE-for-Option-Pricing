{
 "cells": [
  {
   "cell_type": "code",
   "execution_count": 3,
   "id": "dd105bbf",
   "metadata": {},
   "outputs": [],
   "source": [
    "#quantum fourrier transform (qft) function\n",
    "\n",
    "\n",
    "import cirq\n",
    "from cirq.circuits import InsertStrategy\n",
    "from cirq import H, SWAP, CZPowGate \n",
    "import cirq\n",
    "\n",
    "def qft(n,qubits,circuit):\n",
    "    \n",
    "    #For each qubit\n",
    "    for i in range(n):\n",
    "        #Apply Hadamard to the qubit\n",
    "        circuit.append(H(qubits[i]), strategy = InsertStrategy.NEW)\n",
    "        #The InsertStrategy enum defines different strategies for inserting gates into a quantum circuit. \n",
    "        #The InsertStrategy.NEW strategy tells the circuit to insert the gate at the end of the circuit, \n",
    "        #regardless of where other gates are located\n",
    "        \n",
    "        #Apply CR_k gates where j is the control and i is the target\n",
    "        k=2 #We start with k=2\n",
    "        t=2/2**(k)\n",
    "        for j in range(i+1,n):\n",
    "            #Define and apply CR_k gate \n",
    "            cirq.CZPowGate(exponent=t)\n",
    "            crk = CZPowGate(exponent = 2/2**(k))\n",
    "            circuit.append(crk(qubits[j],qubits[i]))\n",
    "            k=k+1 #Increment k at each step\n",
    " \n",
    "        #Swap the qubits\n",
    "    for i in range(n//2):\n",
    "        circuit.append(SWAP(qubits[i],qubits[n-i-1]), strategy = InsertStrategy.NEW)"
   ]
  },
  {
   "cell_type": "code",
   "execution_count": 4,
   "id": "0d1f9f02",
   "metadata": {},
   "outputs": [],
   "source": [
    "# This is how you input states to the QFT circuit\n",
    "\n",
    "# n=3 \n",
    "\n",
    "# inputs = ['000','001','010','011','100','101','110','111']\n",
    "\n",
    "# for input in inputs:\n",
    "\n",
    "#     qlist=cirq.LineQubit.range(n)\n",
    "#     circuit= cirq.Circuit()\n",
    "#     if input[0]=='1':\n",
    "#         circuit.append(cirq.X(qlist[0]))    \n",
    "#     if input[1]=='1':\n",
    "#         circuit.append(cirq.X(qlist[1]))   \n",
    "#     if input[2]=='1':\n",
    "#         circuit.append(cirq.X(qlist[2]))\n",
    "#     qft(3,qlist,circuit)\n",
    "#     print(circuit)\n",
    "#     s= cirq.Simulator()\n",
    "#     result=s.simulate(circuit)\n",
    "#     print(\"Res:\",result)\n",
    "#     print(\"For input:\",input)\n",
    "#     print('QFT of {x} is {y}'.format(x=input, y=result))\n"
   ]
  },
  {
   "cell_type": "code",
   "execution_count": 5,
   "id": "6b0ada7b",
   "metadata": {},
   "outputs": [],
   "source": [
    "#Inverse QFT Function\n",
    "\n",
    "def iqft(n,qubits,circuit):\n",
    "    #Swap\n",
    "    for i in range(n//2):\n",
    "        circuit.append(SWAP(qubits[i],qubits[n-i-1]), strategy = InsertStrategy.NEW) \n",
    "    for i in range(n-1,-1,-1):\n",
    "        #Apply CR_k gates where j is the control and i is the target\n",
    "        k=n-i #We start with k=n-i\n",
    "        for j in range(n-1,i,-1):\n",
    "            #Define and apply CR_k gate\n",
    "            crk = CZPowGate(exponent = -2/2**(k))\n",
    "            circuit.append(crk(qubits[j],qubits[i]),strategy = InsertStrategy.NEW)\n",
    "            k=k-1\n",
    "        #Apply Hadamard to the qubit\n",
    "        circuit.append(H(qubits[i]), strategy = InsertStrategy.NEW)"
   ]
  },
  {
   "cell_type": "code",
   "execution_count": 6,
   "id": "dda22769",
   "metadata": {},
   "outputs": [],
   "source": [
    "#Function implementing QPE\n",
    "\n",
    "def qpe(t,control, target, circuit, CU):\n",
    "    circuit.append(H.on_each(control))\n",
    "    #Apply Hadamard to control qubits\n",
    "    for i in range(t):\n",
    "        CUi = CU**(2**i)\n",
    "        circuit.append(CUi(control[t-i-1],*target))\n",
    "    #Apply CU gates\n",
    "    iqft(t, control, circuit)  \n",
    "    #Apply inverse QFT"
   ]
  },
  {
   "cell_type": "code",
   "execution_count": 14,
   "id": "ec594427",
   "metadata": {},
   "outputs": [],
   "source": [
    "from cirq import CZPowGate\n",
    "phase = 3/16  \n",
    "CU = CZPowGate(exponent=phase*2)#We need a 2 since CZPowGate adds a phase of e^{\\pi i \\phi}."
   ]
  },
  {
   "cell_type": "code",
   "execution_count": 15,
   "id": "96a797b5",
   "metadata": {},
   "outputs": [
    {
     "name": "stdout",
     "output_type": "stream",
     "text": [
      "<class 'cirq.circuits.circuit.Circuit'>\n",
      "Sample the circuit:\n",
      "Counter({3: 1000})\n",
      "0: ───H───────────────────────────────@───×───────────────────────────────────────────────@──────────@─────────@────────H───M('result')───\n",
      "                                      │   │                                               │          │         │            │\n",
      "1: ───H──────────────────────@────────┼───┼───×────────────────────@─────────@────────H───┼──────────┼─────────@^-0.5───────M─────────────\n",
      "                             │        │   │   │                    │         │            │          │                      │\n",
      "2: ───H─────────────@────────┼────────┼───┼───×───────@────────H───┼─────────@^-0.5───────┼──────────@^-0.25────────────────M─────────────\n",
      "                    │        │        │   │           │            │                      │                                 │\n",
      "3: ───H───@─────────┼────────┼────────┼───×───────H───@^-0.5───────@^-0.25────────────────@^(-1/8)──────────────────────────M─────────────\n",
      "          │         │        │        │\n",
      "4: ───X───@^(3/8)───@^0.75───@^-0.5───@───────────────────────────────────────────────────────────────────────────────────────────────────\n"
     ]
    }
   ],
   "source": [
    "import cirq\n",
    "from cirq import X\n",
    "from cirq.contrib.svg import SVGCircuit\n",
    "\n",
    "#Create cirucit\n",
    "circuit = cirq.Circuit()\n",
    "print(type(circuit))\n",
    "t=4 #Number of qubits in the control register\n",
    "#This depends on the precision on the phase you need \n",
    "n=1 #Number of qubits in the register storing eigenvector\n",
    "\n",
    "#Create t control qubits\n",
    "control = [cirq.LineQubit(i) for i in range(t) ]\n",
    "\n",
    "#Create n target qubits\n",
    "target = [cirq.LineQubit(i) for i in range(t,t+n) ]\n",
    "\n",
    "#Set target qubit to state |1> \n",
    "circuit.append(X.on_each(target))\n",
    "\n",
    "#Apply QPE\n",
    "\n",
    "qpe(t,control, target, circuit, CU)\n",
    "circuit.append(cirq.measure(*control, key='result')) \n",
    "\n",
    "#The key='result' argument in the line circuit.append(cirq.measure(*control, key='result')) tells \n",
    "#the quantum circuit to store the measurement results in a variable called result.\n",
    "s=cirq.Simulator()\n",
    "print('Sample the circuit:')\n",
    "samples=s.run(circuit, repetitions=1000)\n",
    "\n",
    "# Print a histogram of results\n",
    "print(samples.histogram(key='result'))\n",
    "print(circuit)"
   ]
  },
  {
   "cell_type": "markdown",
   "id": "0b9768e3",
   "metadata": {},
   "source": [
    "The phase can thus be calculated to be $\\phi= \\frac{3}{2^{4}} = \\frac{3}{16}$ (since $t=4$). This is exactly as expected."
   ]
  },
  {
   "cell_type": "code",
   "execution_count": 16,
   "id": "4cea2ddb",
   "metadata": {},
   "outputs": [],
   "source": [
    "import numpy as np\n",
    "array = np.array([[1, 0, 0, 0],[0, 1, 0, 0],[0, 0, 1, 0],[0, 0, 0, -0.4762382+0.87931631j]])\n",
    "\n",
    "U = cirq.MatrixGate(array)  #the U matrix is given here, we have to estimate the phase\n",
    "CU = U.controlled()"
   ]
  },
  {
   "cell_type": "code",
   "execution_count": 21,
   "id": "5b5f564b",
   "metadata": {},
   "outputs": [
    {
     "name": "stdout",
     "output_type": "stream",
     "text": [
      "Counter({1: 735, 0: 265}) 1\n",
      "Counter({1: 731, 2: 161, 3: 55, 0: 53}) 2\n",
      "Counter({3: 631, 2: 212, 4: 53, 1: 38, 5: 27, 0: 16, 7: 13, 6: 10}) 3\n",
      "Counter({5: 804, 6: 102, 4: 33, 7: 17, 8: 8, 1: 6, 3: 6, 12: 6, 2: 5, 9: 4, 0: 3, 11: 2, 14: 1, 10: 1, 15: 1, 13: 1}) 4\n",
      "Counter({11: 458, 10: 368, 9: 46, 12: 38, 8: 19, 13: 16, 7: 6, 15: 6, 14: 6, 6: 5, 5: 4, 19: 3, 2: 3, 17: 3, 16: 2, 20: 2, 1: 2, 24: 2, 22: 2, 23: 2, 4: 2, 0: 1, 25: 1, 29: 1, 18: 1, 3: 1}) 5\n",
      "Counter({21: 993, 20: 3, 23: 2, 18: 1, 22: 1}) 6\n",
      "Counter({42: 963, 43: 19, 41: 9, 44: 5, 39: 1, 45: 1, 38: 1, 40: 1}) 7\n",
      "Counter({84: 859, 85: 58, 83: 25, 86: 10, 82: 9, 87: 7, 80: 6, 88: 3, 89: 3, 77: 2, 61: 1, 90: 1, 56: 1, 91: 1, 49: 1, 128: 1, 63: 1, 73: 1, 93: 1, 145: 1, 58: 1, 70: 1, 81: 1, 194: 1, 99: 1, 79: 1, 76: 1, 78: 1}) 8\n",
      "Counter({168: 521, 169: 306, 167: 44, 170: 40, 171: 13, 166: 9, 165: 9, 172: 8, 174: 5, 173: 5, 164: 4, 158: 3, 176: 2, 156: 2, 163: 2, 162: 2, 175: 2, 178: 2, 187: 1, 177: 1, 181: 1, 343: 1, 161: 1, 452: 1, 140: 1, 159: 1, 109: 1, 201: 1, 182: 1, 147: 1, 152: 1, 97: 1, 143: 1, 23: 1, 197: 1, 133: 1, 196: 1, 284: 1, 154: 1}) 9\n"
     ]
    }
   ],
   "source": [
    "import cirq\n",
    "\n",
    "n=2\n",
    "for t in range (1,10):\n",
    "    #Create cirucit\n",
    "    circuit = cirq.Circuit()\n",
    "#Create t control qubits\n",
    "    control = [cirq.LineQubit(i) for i in range(t) ]\n",
    "#Create n target qubits\n",
    "    target = [cirq.LineQubit(i) for i in range(t,t+n) ]\n",
    "#Set target qubit to state |1> \n",
    "    circuit.append(X.on_each(target))\n",
    "#Apply QPE\n",
    "    qpe(t,control, target, circuit, CU)\n",
    "    circuit.append(cirq.measure(*control, key='result')) \n",
    "#The key='result' argument in the line circuit.append(cirq.measure(*control, key='result')) tells \n",
    "#the quantum circuit to store the measurement results in a variable called result.\n",
    "    s=cirq.Simulator()\n",
    "#     print('Sample the circuit:')\n",
    "    samples=s.run(circuit, repetitions=1000)\n",
    "# Print a histogram of results\n",
    "    print(samples.histogram(key='result'), t)\n",
    "#     print(circuit)"
   ]
  },
  {
   "cell_type": "markdown",
   "id": "46a6a082",
   "metadata": {},
   "source": [
    "The estimated phase here is $\\phi_{6}= \\frac{21}{2^6} = 0.328125 $. The reason we chose $t=6$ is because beyond that $t$ the precision of the phase estimated is almost the same. Hence this is the most precise phase the $QPE$ algorithm can give us. $21$ comes from the fact that most probable measurement values for $t=6$ circuit is $21$."
   ]
  },
  {
   "cell_type": "code",
   "execution_count": null,
   "id": "5bd0350d",
   "metadata": {},
   "outputs": [],
   "source": []
  }
 ],
 "metadata": {
  "kernelspec": {
   "display_name": "Python 3 (ipykernel)",
   "language": "python",
   "name": "python3"
  },
  "language_info": {
   "codemirror_mode": {
    "name": "ipython",
    "version": 3
   },
   "file_extension": ".py",
   "mimetype": "text/x-python",
   "name": "python",
   "nbconvert_exporter": "python",
   "pygments_lexer": "ipython3",
   "version": "3.11.3"
  }
 },
 "nbformat": 4,
 "nbformat_minor": 5
}
